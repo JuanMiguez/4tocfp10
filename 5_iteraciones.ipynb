{
  "nbformat": 4,
  "nbformat_minor": 0,
  "metadata": {
    "colab": {
      "provenance": [],
      "authorship_tag": "ABX9TyNPkJ793x8oCF0iyZE1xHD3",
      "include_colab_link": true
    },
    "kernelspec": {
      "name": "python3",
      "display_name": "Python 3"
    },
    "language_info": {
      "name": "python"
    }
  },
  "cells": [
    {
      "cell_type": "markdown",
      "metadata": {
        "id": "view-in-github",
        "colab_type": "text"
      },
      "source": [
        "<a href=\"https://colab.research.google.com/github/JuanMiguez/4tocfp10/blob/main/5_iteraciones.ipynb\" target=\"_parent\"><img src=\"https://colab.research.google.com/assets/colab-badge.svg\" alt=\"Open In Colab\"/></a>"
      ]
    },
    {
      "cell_type": "markdown",
      "source": [
        "#Iteraciones"
      ],
      "metadata": {
        "id": "-89AtXpFsVdy"
      }
    },
    {
      "cell_type": "markdown",
      "source": [
        "##Actualización de variables\n",
        "Uno de los usos habituales de las sentencias de asignación consiste en realizar una\n",
        "actualización sobre una variable – en la cual el valor nuevo de esa variable depende\n",
        "del antiguo.\n",
        "\n",
        "```\n",
        "x = x + 1\n",
        "```\n",
        "\n",
        "Esto quiere decir “‘toma el valor actual de x, añádele 1, y luego actualiza x con el\n",
        "nuevo valor”.\n",
        "Si intentas actualizar una variable que no existe, obtendrás un error, ya que Python\n",
        "evalúa el lado derecho antes de asignar el valor a x:"
      ],
      "metadata": {
        "id": "Td7p472JsIiO"
      }
    },
    {
      "cell_type": "code",
      "source": [
        "x = x + 1"
      ],
      "metadata": {
        "colab": {
          "base_uri": "https://localhost:8080/",
          "height": 179
        },
        "id": "te-l8LrjsTZl",
        "outputId": "eb46dd03-0dc1-4a3f-b5f0-62d8e91af7e0"
      },
      "execution_count": null,
      "outputs": [
        {
          "output_type": "error",
          "ename": "NameError",
          "evalue": "ignored",
          "traceback": [
            "\u001b[0;31m---------------------------------------------------------------------------\u001b[0m",
            "\u001b[0;31mNameError\u001b[0m                                 Traceback (most recent call last)",
            "\u001b[0;32m<ipython-input-1-2d25c2ef041b>\u001b[0m in \u001b[0;36m<cell line: 1>\u001b[0;34m()\u001b[0m\n\u001b[0;32m----> 1\u001b[0;31m \u001b[0mx\u001b[0m \u001b[0;34m=\u001b[0m \u001b[0mx\u001b[0m \u001b[0;34m+\u001b[0m \u001b[0;36m1\u001b[0m\u001b[0;34m\u001b[0m\u001b[0;34m\u001b[0m\u001b[0m\n\u001b[0m",
            "\u001b[0;31mNameError\u001b[0m: name 'x' is not defined"
          ]
        }
      ]
    },
    {
      "cell_type": "markdown",
      "source": [
        "Antes de que puedas actualizar una variable, debes inicializarla, normalmente mediante\n",
        "una simple asignación:"
      ],
      "metadata": {
        "id": "oh2QvuQit3rq"
      }
    },
    {
      "cell_type": "code",
      "source": [
        "x = 0\n",
        "x = x + 1"
      ],
      "metadata": {
        "id": "U_i7pLI8t7A_"
      },
      "execution_count": null,
      "outputs": []
    },
    {
      "cell_type": "markdown",
      "source": [
        "Actualizar una variable añadiéndole 1 se denomina *incrementar*; restarle 1 recibe\n",
        "el nombre de *decrementar* (o disminuir)."
      ],
      "metadata": {
        "id": "sXASM6rGuAj5"
      }
    },
    {
      "cell_type": "markdown",
      "source": [
        "##La sentencia while"
      ],
      "metadata": {
        "id": "WAWBkRyfuIXK"
      }
    },
    {
      "cell_type": "markdown",
      "source": [
        "Los PCs se suelen utilizar a menudo para automatizar tareas repetitivas. Repetir tareas idénticas o muy similares sin cometer errores es algo que a las máquinas se les da bien y en cambio a las personas no. Como las iteraciones resultan tan habituales, Python proporciona varias características en su lenguaje para hacerlas\n",
        "más sencillas.\n",
        "Una forma de iteración en Python es la sentencia **while**. He aquí un programa sencillo que cuenta hacia atrás desde cinco y luego dice “¡Despegue!”.\n",
        "```\n",
        "n = 5\n",
        "while n > 0:\n",
        "print(n)\n",
        "n = n - 1\n",
        "print('¡Despegue!')\n",
        "```\n",
        "Casi se puede leer la sentencia **while** como si estuviera escrita en inglés. Significa, “Mientras **n** sea mayor que 0, muestra el valor de **n** y luego reduce el valor de **n** en 1 unidad. Cuando llegues a 0, sal de la sentencia **while** y muestra la palabra **¡Despegue!**”\n",
        "Éste es el flujo de ejecución de la sentencia while, explicado de un modo más formal:\n",
        "1. Se evalúa la condición, obteniendo Verdadero or Falso.\n",
        "2. Si la condición es falsa, se sale de la sentencia while y se continúa la ejecución en la siguiente sentencia.\n",
        "3. Si la condición es verdadera, se ejecuta el cuerpo del while y luego se vuelve al paso 1.\n",
        "\n",
        "Este tipo de flujo recibe el nombre de *bucle*, ya que el tercer paso enlaza de nuevo con el primero. Cada vez que se ejecuta el cuerpo del bucle se dice que realizamos una iteración. Para el bucle anterior, podríamos decir que “ha tenido cinco iteraciones”,\n",
        "lo que significa que el cuerpo del *bucle* se ha ejecutado cinco veces.\n",
        "El cuerpo del bucle debe cambiar el valor de una o más variables, de modo que la condición pueda en algún momento evaluarse como falsa y el bucle termine. La variable que cambia cada vez que el bucle se ejecuta y controla cuándo termina éste, recibe el nombre de *variable de iteración*. Si no hay variable de iteración, el\n",
        "bucle se repetirá para siempre, resultando así un bucle *infinito*.\n"
      ],
      "metadata": {
        "id": "Ig63jvaIuMBp"
      }
    },
    {
      "cell_type": "markdown",
      "source": [
        "##Bucles infinitos"
      ],
      "metadata": {
        "id": "Q22f8YXHvrrE"
      }
    },
    {
      "cell_type": "markdown",
      "source": [
        "Una fuente de diversión sin fin para los programadores es la constatación de que las instrucciones del champú: “Enjabone, aclare, repita”, son un bucle infinito, ya que no hay una *variable de iteración* que diga cuántas veces debe ejecutarse el proceso.\n",
        "En el caso de una **cuenta atrás**, podemos verificar que el bucle termina, ya que sabemos que el valor de **n** es finito, y podemos ver que ese valor se va haciendo más pequeño cada vez que se repite el bucle, de modo que en algún momento llegará a 0. Otras veces un bucle es obviamente infinito, porque no tiene ninguna variable\n",
        "de iteración."
      ],
      "metadata": {
        "id": "GBLSzL4xv2mq"
      }
    },
    {
      "cell_type": "markdown",
      "source": [
        "##“Bucles infinitos” y break"
      ],
      "metadata": {
        "id": "psA7COiDwT-J"
      }
    },
    {
      "cell_type": "markdown",
      "source": [
        "A veces no se sabe si hay que terminar un bucle hasta que se ha recorrido la mitad del cuerpo del mismo. En ese caso se puede crear un bucle infinito a propósito y usar la sentencia **break** para salir fuera de él cuando se desee.\n",
        "\n",
        " El bucle siguiente es, obviamente, un bucle infinito, porque la expresión lógica de la sentencia **while** es simplemente la constante lógica **True** (**verdadero**);\n",
        "```\n",
        "n = 10\n",
        "while True:\n",
        "  print(n, end=' ')\n",
        "  n = n - 1\n",
        "print('¡Terminado!')\n",
        "```\n",
        "Si cometes el error de ejecutar este código, aprenderás rápidamente cómo detener un proceso de Python bloqueado en el sistema, o tendrás que localizar dónde se encuentra el botón de apagado de tu equipo. Este programa funcionará para siempre, o hasta que la batería del equipo se termine, ya que la expresión lógica al\n",
        "principio del bucle es siempre cierta, en virtud del hecho de que esa expresión es precisamente el valor constante **True**.\n",
        "\n",
        "A pesar de que en este caso se trata de un bucle infinito inútil, se puede usar ese diseño para construir bucles útiles, siempre que se tenga la precaución de añadir código en el cuerpo del bucle para salir explícitamente, usando **break** cuando se haya alcanzado la condición de salida.\n",
        "Por ejemplo, supón que quieres recoger entradas de texto del usuario hasta que éste escriba **fin**. Podrías escribir:\n",
        "```\n",
        "while True:\n",
        "  linea = input('> ')\n",
        "  if linea == 'fin':\n",
        "    break\n",
        "  print(linea)\n",
        "print('¡Terminado!')\n",
        "```\n",
        "\n",
        "La condición del bucle es **True**, lo cual es verdadero siempre, así que el bucle se repetirá hasta que se ejecute la sentencia break.\n",
        "Cada vez que se entre en el bucle, se pedirá una entrada al usuario. Si el usuario escribe **fin**, la sentencia **break** hará que se salga del bucle. En cualquier otro caso, el programa repetirá cualquier cosa que el usuario escriba y volverá al principio del bucle. Éste es un ejemplo de su funcionamiento:\n",
        "```\n",
        "> hola a todos\n",
        "hola a todos\n",
        "> he terminado\n",
        "he terminado\n",
        "> fin\n",
        "¡Terminado!\n",
        "```\n",
        "Este modo de escribir bucles **while** es habitual, ya que así se puede comprobar la condición en cualquier punto del bucle (no sólo al principio), y se puede expresar la condición de parada afirmativamente (“detente cuando ocurra. . . ”), en vez de tener que hacerlo con lógica negativa (“sigue haciéndolo hasta que ocurra. . . ”)."
      ],
      "metadata": {
        "id": "IvPVTdHywaSc"
      }
    },
    {
      "cell_type": "markdown",
      "source": [
        "## Finalizar iteraciones con continue"
      ],
      "metadata": {
        "id": "2R-78Hugyqaw"
      }
    },
    {
      "cell_type": "markdown",
      "source": [
        "Algunas veces, estando dentro de un bucle se necesita terminar con la iteración actual y saltar a la siguiente de forma inmediata. En ese caso se puede utilizar la sentencia **continue** para pasar a la siguiente iteración sin terminar la ejecución del cuerpo del bucle para la actual.\n",
        "A continuación se muestra un ejemplo de un bucle que repite lo que recibe como entrada hasta que el usuario escribe “fin”, pero trata las líneas que empiezan por el carácter almohadilla como líneas que no deben mostrarse en pantalla (algo parecido a lo que hace Python con los comentarios).\n",
        "```\n",
        "while True:\n",
        "  linea = input('> ')\n",
        "  if linea[0] == '#' :\n",
        "    continue\n",
        "  if linea == 'fin':\n",
        "    break\n",
        "  print(linea)\n",
        "print('¡Terminado!')\n",
        "```\n",
        "```\n",
        "> hola a todos\n",
        "hola a todos\n",
        "> # no imprimas esto\n",
        "> ¡imprime esto!\n",
        "¡imprime esto!\n",
        "> fin\n",
        "¡Terminado!> hola a todos\n",
        "hola a todos\n",
        "> # no imprimas esto\n",
        "> ¡imprime esto!\n",
        "¡imprime esto!\n",
        "> fin\n",
        "¡Terminado!\n",
        "```\n",
        "Todas las líneas se imprimen en pantalla, excepto la que comienza con el símbolo de almohadilla, ya que en ese caso se ejecuta **continue**, finaliza la iteración actual y salta de vuelta a la sentencia **while** para comenzar la siguiente iteración, de\n",
        "modo que que se omite la sentencia **print**.\n"
      ],
      "metadata": {
        "id": "CdRqBxcbyuGV"
      }
    },
    {
      "cell_type": "markdown",
      "source": [
        "##Bucles definidos usando for"
      ],
      "metadata": {
        "id": "HvvHEiIc08s7"
      }
    },
    {
      "cell_type": "markdown",
      "source": [
        "A veces se desea repetir un bucle a través de un conjunto de cosas, como una lista de palabras, las líneas de un archivo, o una lista de números. Cuando se tiene una lista de cosas para recorrer, se puede construir un bucle *definido* usando una sentencia **for**. A la sentencia **while** se la llama un bucle indefinido, porque\n",
        "simplemente se repite hasta que cierta condición se hace **Falsa**, mientras que el bucle **for** se repite a través de un conjunto conocido de elementos, de modo que ejecuta tantas iteraciones como elementos hay en el conjunto.\n",
        "\n",
        "La sintaxis de un bucle **for** es similar a la del bucle **while**, en ella hay una sentencia **for** y un cuerpo que se repite.\n",
        "En términos de Python, la variable **amigos** es una lista1 de tres cadenas y el bucle for se mueve recorriendo la lista y ejecuta su cuerpo una vez para cada una de las tres cadenas en la lista, produciendo esta salida:"
      ],
      "metadata": {
        "id": "XEo4ESeD1Dbx"
      }
    },
    {
      "cell_type": "code",
      "source": [
        "amigos = ['Joseph', 'Glenn', 'Sally']\n",
        "for amigo in amigos:\n",
        "  print('Feliz año nuevo:', amigo)\n",
        "print('¡Terminado!')"
      ],
      "metadata": {
        "colab": {
          "base_uri": "https://localhost:8080/"
        },
        "id": "_ytj13SwuGHY",
        "outputId": "fbb92b48-3e2a-4ba7-91a1-1b06000ffb7b"
      },
      "execution_count": null,
      "outputs": [
        {
          "output_type": "stream",
          "name": "stdout",
          "text": [
            "Feliz año nuevo: Joseph\n",
            "Feliz año nuevo: Glenn\n",
            "Feliz año nuevo: Sally\n",
            "¡Terminado!\n"
          ]
        }
      ]
    },
    {
      "cell_type": "markdown",
      "source": [
        "La traducción de este bucle **for** al español no es tan directa como en el caso del **while**, pero si piensas en los amigos como un *conjunto*, sería algo así como:\n",
        "“Ejecuta las sentencias en el cuerpo del bucle una vez *para* (for) cada amigo que esté *en (in)* el conjunto llamado amigos.”\n",
        "\n",
        "Revisando el bucle **for**, *for* e in son palabras reservadas de Python, mientras que **amigo** y **amigos** son variables.\n",
        "\n",
        "for amigo in amigos:\n",
        "  print('Feliz año nuevo::', amigo)\n",
        "\n",
        "En concreto,**amigo** es la variable de iteración para el bucle for. La variable **amigo** cambia para cada iteración del bucle y controla cuándo se termina el bucle **for**.\n",
        "La variable de iteracion se desplaza sucesivamente a través de las tres cadenas almacenadas en la variable **amigos**."
      ],
      "metadata": {
        "id": "3E_A0xu12uvk"
      }
    },
    {
      "cell_type": "markdown",
      "source": [
        "##Diseños de bucles"
      ],
      "metadata": {
        "id": "Doa6fsSC39bm"
      }
    },
    {
      "cell_type": "markdown",
      "source": [
        "A menudo se usa un bucle **for** o while para movernos a través de una lista de\n",
        "elementos o el contenido de un archivo y se busca algo, como el valor más grande\n",
        "o el más pequeño de los datos que estamos revisando.\n",
        "\n",
        "Los bucles generalmente se construyen así:\n",
        "\n",
        "* Se inicializan una o más variables antes de que el bucle comience.\n",
        "* Se realiza alguna operación con cada elemento en el cuerpo del bucle, posiblemente cambiando las variables dentro de ese cuerpo.\n",
        "* Se revisan las variables resultantes cuando el bucle se completa\n",
        "Usaremos ahora una lista de números para demostrar los conceptos y construcción\n",
        "de estos diseños de bucles."
      ],
      "metadata": {
        "id": "yP1AWeCy2VP9"
      }
    },
    {
      "cell_type": "markdown",
      "source": [
        "### Bucles de recuento y suma\n"
      ],
      "metadata": {
        "id": "hJ4TkKXgFcAf"
      }
    },
    {
      "cell_type": "markdown",
      "source": [
        "Por ejemplo, para contar el número de elementos en una lista, podemos escribir el\n",
        "siguiente bucle for:"
      ],
      "metadata": {
        "id": "5jGibN1OFezn"
      }
    },
    {
      "cell_type": "code",
      "source": [
        "#otro ejemplo\n",
        "contador = 0\n",
        "estudiantes = ['feli', 'dharma', 'max','gasty','nico']\n",
        "for estudiante in ['feli', 'dharma', 'max','gasty','nico']:\n",
        "  contador = contador + 1\n",
        "  print('hola,', estudiante)\n",
        "print('Num. estudiantes presentes: ', contador)"
      ],
      "metadata": {
        "id": "PCgKxmPQF-f8",
        "outputId": "0b3488a5-b347-40c4-e514-2fe36f093e60",
        "colab": {
          "base_uri": "https://localhost:8080/"
        }
      },
      "execution_count": 13,
      "outputs": [
        {
          "output_type": "stream",
          "name": "stdout",
          "text": [
            "hola, feli\n",
            "hola, dharma\n",
            "hola, max\n",
            "hola, gasty\n",
            "hola, nico\n",
            "Num. estudiantes presentes:  5\n"
          ]
        }
      ]
    },
    {
      "cell_type": "code",
      "source": [
        "contador = 0\n",
        "for valor in [3, 41, 12, 9, 74, 15, 34, 6, 37347, 383838]:\n",
        "  contador = contador + 1\n",
        "print('Num. elementos: ', contador)"
      ],
      "metadata": {
        "id": "Bb19IQVUE027",
        "outputId": "3a4e180e-5b94-470a-9bfc-df5245c9a01b",
        "colab": {
          "base_uri": "https://localhost:8080/"
        }
      },
      "execution_count": 7,
      "outputs": [
        {
          "output_type": "stream",
          "name": "stdout",
          "text": [
            "Num. elementos:  10\n"
          ]
        }
      ]
    },
    {
      "cell_type": "markdown",
      "source": [
        "Ajustamos la variable contador a cero antes de que el bucle comience, después\n",
        "escribimos un bucle for para movernos a través de la lista de números. Nuestra\n",
        "variable de iteración se llama valor, y dado que no usamos valor dentro del\n",
        "bucle, lo único que hace es controlar el bucle y hacer que el cuerpo del mismo sea\n",
        "ejecutado una vez para cada uno de los valores de la lista.\n",
        "En el cuerpo del bucle, añadimos 1 al valor actual de contador para cada uno de\n",
        "los valores de la lista. Mientras el bucle se está ejecutando, el valor de contador\n",
        "es la cantidad de valores que se hayan visto “hasta ese momento”.\n",
        "Una vez el bucle se completa, el valor de contador es el número total de elementos.\n",
        "El número total “cae en nuestro poder” al final del bucle. Se construye el bucle de\n",
        "modo que obtengamos lo que queremos cuando éste termina."
      ],
      "metadata": {
        "id": "DLeYRo4KHe3r"
      }
    },
    {
      "cell_type": "markdown",
      "source": [
        "Otro bucle similar, que calcula el total de un conjunto de números, se muestra a\n",
        "continuación:"
      ],
      "metadata": {
        "id": "CAqYbHGZI09y"
      }
    },
    {
      "cell_type": "code",
      "source": [
        "total = 0\n",
        "for valor in [3, 41, 12, 9, 74, 15]:\n",
        "  total = total + valor\n",
        "print('Total: ', total)"
      ],
      "metadata": {
        "id": "pSwdyP1GHf_m",
        "outputId": "58822ff0-e915-4357-da28-f0f321d58b3b",
        "colab": {
          "base_uri": "https://localhost:8080/"
        }
      },
      "execution_count": 14,
      "outputs": [
        {
          "output_type": "stream",
          "name": "stdout",
          "text": [
            "Total:  154\n"
          ]
        }
      ]
    },
    {
      "cell_type": "markdown",
      "source": [
        "En este bucle, sí utilizamos la variable de iteración. En vez de añadir simplemente\n",
        "uno a contador como en el bucle previo, ahora durante cada iteración del bucle\n",
        "añadimos el número actual (3, 41, 12, etc.) al total en ese momento. Si piensas en la\n",
        "variable total, ésta contiene la “suma parcial de valores hasta ese momento”. Así\n",
        "que antes de que el bucle comience, total es cero, porque aún no se ha examinado\n",
        "ningún valor. Durante el bucle, total es la suma parcial, y al final del bucle, total\n",
        "es la suma total definitiva de todos los valores de la lista.\n",
        "\n",
        "Cuando el bucle se ejecuta, total acumula la suma de los elementos; una variable\n",
        "que se usa de este modo recibe a veces el nombre de acumulador."
      ],
      "metadata": {
        "id": "boGpUfoQJPcH"
      }
    },
    {
      "cell_type": "markdown",
      "source": [
        "Ni el bucle que cuenta los elementos ni el que los suma resultan particularmente\n",
        "útiles en la práctica, dado que existen las funciones internas len() y sum() que\n",
        "cuentan el número de elementos de una lista y el total de elementos en la misma\n",
        "respectivamente."
      ],
      "metadata": {
        "id": "a3N-dYSUJjfi"
      }
    },
    {
      "cell_type": "markdown",
      "source": [
        "### Bucles de máximos y mínimos"
      ],
      "metadata": {
        "id": "MFSUdngEJ6FE"
      }
    },
    {
      "cell_type": "markdown",
      "source": [
        "Para encontrar el valor mayor de una lista o secuencia, construimos el bucle siguiente:"
      ],
      "metadata": {
        "id": "6DqWDOQBJ8qZ"
      }
    },
    {
      "cell_type": "code",
      "source": [
        "mayor = None\n",
        "print('Antes:', mayor)\n",
        "for valor in [3, 41, 12, 9, 74, 15, 34, 55, 90, 45]:\n",
        "  if mayor is None or valor > mayor :\n",
        "    mayor = valor\n",
        "  print('Bucle:', valor, mayor)\n",
        "print('Mayor:', mayor)"
      ],
      "metadata": {
        "id": "NCWAE5DSJP8T",
        "outputId": "da511a6e-676d-49be-c948-ebb124f69e76",
        "colab": {
          "base_uri": "https://localhost:8080/"
        }
      },
      "execution_count": 24,
      "outputs": [
        {
          "output_type": "stream",
          "name": "stdout",
          "text": [
            "Antes: None\n",
            "Bucle: 3 3\n",
            "Bucle: 41 41\n",
            "Bucle: 12 41\n",
            "Bucle: 9 41\n",
            "Bucle: 74 74\n",
            "Bucle: 15 74\n",
            "Bucle: 34 74\n",
            "Bucle: 55 74\n",
            "Bucle: 90 90\n",
            "Bucle: 45 90\n",
            "Mayor: 90\n"
          ]
        }
      ]
    },
    {
      "cell_type": "code",
      "source": [
        "mayor = None\n",
        "estudiantes = ['felipe', 'dharma', 'maximiliano','gaston','nicolas']\n",
        "print('Antes:', mayor)\n",
        "for valor in estudiantes:\n",
        "  if mayor is None or len(valor) > len(mayor) :\n",
        "    mayor = valor\n",
        "  print('Bucle:', valor, mayor)\n",
        "print('Mayor:', mayor)"
      ],
      "metadata": {
        "id": "O0KAmbOwL7vd",
        "outputId": "9c254342-55b1-4fe7-85b6-d7121c85dd24",
        "colab": {
          "base_uri": "https://localhost:8080/"
        }
      },
      "execution_count": 23,
      "outputs": [
        {
          "output_type": "stream",
          "name": "stdout",
          "text": [
            "Antes: None\n",
            "Bucle: felipe felipe\n",
            "Bucle: dharma felipe\n",
            "Bucle: maximiliano maximiliano\n",
            "Bucle: gaston maximiliano\n",
            "Bucle: nicolas maximiliano\n",
            "Mayor: maximiliano\n"
          ]
        }
      ]
    },
    {
      "cell_type": "markdown",
      "source": [
        "Debemos pensar en la variable mayor como el “mayor valor visto hasta ese momento”.\n",
        "Antes del bucle, asignamos a mayor el valor None. None es un valor\n",
        "constante especial que se puede almacenar en una variable para indicar que la\n",
        "variable está “vacía”."
      ],
      "metadata": {
        "id": "JJquZWTJNffl"
      }
    },
    {
      "cell_type": "markdown",
      "source": [
        "Antes de que el bucle comience, el mayor valor visto hasta entonces es None, dado\n",
        "que no se ha visto aún ningún valor. Durante la ejecución del bucle, si mayor es\n",
        "None, entonces tomamos el primer valor que tenemos como el mayor hasta entonces.\n",
        "Se puede ver en la primera iteración, cuando el valor de valor es 3, mientras que\n",
        "mayor es None, inmediatamente hacemos que mayor pase a ser 3."
      ],
      "metadata": {
        "id": "vel7hSBFNkNP"
      }
    },
    {
      "cell_type": "markdown",
      "source": [
        "Tras la primera iteración, mayor ya no es None, así que la segunda parte de la expresión\n",
        "lógica compuesta que comprueba si valor > mayor se activará sólo cuando\n",
        "encontremos un valor que sea mayor que el “mayor hasta ese momento”. Cuando\n",
        "encontramos un nuevo valor “mayor aún”, tomamos ese nuevo valor para mayor.\n",
        "Se puede ver en la salida del programa que mayor pasa desde 3 a 41 y luego a 74.Tras la primera iteración, mayor ya no es None, así que la segunda parte de la expresión\n",
        "lógica compuesta que comprueba si valor > mayor se activará sólo cuando\n",
        "encontremos un valor que sea mayor que el “mayor hasta ese momento”. Cuando\n",
        "encontramos un nuevo valor “mayor aún”, tomamos ese nuevo valor para mayor.\n",
        "Se puede ver en la salida del programa que mayor pasa desde 3 a 41 y luego a 74."
      ],
      "metadata": {
        "id": "FZPVLtGvNmk1"
      }
    },
    {
      "cell_type": "markdown",
      "source": [
        "Al final del bucle, se habrán revisado todos los valores y la variable mayor contendrá\n",
        "entonces el mayor valor de la lista."
      ],
      "metadata": {
        "id": "tHISHJxBNpLj"
      }
    },
    {
      "cell_type": "markdown",
      "source": [
        "Para calcular el número más pequeño, el código es muy similar con un pequeño\n",
        "cambio:Para calcular el número más pequeño, el código es muy similar con un pequeño\n",
        "cambio:"
      ],
      "metadata": {
        "id": "hiE58hp-NrZV"
      }
    },
    {
      "cell_type": "code",
      "source": [
        "menor= None\n",
        "print('Antes:', menor)\n",
        "for valor in [3, 41, 12, 9, 74, 15]:\n",
        "  if menor is None or valor < menor:\n",
        "    menor = valor\n",
        "  print('Bucle:', valor, menor)\n",
        "print('Menor:', menor)"
      ],
      "metadata": {
        "id": "RTvFLJrqNf87",
        "outputId": "569ea955-2f04-4b1d-8564-5a9d6a538497",
        "colab": {
          "base_uri": "https://localhost:8080/"
        }
      },
      "execution_count": 26,
      "outputs": [
        {
          "output_type": "stream",
          "name": "stdout",
          "text": [
            "Antes: None\n",
            "Bucle: 3 3\n",
            "Bucle: 41 3\n",
            "Bucle: 12 3\n",
            "Bucle: 9 3\n",
            "Bucle: 74 3\n",
            "Bucle: 15 3\n",
            "Menor: 3\n"
          ]
        }
      ]
    },
    {
      "cell_type": "markdown",
      "source": [
        "De nuevo, menor es el “menor hasta ese momento” antes, durante y después de que\n",
        "el bucle se ejecute. Cuando el bucle se ha completado, menor contendrá el valor\n",
        "mínimo de la lista\n",
        "\n",
        "También como en el caso del número de elementos y de la suma, las funciones\n",
        "internas max() y min() convierten la escritura de este tipo de bucles en innecesaria.De nuevo, menor es el “menor hasta ese momento” antes, durante y después de que\n",
        "el bucle se ejecute. Cuando el bucle se ha completado, menor contendrá el valor\n",
        "mínimo de la lista.\n",
        "\n",
        "También como en el caso del número de elementos y de la suma, las funciones\n",
        "internas max() y min() convierten la escritura de este tipo de bucles en innecesaria."
      ],
      "metadata": {
        "id": "Si3goCSLOBuW"
      }
    },
    {
      "cell_type": "markdown",
      "source": [
        "Lo siguiente es una versión simple de la función interna de Python min():"
      ],
      "metadata": {
        "id": "KW48uKIdOOfp"
      }
    },
    {
      "cell_type": "code",
      "source": [
        "def min(valores):\n",
        "  menor = None\n",
        "  for valor in valores:\n",
        "    if menor is None or valor < menor:\n",
        "      menor = valor\n",
        "  return menor"
      ],
      "metadata": {
        "id": "5WvbSog_OCST"
      },
      "execution_count": 27,
      "outputs": []
    },
    {
      "cell_type": "code",
      "source": [
        "estudiantes = ['felipe', 'dharma', 'maximiliano','gaston','nicolas']\n",
        "min(estudiantes)"
      ],
      "metadata": {
        "id": "VohW5LelOiYy",
        "outputId": "ba804a3e-b6b1-47e1-da69-8f30b411e689",
        "colab": {
          "base_uri": "https://localhost:8080/",
          "height": 36
        }
      },
      "execution_count": 31,
      "outputs": [
        {
          "output_type": "execute_result",
          "data": {
            "text/plain": [
              "'dharma'"
            ],
            "application/vnd.google.colaboratory.intrinsic+json": {
              "type": "string"
            }
          },
          "metadata": {},
          "execution_count": 31
        }
      ]
    },
    {
      "cell_type": "markdown",
      "source": [
        "En esta versión de la función para calcular el mínimo, hemos eliminado las sentencias\n",
        "print, de modo que sea equivalente a la función min, que ya está incorporada\n",
        "dentro de Python."
      ],
      "metadata": {
        "id": "gIunQ7XdO5xt"
      }
    },
    {
      "cell_type": "markdown",
      "source": [
        "### Depuración"
      ],
      "metadata": {
        "id": "MaYSDFG8O_eV"
      }
    },
    {
      "cell_type": "markdown",
      "source": [
        "A medida que vayas escribiendo programas más grandes, puede que notes que vas\n",
        "necesitando emplear cada vez más tiempo en depurarlos. Más código significa más\n",
        "oportunidades de cometer un error y más lugares donde los bugs pueden esconderse."
      ],
      "metadata": {
        "id": "X5nMuBZtPCsw"
      }
    },
    {
      "cell_type": "markdown",
      "source": [
        "Un método para acortar el tiempo de depuración es “depurar por bisección”. Por\n",
        "ejemplo, si hay 100 líneas en tu programa y las compruebas de una en una, te\n",
        "llevará 100 pasos."
      ],
      "metadata": {
        "id": "SUs5CJ5HPEdn"
      }
    },
    {
      "cell_type": "markdown",
      "source": [
        "En lugar de eso, intenta partir el problema por la mitad. Busca en medio del\n",
        "programa, o cerca de ahí, un valor intermedio que puedas comprobar. Añade\n",
        "una sentencia print (o alguna otra cosa que tenga un efecto verificable), y haz\n",
        "funcionar el programa."
      ],
      "metadata": {
        "id": "e-MjEq7UPGP8"
      }
    },
    {
      "cell_type": "markdown",
      "source": [
        "Si en el punto medio la verificación es incorrecta, el problema debería estar en la\n",
        "primera mitad del programa. Si ésta es correcta, el problema estará en la segunda\n",
        "mitad.Si en el punto medio la verificación es incorrecta, el problema debería estar en la\n",
        "primera mitad del programa. Si ésta es correcta, el problema estará en la segunda\n",
        "mitad."
      ],
      "metadata": {
        "id": "8O69kY4aPI0U"
      }
    },
    {
      "cell_type": "markdown",
      "source": [
        "Cada vez que realices una comprobación como esta, reduces a la mitad el número\n",
        "de líneas en las que buscar. Después de seis pasos (que son muchos menos de 100),\n",
        "lo habrás reducido a una o dos líneas de código, al menos en teoría."
      ],
      "metadata": {
        "id": "ri7c8cpqPLEy"
      }
    },
    {
      "cell_type": "markdown",
      "source": [
        "En la práctica no siempre está claro qué es “en medio del programa”, y no siempre\n",
        "es posible colocar ahí una verificación. No tiene sentido contar las líneas y encontrar el punto medio exacto. En lugar de eso, piensa en lugares del programa en los cuales\n",
        "pueda haber errores y en lugares donde resulte fácil colocar una comprobación.\n",
        "Luego elige un sitio donde estimes que las oportunidades de que el bug esté por\n",
        "delante y las de que esté por detrás de esa comprobación son más o menos las\n",
        "mismas."
      ],
      "metadata": {
        "id": "B24ILV1tPM6q"
      }
    },
    {
      "cell_type": "markdown",
      "source": [
        "### Glosario"
      ],
      "metadata": {
        "id": "Ifxgj3vaPSD8"
      }
    },
    {
      "cell_type": "markdown",
      "source": [
        "**acumulador** Una variable usada en un bucle para sumar o acumular un resultado.\n",
        "\n",
        "**bucle infinito** Un bucle en el cual la condición de terminación no se satisface nunca o para el cual no existe dicha condición de terminación.\n",
        "\n",
        "**contador** Una variable usada en un bucle para contar el número de veces que algo sucede. Inicializamos el contador a cero y luego lo vamos incrementando cada\n",
        "vez que queramos que “cuente” algo.\n",
        "\n",
        "**decremento** Una actualización que disminuye el valor de una variable.\n",
        "\n",
        "**inicializar** Una asignación que da un valor inicial a una variable que va a ser después actualizada.\n",
        "\n",
        "**incremento** Una actualización que aumenta el valor de una variable (a menudo en una unidad).\n",
        "\n",
        "**iteración** Ejecución repetida de una serie de sentencias usando bien una función\n",
        "que se llama a si misma o bien un bucle."
      ],
      "metadata": {
        "id": "B88gi1rxPY3t"
      }
    },
    {
      "cell_type": "markdown",
      "source": [
        "### Ejercicios"
      ],
      "metadata": {
        "id": "H3CEqvBgPtnk"
      }
    },
    {
      "cell_type": "markdown",
      "source": [
        "Ejercicio 1: Escribe un programa que lea repetidamente números hasta\n",
        "que el usuario introduzca “fin”. Una vez se haya introducido “fin”,\n",
        "muestra por pantalla el total, la cantidad de números y la media de\n",
        "esos números. Si el usuario introduce cualquier otra cosa que no sea un\n",
        "número, detecta su fallo usando try y except, muestra un mensaje de\n",
        "error y pasa al número siguiente."
      ],
      "metadata": {
        "id": "_EwaIuLAPw7_"
      }
    },
    {
      "cell_type": "markdown",
      "source": [
        "Introduzca un número: 4\n",
        "\n",
        "Introduzca un número: 5\n",
        "\n",
        "Introduzca un número: dato erróneo\n",
        "\n",
        "Entrada inválida\n",
        "\n",
        "Introduzca un número: 7\n",
        "\n",
        "Introduzca un número: fin\n",
        "\n",
        "16 3 5.33333333333"
      ],
      "metadata": {
        "id": "ebblilFEP3AU"
      }
    },
    {
      "cell_type": "markdown",
      "source": [
        "Ejercicio 2: Escribe otro programa que pida una lista de números como\n",
        "la anterior y al final muestre por pantalla el máximo y mínimo de los\n",
        "números, en vez de la media."
      ],
      "metadata": {
        "id": "rIWU0s0lP-mD"
      }
    },
    {
      "cell_type": "code",
      "source": [],
      "metadata": {
        "id": "rzcttuOlOkCp"
      },
      "execution_count": null,
      "outputs": []
    }
  ]
}