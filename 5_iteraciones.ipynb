{
  "nbformat": 4,
  "nbformat_minor": 0,
  "metadata": {
    "colab": {
      "provenance": [],
      "authorship_tag": "ABX9TyPIW85wJJ5c2yJYMWOlj3AE",
      "include_colab_link": true
    },
    "kernelspec": {
      "name": "python3",
      "display_name": "Python 3"
    },
    "language_info": {
      "name": "python"
    }
  },
  "cells": [
    {
      "cell_type": "markdown",
      "metadata": {
        "id": "view-in-github",
        "colab_type": "text"
      },
      "source": [
        "<a href=\"https://colab.research.google.com/github/JuanMiguez/4tocfp10/blob/main/5_iteraciones.ipynb\" target=\"_parent\"><img src=\"https://colab.research.google.com/assets/colab-badge.svg\" alt=\"Open In Colab\"/></a>"
      ]
    },
    {
      "cell_type": "markdown",
      "source": [
        "#Iteraciones"
      ],
      "metadata": {
        "id": "-89AtXpFsVdy"
      }
    },
    {
      "cell_type": "markdown",
      "source": [
        "##Actualización de variables\n",
        "Uno de los usos habituales de las sentencias de asignación consiste en realizar una\n",
        "actualización sobre una variable – en la cual el valor nuevo de esa variable depende\n",
        "del antiguo.\n",
        "\n",
        "```\n",
        "x = x + 1\n",
        "```\n",
        "\n",
        "Esto quiere decir “‘toma el valor actual de x, añádele 1, y luego actualiza x con el\n",
        "nuevo valor”.\n",
        "Si intentas actualizar una variable que no existe, obtendrás un error, ya que Python\n",
        "evalúa el lado derecho antes de asignar el valor a x:"
      ],
      "metadata": {
        "id": "Td7p472JsIiO"
      }
    },
    {
      "cell_type": "code",
      "source": [
        "x = x + 1"
      ],
      "metadata": {
        "colab": {
          "base_uri": "https://localhost:8080/",
          "height": 179
        },
        "id": "te-l8LrjsTZl",
        "outputId": "eb46dd03-0dc1-4a3f-b5f0-62d8e91af7e0"
      },
      "execution_count": 1,
      "outputs": [
        {
          "output_type": "error",
          "ename": "NameError",
          "evalue": "ignored",
          "traceback": [
            "\u001b[0;31m---------------------------------------------------------------------------\u001b[0m",
            "\u001b[0;31mNameError\u001b[0m                                 Traceback (most recent call last)",
            "\u001b[0;32m<ipython-input-1-2d25c2ef041b>\u001b[0m in \u001b[0;36m<cell line: 1>\u001b[0;34m()\u001b[0m\n\u001b[0;32m----> 1\u001b[0;31m \u001b[0mx\u001b[0m \u001b[0;34m=\u001b[0m \u001b[0mx\u001b[0m \u001b[0;34m+\u001b[0m \u001b[0;36m1\u001b[0m\u001b[0;34m\u001b[0m\u001b[0;34m\u001b[0m\u001b[0m\n\u001b[0m",
            "\u001b[0;31mNameError\u001b[0m: name 'x' is not defined"
          ]
        }
      ]
    },
    {
      "cell_type": "markdown",
      "source": [
        "Antes de que puedas actualizar una variable, debes inicializarla, normalmente mediante\n",
        "una simple asignación:"
      ],
      "metadata": {
        "id": "oh2QvuQit3rq"
      }
    },
    {
      "cell_type": "code",
      "source": [
        "x = 0\n",
        "x = x + 1"
      ],
      "metadata": {
        "id": "U_i7pLI8t7A_"
      },
      "execution_count": 2,
      "outputs": []
    },
    {
      "cell_type": "markdown",
      "source": [
        "Actualizar una variable añadiéndole 1 se denomina *incrementar*; restarle 1 recibe\n",
        "el nombre de *decrementar* (o disminuir)."
      ],
      "metadata": {
        "id": "sXASM6rGuAj5"
      }
    },
    {
      "cell_type": "markdown",
      "source": [
        "##La sentencia while"
      ],
      "metadata": {
        "id": "WAWBkRyfuIXK"
      }
    },
    {
      "cell_type": "markdown",
      "source": [
        "Los PCs se suelen utilizar a menudo para automatizar tareas repetitivas. Repetir tareas idénticas o muy similares sin cometer errores es algo que a las máquinas se les da bien y en cambio a las personas no. Como las iteraciones resultan tan habituales, Python proporciona varias características en su lenguaje para hacerlas\n",
        "más sencillas.\n",
        "Una forma de iteración en Python es la sentencia **while**. He aquí un programa sencillo que cuenta hacia atrás desde cinco y luego dice “¡Despegue!”.\n",
        "```\n",
        "n = 5\n",
        "while n > 0:\n",
        "print(n)\n",
        "n = n - 1\n",
        "print('¡Despegue!')\n",
        "```\n",
        "Casi se puede leer la sentencia **while** como si estuviera escrita en inglés. Significa, “Mientras **n** sea mayor que 0, muestra el valor de **n** y luego reduce el valor de **n** en 1 unidad. Cuando llegues a 0, sal de la sentencia **while** y muestra la palabra **¡Despegue!**”\n",
        "Éste es el flujo de ejecución de la sentencia while, explicado de un modo más formal:\n",
        "1. Se evalúa la condición, obteniendo Verdadero or Falso.\n",
        "2. Si la condición es falsa, se sale de la sentencia while y se continúa la ejecución en la siguiente sentencia.\n",
        "3. Si la condición es verdadera, se ejecuta el cuerpo del while y luego se vuelve al paso 1.\n",
        "\n",
        "Este tipo de flujo recibe el nombre de *bucle*, ya que el tercer paso enlaza de nuevo con el primero. Cada vez que se ejecuta el cuerpo del bucle se dice que realizamos una iteración. Para el bucle anterior, podríamos decir que “ha tenido cinco iteraciones”,\n",
        "lo que significa que el cuerpo del *bucle* se ha ejecutado cinco veces.\n",
        "El cuerpo del bucle debe cambiar el valor de una o más variables, de modo que la condición pueda en algún momento evaluarse como falsa y el bucle termine. La variable que cambia cada vez que el bucle se ejecuta y controla cuándo termina éste, recibe el nombre de *variable de iteración*. Si no hay variable de iteración, el\n",
        "bucle se repetirá para siempre, resultando así un bucle *infinito*.\n"
      ],
      "metadata": {
        "id": "Ig63jvaIuMBp"
      }
    },
    {
      "cell_type": "markdown",
      "source": [
        "##Bucles infinitos"
      ],
      "metadata": {
        "id": "Q22f8YXHvrrE"
      }
    },
    {
      "cell_type": "markdown",
      "source": [
        "Una fuente de diversión sin fin para los programadores es la constatación de que las instrucciones del champú: “Enjabone, aclare, repita”, son un bucle infinito, ya que no hay una *variable de iteración* que diga cuántas veces debe ejecutarse el proceso.\n",
        "En el caso de una **cuenta atrás**, podemos verificar que el bucle termina, ya que sabemos que el valor de **n** es finito, y podemos ver que ese valor se va haciendo más pequeño cada vez que se repite el bucle, de modo que en algún momento llegará a 0. Otras veces un bucle es obviamente infinito, porque no tiene ninguna variable\n",
        "de iteración."
      ],
      "metadata": {
        "id": "GBLSzL4xv2mq"
      }
    },
    {
      "cell_type": "markdown",
      "source": [
        "##“Bucles infinitos” y break"
      ],
      "metadata": {
        "id": "psA7COiDwT-J"
      }
    },
    {
      "cell_type": "markdown",
      "source": [
        "A veces no se sabe si hay que terminar un bucle hasta que se ha recorrido la mitad del cuerpo del mismo. En ese caso se puede crear un bucle infinito a propósito y usar la sentencia **break** para salir fuera de él cuando se desee.\n",
        "\n",
        " El bucle siguiente es, obviamente, un bucle infinito, porque la expresión lógica de la sentencia **while** es simplemente la constante lógica **True** (**verdadero**);\n",
        "```\n",
        "n = 10\n",
        "while True:\n",
        "  print(n, end=' ')\n",
        "  n = n - 1\n",
        "print('¡Terminado!')\n",
        "```\n",
        "Si cometes el error de ejecutar este código, aprenderás rápidamente cómo detener un proceso de Python bloqueado en el sistema, o tendrás que localizar dónde se encuentra el botón de apagado de tu equipo. Este programa funcionará para siempre, o hasta que la batería del equipo se termine, ya que la expresión lógica al\n",
        "principio del bucle es siempre cierta, en virtud del hecho de que esa expresión es precisamente el valor constante **True**.\n",
        "\n",
        "A pesar de que en este caso se trata de un bucle infinito inútil, se puede usar ese diseño para construir bucles útiles, siempre que se tenga la precaución de añadir código en el cuerpo del bucle para salir explícitamente, usando **break** cuando se haya alcanzado la condición de salida.\n",
        "Por ejemplo, supón que quieres recoger entradas de texto del usuario hasta que éste escriba **fin**. Podrías escribir:\n",
        "```\n",
        "while True:\n",
        "  linea = input('> ')\n",
        "  if linea == 'fin':\n",
        "    break\n",
        "  print(linea)\n",
        "print('¡Terminado!')\n",
        "```\n",
        "\n",
        "La condición del bucle es **True**, lo cual es verdadero siempre, así que el bucle se repetirá hasta que se ejecute la sentencia break.\n",
        "Cada vez que se entre en el bucle, se pedirá una entrada al usuario. Si el usuario escribe **fin**, la sentencia **break** hará que se salga del bucle. En cualquier otro caso, el programa repetirá cualquier cosa que el usuario escriba y volverá al principio del bucle. Éste es un ejemplo de su funcionamiento:\n",
        "```\n",
        "> hola a todos\n",
        "hola a todos\n",
        "> he terminado\n",
        "he terminado\n",
        "> fin\n",
        "¡Terminado!\n",
        "```\n",
        "Este modo de escribir bucles **while** es habitual, ya que así se puede comprobar la condición en cualquier punto del bucle (no sólo al principio), y se puede expresar la condición de parada afirmativamente (“detente cuando ocurra. . . ”), en vez de tener que hacerlo con lógica negativa (“sigue haciéndolo hasta que ocurra. . . ”)."
      ],
      "metadata": {
        "id": "IvPVTdHywaSc"
      }
    },
    {
      "cell_type": "markdown",
      "source": [
        "## Finalizar iteraciones con continue"
      ],
      "metadata": {
        "id": "2R-78Hugyqaw"
      }
    },
    {
      "cell_type": "markdown",
      "source": [
        "Algunas veces, estando dentro de un bucle se necesita terminar con la iteración actual y saltar a la siguiente de forma inmediata. En ese caso se puede utilizar la sentencia **continue** para pasar a la siguiente iteración sin terminar la ejecución del cuerpo del bucle para la actual.\n",
        "A continuación se muestra un ejemplo de un bucle que repite lo que recibe como entrada hasta que el usuario escribe “fin”, pero trata las líneas que empiezan por el carácter almohadilla como líneas que no deben mostrarse en pantalla (algo parecido a lo que hace Python con los comentarios).\n",
        "```\n",
        "while True:\n",
        "  linea = input('> ')\n",
        "  if linea[0] == '#' :\n",
        "    continue\n",
        "  if linea == 'fin':\n",
        "    break\n",
        "  print(linea)\n",
        "print('¡Terminado!')\n",
        "```\n",
        "```\n",
        "> hola a todos\n",
        "hola a todos\n",
        "> # no imprimas esto\n",
        "> ¡imprime esto!\n",
        "¡imprime esto!\n",
        "> fin\n",
        "¡Terminado!> hola a todos\n",
        "hola a todos\n",
        "> # no imprimas esto\n",
        "> ¡imprime esto!\n",
        "¡imprime esto!\n",
        "> fin\n",
        "¡Terminado!\n",
        "```\n",
        "Todas las líneas se imprimen en pantalla, excepto la que comienza con el símbolo de almohadilla, ya que en ese caso se ejecuta **continue**, finaliza la iteración actual y salta de vuelta a la sentencia **while** para comenzar la siguiente iteración, de\n",
        "modo que que se omite la sentencia **print**.\n"
      ],
      "metadata": {
        "id": "CdRqBxcbyuGV"
      }
    },
    {
      "cell_type": "markdown",
      "source": [
        "##Bucles definidos usando for"
      ],
      "metadata": {
        "id": "HvvHEiIc08s7"
      }
    },
    {
      "cell_type": "markdown",
      "source": [
        "A veces se desea repetir un bucle a través de un conjunto de cosas, como una lista de palabras, las líneas de un archivo, o una lista de números. Cuando se tiene una lista de cosas para recorrer, se puede construir un bucle *definido* usando una sentencia **for**. A la sentencia **while** se la llama un bucle indefinido, porque\n",
        "simplemente se repite hasta que cierta condición se hace **Falsa**, mientras que el bucle **for** se repite a través de un conjunto conocido de elementos, de modo que ejecuta tantas iteraciones como elementos hay en el conjunto.\n",
        "\n",
        "La sintaxis de un bucle **for** es similar a la del bucle **while**, en ella hay una sentencia **for** y un cuerpo que se repite.\n",
        "En términos de Python, la variable **amigos** es una lista1 de tres cadenas y el bucle for se mueve recorriendo la lista y ejecuta su cuerpo una vez para cada una de las tres cadenas en la lista, produciendo esta salida:"
      ],
      "metadata": {
        "id": "XEo4ESeD1Dbx"
      }
    },
    {
      "cell_type": "code",
      "source": [
        "amigos = ['Joseph', 'Glenn', 'Sally']\n",
        "for amigo in amigos:\n",
        "  print('Feliz año nuevo:', amigo)\n",
        "print('¡Terminado!')"
      ],
      "metadata": {
        "colab": {
          "base_uri": "https://localhost:8080/"
        },
        "id": "_ytj13SwuGHY",
        "outputId": "fbb92b48-3e2a-4ba7-91a1-1b06000ffb7b"
      },
      "execution_count": 3,
      "outputs": [
        {
          "output_type": "stream",
          "name": "stdout",
          "text": [
            "Feliz año nuevo: Joseph\n",
            "Feliz año nuevo: Glenn\n",
            "Feliz año nuevo: Sally\n",
            "¡Terminado!\n"
          ]
        }
      ]
    },
    {
      "cell_type": "markdown",
      "source": [
        "La traducción de este bucle **for** al español no es tan directa como en el caso del **while**, pero si piensas en los amigos como un *conjunto*, sería algo así como:\n",
        "“Ejecuta las sentencias en el cuerpo del bucle una vez *para* (for) cada amigo que esté *en (in)* el conjunto llamado amigos.”\n",
        "\n",
        "Revisando el bucle **for**, *for* e in son palabras reservadas de Python, mientras que **amigo** y **amigos** son variables.\n",
        "\n",
        "for amigo in amigos:\n",
        "  print('Feliz año nuevo::', amigo)\n",
        "\n",
        "En concreto,**amigo** es la variable de iteración para el bucle for. La variable **amigo** cambia para cada iteración del bucle y controla cuándo se termina el bucle **for**.\n",
        "La variable de iteracion se desplaza sucesivamente a través de las tres cadenas almacenadas en la variable **amigos**."
      ],
      "metadata": {
        "id": "3E_A0xu12uvk"
      }
    },
    {
      "cell_type": "markdown",
      "source": [
        "##Diseños de bucles"
      ],
      "metadata": {
        "id": "Doa6fsSC39bm"
      }
    },
    {
      "cell_type": "markdown",
      "source": [],
      "metadata": {
        "id": "yP1AWeCy2VP9"
      }
    }
  ]
}