{
  "nbformat": 4,
  "nbformat_minor": 0,
  "metadata": {
    "colab": {
      "provenance": [],
      "mount_file_id": "1R7-pIsRA9OvgP-hQjBAh7TIVKff4L6Nl",
      "authorship_tag": "ABX9TyNnA4vFxm1CsIMHF+nwl/Kb",
      "include_colab_link": true
    },
    "kernelspec": {
      "name": "python3",
      "display_name": "Python 3"
    },
    "language_info": {
      "name": "python"
    }
  },
  "cells": [
    {
      "cell_type": "markdown",
      "metadata": {
        "id": "view-in-github",
        "colab_type": "text"
      },
      "source": [
        "<a href=\"https://colab.research.google.com/github/JuanMiguez/4tocfp10/blob/main/8_Listas.ipynb\" target=\"_parent\"><img src=\"https://colab.research.google.com/assets/colab-badge.svg\" alt=\"Open In Colab\"/></a>"
      ]
    },
    {
      "cell_type": "markdown",
      "source": [
        "##Una lista es una secuencia"
      ],
      "metadata": {
        "id": "4as0To9otRiv"
      }
    },
    {
      "cell_type": "markdown",
      "source": [
        "Así como una cadena, una lista es una secuencia de valores. En una cadena, los\n",
        "valores son caracteres; en una lista, pueden ser cualquier tipo. Los valores en una\n",
        "lista son llamados elementos o a veces ítems."
      ],
      "metadata": {
        "id": "F4sUkZPIttyl"
      }
    },
    {
      "cell_type": "markdown",
      "source": [
        "Hay varias formas de crear una nueva lista; la más simple es encerrar los elementos\n",
        "en corchetes (“[\" y “]”):\n",
        "\n",
        "> [10, 20, 30, 40]\n",
        "\n",
        "> ['rana crujiente', 'vejiga de carnero', 'vómito de alondra']\n",
        "\n",
        "El primer ejemplo es una lista de 4 enteros. La segunda es una lista de tres cadenas.\n",
        "Los elementos de una lista no tienen que ser del mismo tipo. La siguiente lista\n",
        "contiene una cadena, un flotante, un entero, y (¡mira!) otra lista:\n",
        "\n",
        "> ['spam', 2.0, 5, [10, 20]]\n",
        "\n",
        "Una lista dentro de otra lista está anidada.\n",
        "\n",
        "Una lista que no contiene elementos es llamada una lista vacía; puedes crear una\n",
        "con corchetes vacíos, [].\n",
        "\n",
        "Como puedes ver, puedes asignar los valores de una lista a variables:\n",
        "\n"
      ],
      "metadata": {
        "id": "ZTHbTduLt4Mz"
      }
    },
    {
      "cell_type": "code",
      "execution_count": null,
      "metadata": {
        "colab": {
          "base_uri": "https://localhost:8080/"
        },
        "id": "oqrMVV38tJEM",
        "outputId": "57584c98-e2e9-4647-d314-866df95eeaa9"
      },
      "outputs": [
        {
          "output_type": "stream",
          "name": "stdout",
          "text": [
            "['Cheddar', 'Edam', 'Gouda'] [17, 123] []\n"
          ]
        }
      ],
      "source": [
        "quesos = ['Cheddar', 'Edam', 'Gouda']\n",
        "numeros = [17, 123]\n",
        "vacia = []\n",
        "print(quesos, numeros, vacia)"
      ]
    },
    {
      "cell_type": "markdown",
      "source": [
        "##Las listas son mutables"
      ],
      "metadata": {
        "id": "78swOfQeunsf"
      }
    },
    {
      "cell_type": "markdown",
      "source": [
        "La sintaxis para accesar elementos de una lista es la misma que para accesar\n",
        "los caracteres de una cadena: el operador corchete. La expresión dentro de los\n",
        "corchetes especifíca el índice. Recordemos que los índices empiezan en 0:"
      ],
      "metadata": {
        "id": "9zWoO0V_uuYZ"
      }
    },
    {
      "cell_type": "code",
      "source": [
        "print(quesos[0])"
      ],
      "metadata": {
        "colab": {
          "base_uri": "https://localhost:8080/"
        },
        "id": "_9FkZQTzui5E",
        "outputId": "5e918334-e127-4653-e0ac-0976630b7e49"
      },
      "execution_count": null,
      "outputs": [
        {
          "output_type": "stream",
          "name": "stdout",
          "text": [
            "Cheddar\n"
          ]
        }
      ]
    },
    {
      "cell_type": "markdown",
      "source": [
        "A diferencia de las cadenas, las listas son mutables porque pueden cambiar el\n",
        "orden de los elementos en una lista o reasignar un elemento en una lista. Cuando\n",
        "el operador corchete aparece en el lado izquierdo de una asignación, éste identifica\n",
        "el elemento de la lista que será asignado."
      ],
      "metadata": {
        "id": "_SLteYGSuynF"
      }
    },
    {
      "cell_type": "code",
      "source": [
        "numeros = [17, 123]\n",
        "numeros[1] = 5\n",
        "print(numeros)"
      ],
      "metadata": {
        "colab": {
          "base_uri": "https://localhost:8080/"
        },
        "id": "sIYZVUsuuwfQ",
        "outputId": "5e225a66-d811-4106-cc35-58d84e842c66"
      },
      "execution_count": null,
      "outputs": [
        {
          "output_type": "stream",
          "name": "stdout",
          "text": [
            "[17, 5]\n"
          ]
        }
      ]
    },
    {
      "cell_type": "markdown",
      "source": [
        "El elemento en la posición uno de numeros, el cual solía ser 123, es ahora 5."
      ],
      "metadata": {
        "id": "RPj-eXJSu-H2"
      }
    },
    {
      "cell_type": "markdown",
      "source": [
        "Puedes pensar en una lista como una relación entre índices y elementos. Esta\n",
        "relación es llamada mapeo; cada índice “mapea a” uno de los elementos."
      ],
      "metadata": {
        "id": "3GDNMhYTvAj4"
      }
    },
    {
      "cell_type": "markdown",
      "source": [
        "Los índices en una lista funcionan de la misma manera que los índices de una\n",
        "cadena:\n",
        "\n",
        "\n",
        "*   Cualquier forma de entero puede ser utilizada como índice.\n",
        "*   Si tratas de leer o escribir un elemento que no existe, obtendrás un\n",
        "IndexError.\n",
        "*   Si un índice tiene un valor negativo, éste cuenta hacia atrás desde el final de\n",
        "la lista.\n",
        "\n",
        "El operador in funciona también en listas.\n",
        "\n"
      ],
      "metadata": {
        "id": "GNDXZXRRvDwV"
      }
    },
    {
      "cell_type": "code",
      "source": [
        "quesos = ['Cheddar', 'Edam', 'Gouda']\n",
        "'Edam' in quesos"
      ],
      "metadata": {
        "colab": {
          "base_uri": "https://localhost:8080/"
        },
        "id": "lb-5S3DDu7VP",
        "outputId": "3d1dd52e-b187-4031-c28f-2d4e8f91f47e"
      },
      "execution_count": null,
      "outputs": [
        {
          "output_type": "execute_result",
          "data": {
            "text/plain": [
              "True"
            ]
          },
          "metadata": {},
          "execution_count": 5
        }
      ]
    },
    {
      "cell_type": "code",
      "source": [
        "'Brie' in quesos"
      ],
      "metadata": {
        "colab": {
          "base_uri": "https://localhost:8080/"
        },
        "id": "hZ3Y23ytvSr4",
        "outputId": "5d83e1d1-8e33-4972-c6db-296e15d69a4c"
      },
      "execution_count": null,
      "outputs": [
        {
          "output_type": "execute_result",
          "data": {
            "text/plain": [
              "False"
            ]
          },
          "metadata": {},
          "execution_count": 6
        }
      ]
    },
    {
      "cell_type": "markdown",
      "source": [
        "##Recorriendo una lista"
      ],
      "metadata": {
        "id": "GMjBxWR5vaJI"
      }
    },
    {
      "cell_type": "markdown",
      "source": [
        "La forma más común de recorrer los elementos de una lista es con un bucle for.\n",
        "La sintaxis es la misma que para las cadenas:"
      ],
      "metadata": {
        "id": "qe359NzPvlny"
      }
    },
    {
      "cell_type": "code",
      "source": [
        "for queso in quesos:\n",
        "  print(queso)"
      ],
      "metadata": {
        "colab": {
          "base_uri": "https://localhost:8080/"
        },
        "id": "H4Yy6R1VvXXT",
        "outputId": "1555e5fe-74e2-4efa-f9c0-d85878c036d2"
      },
      "execution_count": null,
      "outputs": [
        {
          "output_type": "stream",
          "name": "stdout",
          "text": [
            "Cheddar\n",
            "Edam\n",
            "Gouda\n"
          ]
        }
      ]
    },
    {
      "cell_type": "markdown",
      "source": [
        "Esto funciona bien si solamente necesitas leer los elementos de la lista. Pero si\n",
        "quieres escribir o actualizar los elementos, necesitas los índices. Una forma común\n",
        "de hacer eso es combinando las funciones range y len:"
      ],
      "metadata": {
        "id": "qQNxJSfHvsDh"
      }
    },
    {
      "cell_type": "code",
      "source": [
        "for i in range(len(numeros)):\n",
        "  numeros[i] = numeros[i] * 2"
      ],
      "metadata": {
        "id": "eSJGFQ_kvpiL"
      },
      "execution_count": null,
      "outputs": []
    },
    {
      "cell_type": "markdown",
      "source": [
        "Este bucle recorre la lista y actualiza cada elemento. len regresa el número de\n",
        "elementos en una lista. range regresa una lista de índices desde 0 hasta n − 1,\n",
        "donde n es la longitud de la lista. Cada vez que pasa a través del recorrido, i\n",
        "obtiene el índice del siguiente elemento. La sentencia de asignación dentro del\n",
        "bucle utiliza i para leer el valor original del elemento y asignar un nuevo valor."
      ],
      "metadata": {
        "id": "J5g952LVv79p"
      }
    },
    {
      "cell_type": "markdown",
      "source": [
        "Un bucle for a través de una lista vacía nunca ejecuta el código contenido en el\n",
        "cuerpo:"
      ],
      "metadata": {
        "id": "SmxgJJVGv-uh"
      }
    },
    {
      "cell_type": "code",
      "source": [
        "for x in vacia:\n",
        "  print('Esto nunca sucede.')"
      ],
      "metadata": {
        "id": "nqr1w5-cv5W1"
      },
      "execution_count": null,
      "outputs": []
    },
    {
      "cell_type": "markdown",
      "source": [
        "Aunque una lista puede contener otra lista, las listas anidadas siguen contando\n",
        "como un solo elemento. El tamaño de esta lista es cuatro:\n",
        "> ['spam', 1, ['Brie', 'Roquefort', 'Pol le Veq'], [1, 2, 3]]"
      ],
      "metadata": {
        "id": "-yccrrgmwRBZ"
      }
    },
    {
      "cell_type": "markdown",
      "source": [
        "##Operaciones de listas"
      ],
      "metadata": {
        "id": "de21iiVPwXSG"
      }
    },
    {
      "cell_type": "markdown",
      "source": [
        "El operador + concatena listas:"
      ],
      "metadata": {
        "id": "CwO1qnpxwaGa"
      }
    },
    {
      "cell_type": "code",
      "source": [
        "a = [1, 2, 3]\n",
        "b = [4, 5, 6]\n",
        "c = a + b\n",
        "print(c)"
      ],
      "metadata": {
        "colab": {
          "base_uri": "https://localhost:8080/"
        },
        "id": "pWgSvFBSwG6a",
        "outputId": "e02a8645-e6a1-4e2f-96a9-bf10d937e608"
      },
      "execution_count": null,
      "outputs": [
        {
          "output_type": "stream",
          "name": "stdout",
          "text": [
            "[1, 2, 3, 4, 5, 6]\n"
          ]
        }
      ]
    },
    {
      "cell_type": "markdown",
      "source": [
        "De igual forma, el operador * repite una lista un determinado número de veces:"
      ],
      "metadata": {
        "id": "sLWVMHrDxNFI"
      }
    },
    {
      "cell_type": "code",
      "source": [
        "[0] * 4"
      ],
      "metadata": {
        "colab": {
          "base_uri": "https://localhost:8080/"
        },
        "id": "7xFjb90CxF6K",
        "outputId": "e29134ec-974a-4e0c-fbb8-45cd0967561f"
      },
      "execution_count": null,
      "outputs": [
        {
          "output_type": "execute_result",
          "data": {
            "text/plain": [
              "[0, 0, 0, 0]"
            ]
          },
          "metadata": {},
          "execution_count": 11
        }
      ]
    },
    {
      "cell_type": "code",
      "source": [
        "[1, 2, 3] * 3"
      ],
      "metadata": {
        "colab": {
          "base_uri": "https://localhost:8080/"
        },
        "id": "prDkpglXxQeH",
        "outputId": "0e062613-c61b-43d7-db9f-8f6dfe9ed1f3"
      },
      "execution_count": null,
      "outputs": [
        {
          "output_type": "execute_result",
          "data": {
            "text/plain": [
              "[1, 2, 3, 1, 2, 3, 1, 2, 3]"
            ]
          },
          "metadata": {},
          "execution_count": 12
        }
      ]
    },
    {
      "cell_type": "markdown",
      "source": [
        "En el primer ejemplo se repite cuatro veces. En el segundo ejemplo se repite la\n",
        "lista tres veces."
      ],
      "metadata": {
        "id": "maItl2EKxVFb"
      }
    },
    {
      "cell_type": "markdown",
      "source": [
        "##Rebanado de listas"
      ],
      "metadata": {
        "id": "4gbiomIRxYzi"
      }
    },
    {
      "cell_type": "markdown",
      "source": [
        "El operador de rebanado también funciona en listas:"
      ],
      "metadata": {
        "id": "xKH9kZH6xcKR"
      }
    },
    {
      "cell_type": "code",
      "source": [
        "t = ['a', 'b', 'c', 'd', 'e', 'f']\n",
        "t[1:3]"
      ],
      "metadata": {
        "colab": {
          "base_uri": "https://localhost:8080/"
        },
        "id": "-4cH0aV1xSbz",
        "outputId": "a0b55d10-db77-4eb6-9190-8361d52ebe6c"
      },
      "execution_count": null,
      "outputs": [
        {
          "output_type": "execute_result",
          "data": {
            "text/plain": [
              "['b', 'c']"
            ]
          },
          "metadata": {},
          "execution_count": 13
        }
      ]
    },
    {
      "cell_type": "code",
      "source": [
        "t[:]4"
      ],
      "metadata": {
        "colab": {
          "base_uri": "https://localhost:8080/"
        },
        "id": "JQR33VHuxfrG",
        "outputId": "5e75b2ca-9d46-49fb-abee-0684bf914ef4"
      },
      "execution_count": null,
      "outputs": [
        {
          "output_type": "execute_result",
          "data": {
            "text/plain": [
              "['a', 'b', 'c', 'd']"
            ]
          },
          "metadata": {},
          "execution_count": 14
        }
      ]
    },
    {
      "cell_type": "code",
      "source": [
        "t[3:]"
      ],
      "metadata": {
        "colab": {
          "base_uri": "https://localhost:8080/"
        },
        "id": "GWCSoYAyxhM4",
        "outputId": "fef4aabf-ba39-4460-cf8d-45974000b50d"
      },
      "execution_count": null,
      "outputs": [
        {
          "output_type": "execute_result",
          "data": {
            "text/plain": [
              "['d', 'e', 'f']"
            ]
          },
          "metadata": {},
          "execution_count": 15
        }
      ]
    },
    {
      "cell_type": "markdown",
      "source": [
        "Si omites el primer índice, el rebanado comienza desde el inicio de la lista. Si\n",
        "omites el segundo, el rebanado se va hasta el final. Así que si omites ambos, el\n",
        "rebanado es una copia de la lista completa."
      ],
      "metadata": {
        "id": "D-j8ttIsxlCK"
      }
    },
    {
      "cell_type": "code",
      "source": [
        "t[:]"
      ],
      "metadata": {
        "colab": {
          "base_uri": "https://localhost:8080/"
        },
        "id": "VRi1tcUbxi5r",
        "outputId": "e8c3c3b6-2567-4102-fd25-433064df4e90"
      },
      "execution_count": null,
      "outputs": [
        {
          "output_type": "execute_result",
          "data": {
            "text/plain": [
              "['a', 'b', 'c', 'd', 'e', 'f']"
            ]
          },
          "metadata": {},
          "execution_count": 16
        }
      ]
    },
    {
      "cell_type": "markdown",
      "source": [
        "Como las listas son mutables, a veces es útil hacer una copia antes de hacer operaciones\n",
        "que doblan, pegan, o cortan listas."
      ],
      "metadata": {
        "id": "eDS3_Kh9xsk2"
      }
    },
    {
      "cell_type": "markdown",
      "source": [
        "Un operador de rebanado al lado izquierdo de una asignación puede actualizar\n",
        "múltiples elementos:"
      ],
      "metadata": {
        "id": "R6SWLvOAxudJ"
      }
    },
    {
      "cell_type": "code",
      "source": [
        "t = ['a', 'c''b', , 'd', 'e', 'f']\n",
        "t[1:3] = ['x', 'y']\n",
        "print(t)"
      ],
      "metadata": {
        "colab": {
          "base_uri": "https://localhost:8080/"
        },
        "id": "G5nted0Kxqnc",
        "outputId": "ecedae4e-8edc-4c38-c522-254c1229f954"
      },
      "execution_count": null,
      "outputs": [
        {
          "output_type": "stream",
          "name": "stdout",
          "text": [
            "['a', 'x', 'y', 'd', 'e', 'f']\n"
          ]
        }
      ]
    },
    {
      "cell_type": "markdown",
      "source": [
        "##Métodos de listas"
      ],
      "metadata": {
        "id": "7B9r2J-5x35r"
      }
    },
    {
      "cell_type": "markdown",
      "source": [
        "Python provee métodos que operan en listas. Por ejemplo, append agrega un nuevo\n",
        "elemento al final de una lista:"
      ],
      "metadata": {
        "id": "FRKHnQFIyAtN"
      }
    },
    {
      "cell_type": "code",
      "source": [
        "t = ['a', 'b', 'c']\n",
        "t.append('d')\n",
        "print(t)"
      ],
      "metadata": {
        "colab": {
          "base_uri": "https://localhost:8080/"
        },
        "id": "aLpUlHPjx0XJ",
        "outputId": "874f19b8-f962-4922-e849-2a39e21689e5"
      },
      "execution_count": null,
      "outputs": [
        {
          "output_type": "stream",
          "name": "stdout",
          "text": [
            "['a', 'b', 'c', 'd']\n"
          ]
        }
      ]
    },
    {
      "cell_type": "markdown",
      "source": [
        "extend toma una lista como argumento y agrega todos los elementos:"
      ],
      "metadata": {
        "id": "WH-sp2A5yK2x"
      }
    },
    {
      "cell_type": "code",
      "source": [
        "t1 = ['a', 'b', 'c']\n",
        "t2 = ['d', 'e']\n",
        "t1.extend(t2)\n",
        "print(t1)"
      ],
      "metadata": {
        "colab": {
          "base_uri": "https://localhost:8080/"
        },
        "id": "tgZLfO5hyFrR",
        "outputId": "1ae292e1-0330-4329-ac03-c75605ecfba8"
      },
      "execution_count": null,
      "outputs": [
        {
          "output_type": "stream",
          "name": "stdout",
          "text": [
            "['a', 'b', 'c', 'd', 'e']\n"
          ]
        }
      ]
    },
    {
      "cell_type": "markdown",
      "source": [
        "Este ejemplo deja t2 sin modificar.\n",
        "sort ordena los elementos de la lista de menor a mayor:Este ejemplo deja t2 sin modificar.\n",
        "sort ordena los elementos de la lista de menor a mayor:"
      ],
      "metadata": {
        "id": "GbrTfVCmyVaj"
      }
    },
    {
      "cell_type": "code",
      "source": [
        "t = ['d', 'c', 'e', 'b', 'a']\n",
        "t.sort()\n",
        "print(t)"
      ],
      "metadata": {
        "colab": {
          "base_uri": "https://localhost:8080/"
        },
        "id": "KYj_xVuyyRk2",
        "outputId": "5ead12b2-5b41-43f1-c2c1-bc5da029f62a"
      },
      "execution_count": 5,
      "outputs": [
        {
          "output_type": "stream",
          "name": "stdout",
          "text": [
            "['a', 'b', 'c', 'd', 'e']\n"
          ]
        }
      ]
    },
    {
      "cell_type": "code",
      "source": [
        "a=t.sort()\n",
        "print(a)"
      ],
      "metadata": {
        "id": "Z40gIpTgF1LN",
        "outputId": "e10e2a51-d943-4713-e2fb-2f7b873f8094",
        "colab": {
          "base_uri": "https://localhost:8080/"
        }
      },
      "execution_count": 6,
      "outputs": [
        {
          "output_type": "stream",
          "name": "stdout",
          "text": [
            "None\n"
          ]
        }
      ]
    },
    {
      "cell_type": "markdown",
      "source": [
        "La mayoría de métodos no regresan nada; modifican la lista y regresan None. Si\n",
        "accidentalmentes escribes t = t.sort(), vas a decepcionarte con el resultado."
      ],
      "metadata": {
        "id": "CL7MXkp2yfsX"
      }
    },
    {
      "cell_type": "markdown",
      "source": [
        "##Eliminando elementos"
      ],
      "metadata": {
        "id": "crvtNTqhylvH"
      }
    },
    {
      "cell_type": "markdown",
      "source": [
        "Hay varias formas de eliminar elementos de una lista. Si sabes el índice del elemento\n",
        "que quieres, puedes usar pop:"
      ],
      "metadata": {
        "id": "sS9iutlMyoTi"
      }
    },
    {
      "cell_type": "code",
      "source": [
        "t = ['a', 'b', 'c']\n",
        "x = t.pop(1)\n",
        "print(t)"
      ],
      "metadata": {
        "colab": {
          "base_uri": "https://localhost:8080/"
        },
        "id": "x8Bhflt1ydDN",
        "outputId": "9c48118b-e4d5-4a42-8e41-994a4180ae92"
      },
      "execution_count": null,
      "outputs": [
        {
          "output_type": "stream",
          "name": "stdout",
          "text": [
            "['a', 'c']\n"
          ]
        }
      ]
    },
    {
      "cell_type": "code",
      "source": [
        "print(x)"
      ],
      "metadata": {
        "colab": {
          "base_uri": "https://localhost:8080/"
        },
        "id": "Hojij4ZNyteP",
        "outputId": "72090b77-1d2d-4d6c-87ed-0720d10d99fd"
      },
      "execution_count": null,
      "outputs": [
        {
          "output_type": "stream",
          "name": "stdout",
          "text": [
            "b\n"
          ]
        }
      ]
    },
    {
      "cell_type": "markdown",
      "source": [
        "pop modifica la lista y regresa el elemento que fue removido. Si no provees un\n",
        "índice, la función elimina y retorna el último elemento."
      ],
      "metadata": {
        "id": "rLnXR5HAzDjV"
      }
    },
    {
      "cell_type": "markdown",
      "source": [
        "Si no necesitas el valor removido, puedes usar el operador del:"
      ],
      "metadata": {
        "id": "5by8rXo6zFsh"
      }
    },
    {
      "cell_type": "code",
      "source": [
        "t = ['a', 'b', 'c']\n",
        "del t[1]\n",
        "print(t)"
      ],
      "metadata": {
        "colab": {
          "base_uri": "https://localhost:8080/"
        },
        "id": "Ljt9p5tByvCd",
        "outputId": "e9f85b0e-7929-45ed-c96e-d7f4cb88e82d"
      },
      "execution_count": null,
      "outputs": [
        {
          "output_type": "stream",
          "name": "stdout",
          "text": [
            "['a', 'c']\n"
          ]
        }
      ]
    },
    {
      "cell_type": "markdown",
      "source": [
        "Si sabes qué elemento quieres remover (pero no sabes el índice), puedes usar\n",
        "remove:"
      ],
      "metadata": {
        "id": "gS0XoUGizUxz"
      }
    },
    {
      "cell_type": "code",
      "source": [
        "t = ['a', 'b', 'c']\n",
        "t.remove('b')\n",
        "print(t)"
      ],
      "metadata": {
        "colab": {
          "base_uri": "https://localhost:8080/"
        },
        "id": "yicaBPS5zS9G",
        "outputId": "e6501cc4-45a0-404e-b700-176352898485"
      },
      "execution_count": null,
      "outputs": [
        {
          "output_type": "stream",
          "name": "stdout",
          "text": [
            "['a', 'c']\n"
          ]
        }
      ]
    },
    {
      "cell_type": "markdown",
      "source": [
        "El valor de retorno de remove es None.\n",
        "\n",
        "Para remover más de un elemento, puedes usar del con un índice de rebanado:"
      ],
      "metadata": {
        "id": "EAUgHfPxzdVU"
      }
    },
    {
      "cell_type": "code",
      "source": [
        "t = ['a', 'b', 'c', 'd', 'e', 'f']\n",
        "del t[1:5]\n",
        "print(t)"
      ],
      "metadata": {
        "colab": {
          "base_uri": "https://localhost:8080/"
        },
        "id": "66HsWmVrzbW7",
        "outputId": "1652d2a9-d52c-4c1f-b566-81950f65825f"
      },
      "execution_count": null,
      "outputs": [
        {
          "output_type": "stream",
          "name": "stdout",
          "text": [
            "['a', 'f']\n"
          ]
        }
      ]
    },
    {
      "cell_type": "markdown",
      "source": [
        "Como siempre, el rebanado selecciona todos los elementos hasta, pero excluyendo,\n",
        "el segundo índice."
      ],
      "metadata": {
        "id": "PtdcaDmezmij"
      }
    },
    {
      "cell_type": "markdown",
      "source": [
        "##Listas y funciones"
      ],
      "metadata": {
        "id": "TYkrgJZQzyjR"
      }
    },
    {
      "cell_type": "markdown",
      "source": [
        "Hay un cierto número funciones internas que pueden ser utilizadas en las listas que\n",
        "te permiten mirar rápidamente a través de una lista sin escribir tus propios bucles:"
      ],
      "metadata": {
        "id": "L0mGaHNa0kBc"
      }
    },
    {
      "cell_type": "code",
      "source": [
        "nums = [2,4,6,7,23,245]\n",
        "print(len(nums))"
      ],
      "metadata": {
        "colab": {
          "base_uri": "https://localhost:8080/"
        },
        "id": "PTTS3K4HzkvC",
        "outputId": "9af58a9b-df53-4598-8351-4f824be6f079"
      },
      "execution_count": 16,
      "outputs": [
        {
          "output_type": "stream",
          "name": "stdout",
          "text": [
            "6\n"
          ]
        }
      ]
    },
    {
      "cell_type": "code",
      "source": [
        "print(max(nums))"
      ],
      "metadata": {
        "colab": {
          "base_uri": "https://localhost:8080/"
        },
        "id": "WhchBxir0oUM",
        "outputId": "db736621-f089-4f0b-b290-efa721abcfd1"
      },
      "execution_count": 17,
      "outputs": [
        {
          "output_type": "stream",
          "name": "stdout",
          "text": [
            "245\n"
          ]
        }
      ]
    },
    {
      "cell_type": "code",
      "source": [
        "print(min(nums))"
      ],
      "metadata": {
        "colab": {
          "base_uri": "https://localhost:8080/"
        },
        "id": "vd8qxelK0pyV",
        "outputId": "4bf5f4e9-e27b-4243-ff0b-9ca828d723f0"
      },
      "execution_count": 18,
      "outputs": [
        {
          "output_type": "stream",
          "name": "stdout",
          "text": [
            "2\n"
          ]
        }
      ]
    },
    {
      "cell_type": "code",
      "source": [
        "print(sum(nums))"
      ],
      "metadata": {
        "colab": {
          "base_uri": "https://localhost:8080/"
        },
        "id": "zSCVi7cj0r3h",
        "outputId": "5257df34-f55e-4c2e-eaa5-869ff8dc5870"
      },
      "execution_count": 19,
      "outputs": [
        {
          "output_type": "stream",
          "name": "stdout",
          "text": [
            "287\n"
          ]
        }
      ]
    },
    {
      "cell_type": "code",
      "source": [
        "print(sum(nums)/len(nums))"
      ],
      "metadata": {
        "colab": {
          "base_uri": "https://localhost:8080/"
        },
        "id": "GbTGwGjj0ttA",
        "outputId": "9281fe7b-3f7b-4138-ebd2-afbb8bf37374"
      },
      "execution_count": 20,
      "outputs": [
        {
          "output_type": "stream",
          "name": "stdout",
          "text": [
            "47.833333333333336\n"
          ]
        }
      ]
    },
    {
      "cell_type": "markdown",
      "source": [
        "La función sum() solamente funciona cuando los elementos de la lista son números.\n",
        "Las otras funciones (max(), len(), etc.) funcionan con listas de cadenas y otros\n",
        "tipos que pueden ser comparados entre sí."
      ],
      "metadata": {
        "id": "WxC2qcda0z3-"
      }
    },
    {
      "cell_type": "markdown",
      "source": [
        "Podríamos reescribir un programa anterior que calculaba el promedio de una lista\n",
        "de números ingresados por el usuario utilizando una lista."
      ],
      "metadata": {
        "id": "svkNHetO02Dl"
      }
    },
    {
      "cell_type": "markdown",
      "source": [
        "Primero, el programa para calcular un promedio sin una lista:"
      ],
      "metadata": {
        "id": "HA-BI-k004Kk"
      }
    },
    {
      "cell_type": "code",
      "source": [
        "total = 0\n",
        "contador = 0\n",
        "while (True):\n",
        "  inp = input('Ingresa un número: ')\n",
        "  if inp == 'fin': break\n",
        "  valor = float(inp)\n",
        "  total = total + valor\n",
        "  contador = contador + 1\n",
        "promedio = total / contador\n",
        "print('Promedio:', promedio)\n"
      ],
      "metadata": {
        "colab": {
          "base_uri": "https://localhost:8080/"
        },
        "id": "BzuTTAbI0vlT",
        "outputId": "5f137cfc-a5fa-4d3b-c1a7-41c3f66c2279"
      },
      "execution_count": 22,
      "outputs": [
        {
          "output_type": "stream",
          "name": "stdout",
          "text": [
            "Ingresa un número: 34\n",
            "Ingresa un número: 24\n",
            "Ingresa un número: 55\n",
            "Ingresa un número: 76\n",
            "Ingresa un número: fin\n",
            "Promedio: 47.25\n"
          ]
        }
      ]
    },
    {
      "cell_type": "markdown",
      "source": [
        "En este programa, tenemos las variables contador y total para almacenar la\n",
        "cantidad y el total actual de los números del usuario según el usuario va ingresando\n",
        "los números repetidamente."
      ],
      "metadata": {
        "id": "X5CpITle1WXq"
      }
    },
    {
      "cell_type": "markdown",
      "source": [
        "Podríamos simplemente recordar cada número como el número lo ingresó, y utilizar\n",
        "funciones internas para calcular la suma y el total de números al final."
      ],
      "metadata": {
        "id": "7M4vPBUN1ZTo"
      }
    },
    {
      "cell_type": "code",
      "source": [
        "numlista = list()\n",
        "while (True):\n",
        "  inp = input('Ingresa un número: ')\n",
        "  if inp == 'fin': break\n",
        "  valor = float(inp)\n",
        "  numlista.append(valor)\n",
        "promedio = sum(numlista) / len(numlista)\n",
        "print('Promedio:', promedio)"
      ],
      "metadata": {
        "colab": {
          "base_uri": "https://localhost:8080/"
        },
        "id": "MqFurOOa1Jro",
        "outputId": "c6a3e40b-c117-4768-be56-c946aac2f069"
      },
      "execution_count": 23,
      "outputs": [
        {
          "output_type": "stream",
          "name": "stdout",
          "text": [
            "Ingresa un número: 23\n",
            "Ingresa un número: 45\n",
            "Ingresa un número: 43\n",
            "Ingresa un número: 78\n",
            "Ingresa un número: fin\n",
            "Promedio: 47.25\n"
          ]
        }
      ]
    },
    {
      "cell_type": "code",
      "source": [
        "print (numlista)"
      ],
      "metadata": {
        "id": "7hXmF-X6KKY6",
        "outputId": "94c15259-86bb-4cf6-bbbd-8cf4fa02e257",
        "colab": {
          "base_uri": "https://localhost:8080/"
        }
      },
      "execution_count": 24,
      "outputs": [
        {
          "output_type": "stream",
          "name": "stdout",
          "text": [
            "[23.0, 45.0, 43.0, 78.0]\n"
          ]
        }
      ]
    },
    {
      "cell_type": "markdown",
      "source": [
        "Creamos una lista vacía antes de que comience el bucle, y luego cada vez que\n",
        "tengamos un número, lo agregamos a la lista. Al final del programa, simplemente\n",
        "calculamos la suma de los números en la lista y la dividimos por el total de números\n",
        "en la lista para obtener el promedio."
      ],
      "metadata": {
        "id": "Qb6Crj2l2n9P"
      }
    },
    {
      "cell_type": "markdown",
      "source": [
        "##Listas y cadenas"
      ],
      "metadata": {
        "id": "0C3A4egS2ugc"
      }
    },
    {
      "cell_type": "markdown",
      "source": [
        "Una cadena es una secuencia de caracteres y una lista es una secuencia de valores,\n",
        "pero una lista de caracteres no es lo mismo que una cadena. Para convertir una\n",
        "cadena en una lista de caracteres, puedes usar list:"
      ],
      "metadata": {
        "id": "Lkz1SKTb2xTZ"
      }
    },
    {
      "cell_type": "code",
      "source": [
        "s = 'spam'\n",
        "t = list(s)\n",
        "print(t)"
      ],
      "metadata": {
        "colab": {
          "base_uri": "https://localhost:8080/"
        },
        "id": "kJ_s_wkE2hra",
        "outputId": "962c2617-f072-4502-9a16-8b2f7881c905"
      },
      "execution_count": null,
      "outputs": [
        {
          "output_type": "stream",
          "name": "stdout",
          "text": [
            "['s', 'p', 'a', 'm']\n"
          ]
        }
      ]
    },
    {
      "cell_type": "markdown",
      "source": [
        "Debido a que list es el nombre de una función interna, debes evitar usarla como\n",
        "un nombre de variable. Yo trato de evitar también la letra “l” porque se parece\n",
        "mucho al número “1”. Así que por eso utilizo “t”."
      ],
      "metadata": {
        "id": "cGW9iEa93Bx2"
      }
    },
    {
      "cell_type": "markdown",
      "source": [
        "La función list divide una cadena en letras individuales. Si quieres dividir una\n",
        "cadena en palabras, puedes utilizar el método split:"
      ],
      "metadata": {
        "id": "ePZAhZmV3D8T"
      }
    },
    {
      "cell_type": "code",
      "source": [
        "s = 'suspirando por los fiordos'\n",
        "t = s.split()\n",
        "print(t)"
      ],
      "metadata": {
        "colab": {
          "base_uri": "https://localhost:8080/"
        },
        "id": "GQXgw8Af2tNm",
        "outputId": "091bf3c7-a945-4a6a-c5a3-61a8cea476cf"
      },
      "execution_count": null,
      "outputs": [
        {
          "output_type": "stream",
          "name": "stdout",
          "text": [
            "['suspirando', 'por', 'los', 'fiordos']\n"
          ]
        }
      ]
    },
    {
      "cell_type": "code",
      "source": [
        "print(t[2])"
      ],
      "metadata": {
        "colab": {
          "base_uri": "https://localhost:8080/"
        },
        "id": "1h2-oocJ3JAw",
        "outputId": "94e57e8e-783c-481e-c410-2adae3530682"
      },
      "execution_count": null,
      "outputs": [
        {
          "output_type": "stream",
          "name": "stdout",
          "text": [
            "los\n"
          ]
        }
      ]
    },
    {
      "cell_type": "markdown",
      "source": [
        "Una vez que hayas utilizado split para dividir una cadena en una lista de palabras,\n",
        "puedes utilizar el operador índice (corchetes) para ver una palabra en particular\n",
        "en la lista."
      ],
      "metadata": {
        "id": "mPpm-mgV3cTN"
      }
    },
    {
      "cell_type": "markdown",
      "source": [
        "Puedes llamar split con un argumento opcional llamado delimitador que especifica\n",
        "qué caracteres usar para delimitar las palabras. El siguiente ejemplo utiliza un\n",
        "guión medio como delimitador:"
      ],
      "metadata": {
        "id": "AXt14jpI3eYf"
      }
    },
    {
      "cell_type": "code",
      "source": [
        "s = 'spam-spam-spam'\n",
        "delimiter = '-'\n",
        "s.split(delimiter)"
      ],
      "metadata": {
        "colab": {
          "base_uri": "https://localhost:8080/"
        },
        "id": "MMePH-hM3Ku0",
        "outputId": "ead353e0-d4d1-48e6-c737-67dd66cb4c68"
      },
      "execution_count": null,
      "outputs": [
        {
          "output_type": "execute_result",
          "data": {
            "text/plain": [
              "['spam', 'spam', 'spam']"
            ]
          },
          "metadata": {},
          "execution_count": 38
        }
      ]
    },
    {
      "cell_type": "markdown",
      "source": [
        "join es el inverso de split. Este toma una lista de cadenas y concatena los\n",
        "elementos. join es un método de cadenas, así que tienes que invocarlo en el\n",
        "delimitador y pasar la lista como un parámetro:"
      ],
      "metadata": {
        "id": "t6aL1ttE3oBz"
      }
    },
    {
      "cell_type": "code",
      "source": [
        "t = ['suspirando', 'por', 'los', 'fiordos']\n",
        "delimiter = ' '\n",
        "delimiter.join(t)"
      ],
      "metadata": {
        "colab": {
          "base_uri": "https://localhost:8080/",
          "height": 36
        },
        "id": "dMhlr61F3k7I",
        "outputId": "4170603a-5788-4c2e-82d1-b5102f5724e7"
      },
      "execution_count": 29,
      "outputs": [
        {
          "output_type": "execute_result",
          "data": {
            "text/plain": [
              "'suspirando por los fiordos'"
            ],
            "application/vnd.google.colaboratory.intrinsic+json": {
              "type": "string"
            }
          },
          "metadata": {},
          "execution_count": 29
        }
      ]
    },
    {
      "cell_type": "markdown",
      "source": [
        "En este caso el delimitador es un caracter de espacio, así que join agrega un\n",
        "espacio entre las palabras. Para concatenar cadenas sin espacios, puedes usar la\n",
        "cadena vacía, “”, como delimitador."
      ],
      "metadata": {
        "id": "tPQzIBIY3yYb"
      }
    },
    {
      "cell_type": "markdown",
      "source": [
        "##Analizando líneas"
      ],
      "metadata": {
        "id": "6bNF0IFL31_P"
      }
    },
    {
      "cell_type": "markdown",
      "source": [
        "Normalmente cuando estamos leyendo un archivo queremos hacer algo con las\n",
        "líneas que no sea solamente imprimir las líneas como son. Frecuentemente queremos\n",
        "encontrar las “líneas interesantes” y después analizar la línea para encontrar\n",
        "alguna “parte interesante” en la línea. ¿Qué tal si quisiéramos imprimir el día de\n",
        "la semana de las líneas que comienzan con “From”?\n",
        "\n",
        "> From stephen.marquard@uct.ac.za Sat Jan 5 09:14:16 2008\n",
        "\n",
        "El método split es muy efectivo cuando nos encontramos este tipo de problemas.\n",
        "Podemos escribir un pequeño programa que busca líneas donde la línea comienza\n",
        "con “From”, split (dividir) esas líneas, y finalmente imprimir la tercer palabra de\n",
        "la línea:"
      ],
      "metadata": {
        "id": "vnZkF2QI35I8"
      }
    },
    {
      "cell_type": "code",
      "source": [
        "man_a = open('/content/drive/MyDrive/cfp-4to/mbox-short.txt')\n",
        "for linea in man_a:\n",
        "  linea = linea.rstrip()\n",
        "  if not linea.startswith('From '): continue\n",
        "  palabras = linea.split()\n",
        "  print(palabras[2])"
      ],
      "metadata": {
        "colab": {
          "base_uri": "https://localhost:8080/"
        },
        "id": "YySu5zPW3v_T",
        "outputId": "f86ceda3-a63c-4cf5-9e6b-a17d0e8b4768"
      },
      "execution_count": null,
      "outputs": [
        {
          "output_type": "stream",
          "name": "stdout",
          "text": [
            "Sat\n",
            "Fri\n",
            "Fri\n",
            "Fri\n",
            "Fri\n",
            "Fri\n",
            "Fri\n",
            "Fri\n",
            "Fri\n",
            "Fri\n",
            "Fri\n",
            "Fri\n",
            "Fri\n",
            "Fri\n",
            "Fri\n",
            "Fri\n",
            "Fri\n",
            "Fri\n",
            "Fri\n",
            "Fri\n",
            "Fri\n",
            "Thu\n",
            "Thu\n",
            "Thu\n",
            "Thu\n",
            "Thu\n",
            "Thu\n"
          ]
        }
      ]
    },
    {
      "cell_type": "markdown",
      "source": [
        "Más tarde, aprenderemos técnicas muy sofisticadas para obtener las líneas que\n",
        "queremos para trajar sobre ellas y cómo sacar el fragmento exacto de información\n",
        "que estamos buscando."
      ],
      "metadata": {
        "id": "I_xhTizN4cNN"
      }
    },
    {
      "cell_type": "markdown",
      "source": [
        "## Objetos y valores"
      ],
      "metadata": {
        "id": "dnNvrZQm4eVy"
      }
    },
    {
      "cell_type": "markdown",
      "source": [
        "Si ejecutamos las siguientes sentencias de asignación:\n",
        "\n",
        ">a = 'banana'\n",
        "\n",
        ">b = 'banana'\n",
        "\n",
        "sabemos que ambos a y b se refieren a una cadena, pero no sabemos si se refieren\n",
        "o apuntan a la misma cadena. Hay dos estados posibles:"
      ],
      "metadata": {
        "id": "X7dRU9pX5-C0"
      }
    },
    {
      "cell_type": "markdown",
      "source": [
        "![image.png](data:image/png;base64,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)"
      ],
      "metadata": {
        "id": "IJRaIK1F6RgA"
      }
    },
    {
      "cell_type": "markdown",
      "source": [
        "Por un lado, a y b se refieren a dos objetos diferentes que tienen el mismo valor.\n",
        "Por otro lado, apuntan al mismo objeto."
      ],
      "metadata": {
        "id": "IF8Vvl566UFR"
      }
    },
    {
      "cell_type": "markdown",
      "source": [
        "Para revisar si dos variables apuntan al mismo objeto, puedes utilizar el operador\n",
        "is."
      ],
      "metadata": {
        "id": "ftxOJvI_6WQn"
      }
    },
    {
      "cell_type": "code",
      "source": [
        "a = 'banana'\n",
        "b = 'banana'\n",
        "a is b"
      ],
      "metadata": {
        "colab": {
          "base_uri": "https://localhost:8080/"
        },
        "id": "H8d1yfmt4cr-",
        "outputId": "420a77eb-0619-408a-cb01-6977e65088fd"
      },
      "execution_count": null,
      "outputs": [
        {
          "output_type": "execute_result",
          "data": {
            "text/plain": [
              "True"
            ]
          },
          "metadata": {},
          "execution_count": 41
        }
      ]
    },
    {
      "cell_type": "markdown",
      "source": [
        "En este ejemplo, Python solamente creó un objeto de cadena, y ambos a y b\n",
        "apuntan a él."
      ],
      "metadata": {
        "id": "JgqHBmpk6dCL"
      }
    },
    {
      "cell_type": "markdown",
      "source": [
        "Pero cuando creas dos listas, obtienes dos objetos diferentes:"
      ],
      "metadata": {
        "id": "EyJ8LyOI6fCR"
      }
    },
    {
      "cell_type": "code",
      "source": [
        "a = [1, 2, 3]\n",
        "b = [1, 2, 3]\n",
        "a is b"
      ],
      "metadata": {
        "colab": {
          "base_uri": "https://localhost:8080/"
        },
        "id": "-e0Pr27R6bSW",
        "outputId": "8cb0ffb1-5caa-4138-c4d2-2bd7d12fbfcd"
      },
      "execution_count": null,
      "outputs": [
        {
          "output_type": "execute_result",
          "data": {
            "text/plain": [
              "False"
            ]
          },
          "metadata": {},
          "execution_count": 42
        }
      ]
    },
    {
      "cell_type": "markdown",
      "source": [
        "En este caso podríamos decir que las dos listas son equivalentes, porque tienen\n",
        "los mismos elementos, pero no idénticas, porque no son el mismo objeto. Si dos\n",
        "objetos son idénticos, son también equivalentes, pero si son equivalentes, no son\n",
        "necesariamente idénticos."
      ],
      "metadata": {
        "id": "M2617xpd6quv"
      }
    },
    {
      "cell_type": "markdown",
      "source": [
        "Hasta ahora, hemos estado usando “objeto” y “valor” de forma intercambiable,\n",
        "pero es más preciso decir que un objeto tiene un valor. Si ejecutas a = [1,2,3], a\n",
        "se refiere a una lista de objetos cuyo valor es una secuencia particular de elementos.\n",
        "Si otra lista tiene los mismos elementos, diríamos que tiene el mismo valor."
      ],
      "metadata": {
        "id": "z4m8qzvI6tAi"
      }
    },
    {
      "cell_type": "markdown",
      "source": [
        "##Alias"
      ],
      "metadata": {
        "id": "GT9rwviH6vCD"
      }
    },
    {
      "cell_type": "markdown",
      "source": [
        "Si a se refiere a un objecto y tu asignasb = a, entonces ambas variables se refieren\n",
        "al mismo objeto:"
      ],
      "metadata": {
        "id": "SRG6rRcX6yD5"
      }
    },
    {
      "cell_type": "code",
      "source": [
        "a = [1, 2, 3]\n",
        "b = a\n",
        "b is a"
      ],
      "metadata": {
        "colab": {
          "base_uri": "https://localhost:8080/"
        },
        "id": "cgGNdbuP6l6C",
        "outputId": "c0872b89-9b63-496b-b017-9228cfab4e87"
      },
      "execution_count": null,
      "outputs": [
        {
          "output_type": "execute_result",
          "data": {
            "text/plain": [
              "True"
            ]
          },
          "metadata": {},
          "execution_count": 43
        }
      ]
    },
    {
      "cell_type": "markdown",
      "source": [
        "La asociación de una variable a un objeto es llamada una referencia. En este\n",
        "ejemplo, hay dos referencias al mismo objeto."
      ],
      "metadata": {
        "id": "vk2-ZaRW65LA"
      }
    },
    {
      "cell_type": "markdown",
      "source": [
        "Un objeto con más de una referencia tiene más de un nombre, así que decimos que\n",
        "el objeto es un alias."
      ],
      "metadata": {
        "id": "t8-qwcQD67MI"
      }
    },
    {
      "cell_type": "markdown",
      "source": [
        "Si el alias del objeto es mutable, los cambios hechos a un alias afectan al otro:"
      ],
      "metadata": {
        "id": "1OaF7GqO6-U1"
      }
    },
    {
      "cell_type": "code",
      "source": [
        "b[0] = 17\n",
        "print(a)"
      ],
      "metadata": {
        "colab": {
          "base_uri": "https://localhost:8080/"
        },
        "id": "2PYHNa_W63Lv",
        "outputId": "4412a41b-cd40-4474-a0ad-9a4cd1140147"
      },
      "execution_count": null,
      "outputs": [
        {
          "output_type": "stream",
          "name": "stdout",
          "text": [
            "[17, 2, 3]\n"
          ]
        }
      ]
    },
    {
      "cell_type": "markdown",
      "source": [
        "Aunque este comportamiento puede ser útil, es propenso a errores.\n",
        "En general, es más seguro evitar usar alias cuando estás trabajando con objetos mutables.\n",
        "\n",
        "Para objetos inmutables como cadenas, los alias no son un problema realmente.\n",
        "\n",
        "En este ejemplo:\n",
        "\n",
        ">a = 'banana'\n",
        "\n",
        ">b = 'banana'\n",
        "\n",
        "casi nunca hay diferencia si a y b apuntan a la misma cadena o no."
      ],
      "metadata": {
        "id": "19E1eAlzPVtF"
      }
    },
    {
      "cell_type": "markdown",
      "source": [
        "##Listas como argumentos"
      ],
      "metadata": {
        "id": "N4Lh-WFAPlxD"
      }
    },
    {
      "cell_type": "markdown",
      "source": [
        "Cuando pasas una lista a una función, la función obtiene un apuntador a la lista.\n",
        "Si la función modifica un parámetro de la lista, el código que ha llamado la función\n",
        "también verá el cambio. Por ejemplo, remover_primero elimina el primer elemento\n",
        "de una lista:"
      ],
      "metadata": {
        "id": "_FEyo_u1Pow2"
      }
    },
    {
      "cell_type": "code",
      "source": [
        "def remover_primero(t):\n",
        "  del t[0]"
      ],
      "metadata": {
        "id": "mWLy9BVr8H04"
      },
      "execution_count": 30,
      "outputs": []
    },
    {
      "cell_type": "markdown",
      "source": [
        "Aquí está el ejemplo de cómo se usa:"
      ],
      "metadata": {
        "id": "dfmybTj2P8Yn"
      }
    },
    {
      "cell_type": "code",
      "source": [
        "letras = ['a', 'b', 'c']\n",
        "remover_primero(letras)\n",
        "print(letras)"
      ],
      "metadata": {
        "id": "fWmM3j1hPzpb",
        "outputId": "bba403e7-e1e1-4b87-85d6-c638a74336d3",
        "colab": {
          "base_uri": "https://localhost:8080/"
        }
      },
      "execution_count": 38,
      "outputs": [
        {
          "output_type": "stream",
          "name": "stdout",
          "text": [
            "['b', 'c']\n"
          ]
        }
      ]
    },
    {
      "cell_type": "markdown",
      "source": [
        "El parámetro t y la variable letras son alias para el mismo objeto."
      ],
      "metadata": {
        "id": "nNzjTfwxQG_J"
      }
    },
    {
      "cell_type": "markdown",
      "source": [
        "Es importante distinguir entre operaciones que modifican listas y operaciones que\n",
        "crean nuevas listas. Por ejemplo, el método append modifica una lista, pero el\n",
        "operador + crea una nueva lista:"
      ],
      "metadata": {
        "id": "f8v_Y2xEQKbC"
      }
    },
    {
      "cell_type": "code",
      "source": [
        "t1 = [1, 2]\n",
        "t2 = t1.append(3)\n",
        "print(t1)"
      ],
      "metadata": {
        "id": "s7JSlYcPQHdD",
        "outputId": "0662983b-440c-4062-fd2d-0d35c37c8395",
        "colab": {
          "base_uri": "https://localhost:8080/"
        }
      },
      "execution_count": 39,
      "outputs": [
        {
          "output_type": "stream",
          "name": "stdout",
          "text": [
            "[1, 2, 3]\n"
          ]
        }
      ]
    },
    {
      "cell_type": "code",
      "source": [
        "print(t2)"
      ],
      "metadata": {
        "id": "kx_t5L3RQRrK",
        "outputId": "79d9ed62-a4ba-42f2-d51a-189f4bf8f9f5",
        "colab": {
          "base_uri": "https://localhost:8080/"
        }
      },
      "execution_count": 37,
      "outputs": [
        {
          "output_type": "stream",
          "name": "stdout",
          "text": [
            "None\n"
          ]
        }
      ]
    },
    {
      "cell_type": "code",
      "source": [
        "t3 = t1 + [3]\n",
        "print(t3)\n"
      ],
      "metadata": {
        "id": "5orOPF9MQURJ",
        "outputId": "5296d74a-429b-49fd-e79e-4c2974938085",
        "colab": {
          "base_uri": "https://localhost:8080/"
        }
      },
      "execution_count": 40,
      "outputs": [
        {
          "output_type": "stream",
          "name": "stdout",
          "text": [
            "[1, 2, 3, 3]\n"
          ]
        }
      ]
    },
    {
      "cell_type": "code",
      "source": [
        "t2 is t3"
      ],
      "metadata": {
        "id": "WjMvCvcpQskb",
        "outputId": "401a93ea-63fa-4282-ed8f-4c23a69dbcea",
        "colab": {
          "base_uri": "https://localhost:8080/"
        }
      },
      "execution_count": 41,
      "outputs": [
        {
          "output_type": "execute_result",
          "data": {
            "text/plain": [
              "False"
            ]
          },
          "metadata": {},
          "execution_count": 41
        }
      ]
    },
    {
      "cell_type": "markdown",
      "source": [
        "Esta diferencia es importante cuando escribes funciones que no están destinadas a\n",
        "modificar listas. Por ejemplo, esta función no elimina el primer elemento de una\n",
        "lista:"
      ],
      "metadata": {
        "id": "0SwKAJmxQ0Ga"
      }
    },
    {
      "cell_type": "code",
      "source": [
        "def mal_eliminar_primero(t):\n",
        "  t = t[1:] # ¡EQUIVOCADO!"
      ],
      "metadata": {
        "id": "9pYQ8DWMQuPW"
      },
      "execution_count": 42,
      "outputs": []
    },
    {
      "cell_type": "markdown",
      "source": [
        "El operador de rebanado crea una nueva lista y el asignamiento hace que t apunte\n",
        "a la lista, pero nada de esto tiene efecto en la lista que fue pasada como argumento.\n",
        "Una alternativa es escribir una función que cree y regrese una nueva lista. Por\n",
        "ejemplo, cola regresa todo excepto el primer elemento de una lista:"
      ],
      "metadata": {
        "id": "Z9nD9TV8Q-Dw"
      }
    },
    {
      "cell_type": "code",
      "source": [
        "def cola(t):\n",
        "  return t[1:]"
      ],
      "metadata": {
        "id": "WJqegfSJQ-ua"
      },
      "execution_count": 43,
      "outputs": []
    },
    {
      "cell_type": "markdown",
      "source": [
        "Esta función deja la lista original sin modificar. Aquí está como es que se usa:"
      ],
      "metadata": {
        "id": "XYTu77GgRFPs"
      }
    },
    {
      "cell_type": "code",
      "source": [
        "letras = ['a', 'b', 'c']\n",
        "resto = cola(letras)\n",
        "print(resto)"
      ],
      "metadata": {
        "id": "zTmZAsPiRCFh",
        "outputId": "ad3c4572-634f-4fca-c6d8-525cde11fa6e",
        "colab": {
          "base_uri": "https://localhost:8080/"
        }
      },
      "execution_count": 44,
      "outputs": [
        {
          "output_type": "stream",
          "name": "stdout",
          "text": [
            "['b', 'c']\n"
          ]
        }
      ]
    },
    {
      "cell_type": "markdown",
      "source": [
        "Ejercicio 1: Escribe una función llamada recortar que toma una lista y la modifica,\n",
        "removiendo el primer y último elemento, y regresa None. Después escribe una\n",
        "función llamada medio que toma una lista y regresa una nueva lista que contiene\n",
        "todo excepto el primero y último elementos."
      ],
      "metadata": {
        "id": "mbt72xY0RS1Y"
      }
    },
    {
      "cell_type": "code",
      "source": [],
      "metadata": {
        "id": "3b-H0CMIRMlR"
      },
      "execution_count": null,
      "outputs": []
    },
    {
      "cell_type": "markdown",
      "source": [
        "##Depuración"
      ],
      "metadata": {
        "id": "ljp6DPwgRX1L"
      }
    },
    {
      "cell_type": "markdown",
      "source": [
        "El uso descuidado de listas (y otros objetos mutables) puede llevar a largas horas\n",
        "de depuración. Aquí están algumos de los errores más comunes y las formas de\n",
        "evitarlos:"
      ],
      "metadata": {
        "id": "XKLATXB8Ra9h"
      }
    },
    {
      "cell_type": "markdown",
      "source": [
        "No olvides que la mayoría de métodos de listas modifican el argumento y\n",
        "regresan None. Esto es lo opuesto a los métodos de cadenas, que regresan\n",
        "una nueva cadena y dejan la original sin modificar."
      ],
      "metadata": {
        "id": "1fmxQILfRhAz"
      }
    },
    {
      "cell_type": "markdown",
      "source": [
        "Si estás acostumbrado a escribir código de cadenas como este:\n",
        "\n",
        ">palabra = palabra.strip()\n",
        "\n",
        "Estás propenso a escribir código de listas como este:\n",
        "\n",
        ">t = t.sort() # ¡EQUIVOCADO!\n",
        "\n",
        "Debido a que sort regresa None, la siguiente operación que hagas con t esprobable que falle."
      ],
      "metadata": {
        "id": "_rtF2n0CRlZP"
      }
    },
    {
      "cell_type": "markdown",
      "source": [
        "2.- Antes de usar métodos y operadores de listas, deberías leer la documentación cuidadosamente y después probarlos en modo interactivo. Los métodos y operadores que las listas comparten con otras secuencias (como cadenas)\n",
        "están documentados en:\n",
        "\n",
        "[docs.python.org/library/stdtypes.html#common-sequence-operations](https://docs.python.org/library/stdtypes.html#common-sequence-operations)\n",
        "\n",
        "Los métodos y operadores que solamente aplican a secuencias\n",
        "mutables están documentados en:\n",
        "\n",
        "http://docs.python.org/library/stdtypes.html#mutable-sequence-types"
      ],
      "metadata": {
        "id": "BhS-wpvyR6Y2"
      }
    },
    {
      "cell_type": "markdown",
      "source": [
        "3.- Elige un estilo y apégate a él.\n",
        "\n",
        "Parte del problema con listas es que hay demasiadas formas de hacer las cosas. Por ejemplo, para remover un elemento de una lista, puedes utilizar pop, remove, del, o incluso una asignación por rebanado.\n",
        "\n",
        "Para agregar un elemento, puedes utilizar el método append o el operador +. Pero no olvides que esos también son correctos:\n",
        "\n",
        ">t.append(x)\n",
        "\n",
        ">t = t + [x]\n",
        "\n",
        "Y esos son incorrectos:\n",
        "\n",
        ">t.append([x]) # ¡EQUIVOCADO!\n",
        "\n",
        ">t = t.append(x) # ¡EQUIVOCADO!\n",
        "\n",
        ">t + [x] # ¡EQUIVOCADO!\n",
        "\n",
        ">t = t + x # ¡EQUIVOCADO!\n",
        "\n",
        "Prueba cada uno de esos ejemplos en modo interactivo para asegurarte que\n",
        "entiendes lo que hacen. Nota que solamente la última provoca un error en\n",
        "tiempo de ejecución (runtime error); los otros tres son válidos, pero hacen la\n",
        "función equivocada."
      ],
      "metadata": {
        "id": "e9Apx8ASSaNR"
      }
    },
    {
      "cell_type": "markdown",
      "source": [
        "3.- Hacer copias para evitar alias.\n",
        "\n",
        "Si quieres utilizar un método como sort que modifica el argumento, pero\n",
        "necesitas mantener la lista original también, puedes hacer una copia.\n",
        "\n",
        ">orig = t[:]\n",
        "\n",
        ">t.sort()\n",
        "\n",
        "En este ejemplo podrías tambien usar la función interna sorted, la cual\n",
        "regresa una lista nueva y ordenada, y deja la original sin modificar. ¡Pero en\n",
        "ese caso deberías evitar usar sorted como un nombre de variable!"
      ],
      "metadata": {
        "id": "KCPXNrxdTGdb"
      }
    },
    {
      "cell_type": "markdown",
      "source": [
        "4.- Listas, split, y archivos\n",
        "\n",
        "Cuando leemos y analizamos archivos, hay muchas oportunidades de encontrar\n",
        "entradas que pueden hacer fallar a nuestro programa, así que es una\n",
        "buena idea revisar el patrón guardián cuando escribimos programas que leen\n",
        "a través de un archivo y buscan una “aguja en un pajar”.\n",
        "\n",
        "Vamos a revisar nuestro programa que busca por el día de la semana en las líneas que contienen “from” en el archivo“:\n",
        "\n",
        "From stephen.marquard@uct.ac.za Sat Jan 5 09:14:16 2008\n",
        "\n",
        "Puesto que estamos dividiendo esta línea en palabras, podríamos apañarnos\n",
        "con el uso de startswith y simplemente buscar la primer palabra de la\n",
        "línea para determinar si estamos interesados en esa línea o no. Podemos usar\n",
        "continue para saltarnos líneas que no tienen “From” como la primer palabra,\n",
        "tal como sigue:\n"
      ],
      "metadata": {
        "id": "GeXKM-LVTkbU"
      }
    },
    {
      "cell_type": "code",
      "source": [
        "manejador = open('mbox-short.txt')\n",
        "for linea in manejador:\n",
        "  palabras = linea.split()\n",
        "  if palabras[0] != 'From' : continue\n",
        "  print(palabras[2])"
      ],
      "metadata": {
        "id": "fQXG5FFhRZEL",
        "outputId": "bc68c9e2-7fa2-4586-8856-c85d8bc5a328",
        "colab": {
          "base_uri": "https://localhost:8080/",
          "height": 251
        }
      },
      "execution_count": 45,
      "outputs": [
        {
          "output_type": "error",
          "ename": "FileNotFoundError",
          "evalue": "ignored",
          "traceback": [
            "\u001b[0;31m---------------------------------------------------------------------------\u001b[0m",
            "\u001b[0;31mFileNotFoundError\u001b[0m                         Traceback (most recent call last)",
            "\u001b[0;32m<ipython-input-45-147e8d0168f7>\u001b[0m in \u001b[0;36m<cell line: 1>\u001b[0;34m()\u001b[0m\n\u001b[0;32m----> 1\u001b[0;31m \u001b[0mmanejador\u001b[0m \u001b[0;34m=\u001b[0m \u001b[0mopen\u001b[0m\u001b[0;34m(\u001b[0m\u001b[0;34m'mbox-short.txt'\u001b[0m\u001b[0;34m)\u001b[0m\u001b[0;34m\u001b[0m\u001b[0;34m\u001b[0m\u001b[0m\n\u001b[0m\u001b[1;32m      2\u001b[0m \u001b[0;32mfor\u001b[0m \u001b[0mlinea\u001b[0m \u001b[0;32min\u001b[0m \u001b[0mmanejador\u001b[0m\u001b[0;34m:\u001b[0m\u001b[0;34m\u001b[0m\u001b[0;34m\u001b[0m\u001b[0m\n\u001b[1;32m      3\u001b[0m   \u001b[0mpalabras\u001b[0m \u001b[0;34m=\u001b[0m \u001b[0mlinea\u001b[0m\u001b[0;34m.\u001b[0m\u001b[0msplit\u001b[0m\u001b[0;34m(\u001b[0m\u001b[0;34m)\u001b[0m\u001b[0;34m\u001b[0m\u001b[0;34m\u001b[0m\u001b[0m\n\u001b[1;32m      4\u001b[0m   \u001b[0;32mif\u001b[0m \u001b[0mpalabras\u001b[0m\u001b[0;34m[\u001b[0m\u001b[0;36m0\u001b[0m\u001b[0;34m]\u001b[0m \u001b[0;34m!=\u001b[0m \u001b[0;34m'From'\u001b[0m \u001b[0;34m:\u001b[0m \u001b[0;32mcontinue\u001b[0m\u001b[0;34m\u001b[0m\u001b[0;34m\u001b[0m\u001b[0m\n\u001b[1;32m      5\u001b[0m   \u001b[0mprint\u001b[0m\u001b[0;34m(\u001b[0m\u001b[0mpalabras\u001b[0m\u001b[0;34m[\u001b[0m\u001b[0;36m2\u001b[0m\u001b[0;34m]\u001b[0m\u001b[0;34m)\u001b[0m\u001b[0;34m\u001b[0m\u001b[0;34m\u001b[0m\u001b[0m\n",
            "\u001b[0;31mFileNotFoundError\u001b[0m: [Errno 2] No such file or directory: 'mbox-short.txt'"
          ]
        }
      ]
    },
    {
      "cell_type": "markdown",
      "source": [
        "Esto se ve mucho más simple y ni siquiera necesitamos hacer rstrip para\n",
        "remover el salto de línea al final del archivo. Pero, ¿es mejor?"
      ],
      "metadata": {
        "id": "WUz2rJ5AUSYA"
      }
    },
    {
      "cell_type": "markdown",
      "source": [
        "De alguna manera funciona y vemos el día de la primer línea (Sat), pero\n",
        "luego el programa falla con un error. ¿Qué fue lo que falló? ¿Qué datos\n",
        "estropearon e hicieron fallar a nuestro elegante, inteligente, y muy Pythónico\n",
        "programa?\n",
        "\n",
        "Puedes mirar el código por un largo tiempo y tratar de resolverlo o preguntar\n",
        "a alguien más, pero el método más rápido e inteligente es agregar una\n",
        "sentencia print. El mejor lugar para agregar la sentencia “print” es justo antes de la línea donde el programa falló, e imprimir los datos que parece\n",
        "que causan la falla."
      ],
      "metadata": {
        "id": "BHiUcZx8UYHB"
      }
    },
    {
      "cell_type": "markdown",
      "source": [
        "Ahora bien, este método podría generar muchas líneas de salida, pero al\n",
        "menos tendrás inmediatamente alguna pista de cuál es el problema. Así\n",
        "que agregamos un print a la variable palabras justo antes de la línea cinco.\n",
        "Incluso podemos agregar un prefijo “Depuración:” a la línea de modo que\n",
        "mantenemos nuestra salida regular separada de la salida de mensajes de\n",
        "depuración."
      ],
      "metadata": {
        "id": "DD52Sw0DUhzM"
      }
    },
    {
      "cell_type": "code",
      "source": [
        "for linea in manejador:\n",
        "  palabras = line.split()\n",
        "  rint('Depuración:', palabras)\n",
        "  if palabras[0] != 'From' : continue\n",
        "  print(palabras[2])"
      ],
      "metadata": {
        "id": "knZtsS1EUL_G",
        "outputId": "18c1b42d-c892-4fd9-e3f0-38a6508c11d6",
        "colab": {
          "base_uri": "https://localhost:8080/",
          "height": 251
        }
      },
      "execution_count": 46,
      "outputs": [
        {
          "output_type": "error",
          "ename": "NameError",
          "evalue": "ignored",
          "traceback": [
            "\u001b[0;31m---------------------------------------------------------------------------\u001b[0m",
            "\u001b[0;31mNameError\u001b[0m                                 Traceback (most recent call last)",
            "\u001b[0;32m<ipython-input-46-474c08678af6>\u001b[0m in \u001b[0;36m<cell line: 1>\u001b[0;34m()\u001b[0m\n\u001b[0;32m----> 1\u001b[0;31m \u001b[0;32mfor\u001b[0m \u001b[0mlinea\u001b[0m \u001b[0;32min\u001b[0m \u001b[0mmanejador\u001b[0m\u001b[0;34m:\u001b[0m\u001b[0;34m\u001b[0m\u001b[0;34m\u001b[0m\u001b[0m\n\u001b[0m\u001b[1;32m      2\u001b[0m   \u001b[0mpalabras\u001b[0m \u001b[0;34m=\u001b[0m \u001b[0mline\u001b[0m\u001b[0;34m.\u001b[0m\u001b[0msplit\u001b[0m\u001b[0;34m(\u001b[0m\u001b[0;34m)\u001b[0m\u001b[0;34m\u001b[0m\u001b[0;34m\u001b[0m\u001b[0m\n\u001b[1;32m      3\u001b[0m   \u001b[0mrint\u001b[0m\u001b[0;34m(\u001b[0m\u001b[0;34m'Depuración:'\u001b[0m\u001b[0;34m,\u001b[0m \u001b[0mpalabras\u001b[0m\u001b[0;34m)\u001b[0m\u001b[0;34m\u001b[0m\u001b[0;34m\u001b[0m\u001b[0m\n\u001b[1;32m      4\u001b[0m   \u001b[0;32mif\u001b[0m \u001b[0mpalabras\u001b[0m\u001b[0;34m[\u001b[0m\u001b[0;36m0\u001b[0m\u001b[0;34m]\u001b[0m \u001b[0;34m!=\u001b[0m \u001b[0;34m'From'\u001b[0m \u001b[0;34m:\u001b[0m \u001b[0;32mcontinue\u001b[0m\u001b[0;34m\u001b[0m\u001b[0;34m\u001b[0m\u001b[0m\n\u001b[1;32m      5\u001b[0m   \u001b[0mprint\u001b[0m\u001b[0;34m(\u001b[0m\u001b[0mpalabras\u001b[0m\u001b[0;34m[\u001b[0m\u001b[0;36m2\u001b[0m\u001b[0;34m]\u001b[0m\u001b[0;34m)\u001b[0m\u001b[0;34m\u001b[0m\u001b[0;34m\u001b[0m\u001b[0m\n",
            "\u001b[0;31mNameError\u001b[0m: name 'manejador' is not defined"
          ]
        }
      ]
    },
    {
      "cell_type": "markdown",
      "source": [
        "Cuando ejecutamos el programa, se generan muchos mensajes de salida en\n",
        "la pantalla, pero al final, vemos nuestra salida de depuración y el mensaje de\n",
        "error, de modo que sabemos qué sucedió justo antes del error."
      ],
      "metadata": {
        "id": "MugqCen1UtnI"
      }
    },
    {
      "cell_type": "markdown",
      "source": [
        "Cada línea de depuración imprime la lista de palabras que obtuvimos cuando\n",
        "la función split dividió la línea en palabras. Cuando el programa falla, la\n",
        "lista de palabras está vacía []. Si abrimos el archivo en un editor de texto y\n",
        "miramos el archivo, en ese punto se ve lo siguiente:"
      ],
      "metadata": {
        "id": "miYrQRtBUwqO"
      }
    },
    {
      "cell_type": "markdown",
      "source": [
        "X-DSPAM-Result: Innocent\n",
        "\n",
        "X-DSPAM-Processed: Sat Jan 5 09:14:16 2008\n",
        "\n",
        "X-DSPAM-Confidence: 0.8475\n",
        "\n",
        "X-DSPAM-Probability: 0.0000\n",
        "\n",
        "Details: http://source.sakaiproject.org/viewsvn/?view=rev&rev=39772"
      ],
      "metadata": {
        "id": "puzXYykgU2xn"
      }
    },
    {
      "cell_type": "markdown",
      "source": [
        "¡El error ocurre cuando nuestro programa encuentra una línea vacía! Por\n",
        "supuesto, hay “cero palabras” en una lista vacía. ¿Por qué no pensamos en eso\n",
        "cuando estábamos escribiendo el código? Cuando el código busca la primera\n",
        "palabra (palabras[0]) para revisar si coincide con “From”, obtenemos un\n",
        "error “index out of range” (índice fuera de rango).\n",
        "\n",
        "\n",
        "Este es, por supuesto, el lugar perfecto para agregar algo de código guardián\n",
        "para evitar revisar la primer palabra si la primer palabra no existe. Hay\n",
        "muchas maneras de proteger este código; vamos a optar por revisar el número\n",
        "de palabras que tenemos antes de mirar a la primer palabra:\n"
      ],
      "metadata": {
        "id": "QZTu7f1DU-YU"
      }
    },
    {
      "cell_type": "code",
      "source": [
        "manejador = open('mbox-short.txt')\n",
        "contador = 0\n",
        "for linea in manejador:\n",
        "  palabras = linea.split()\n",
        "  # print 'Depuración:', palabras\n",
        "  if len(palabras) == 0 : continue\n",
        "  if palabras[0] != 'From' : continue\n",
        "  print(palabras[2])"
      ],
      "metadata": {
        "id": "t1yoxbmvUpLg"
      },
      "execution_count": null,
      "outputs": []
    },
    {
      "cell_type": "markdown",
      "source": [
        "Primero comentamos la sentencia de depuración en vez de removerla, en caso\n",
        "de que nuestra modificación falle y tengamos que depurar de nuevo. Luego,\n",
        "agregamos una sentencia guardián que revisa si tenemos cero palabras, y\n",
        "si así fuera, utilizamos continue para saltarnos a la siguiente línea en el\n",
        "archivo.\n",
        "\n",
        "Podemos pensar en las dos sentencias continue para ayudarnos a redefinir\n",
        "el juego de líneas que son “interesantes” para nosotros y cuáles queremos\n",
        "procesar más. Una línea que no tenga palabras “no es interesante” para\n",
        "nosotros así que saltamos a la siguiente línea. Una línea que no tenga “From”\n",
        "como su primera palabra tampoco nos interesa así que la saltamos.\n",
        "\n",
        "El programa modificado ejecuta exitosamente, así que quizás es correcto.\n",
        "Nuestra sentencia guardián se asegura de que palabras[0] nunca falle, pero\n",
        "quizá no sea suficiente. Cuando estamos programando, siempre debemos\n",
        "pensar, “¿qué podría salir mal?”"
      ],
      "metadata": {
        "id": "I2MfwByBVR1i"
      }
    },
    {
      "cell_type": "markdown",
      "source": [
        "##Ejercicios"
      ],
      "metadata": {
        "id": "YaMqTvkgVono"
      }
    },
    {
      "cell_type": "markdown",
      "source": [
        "Ejercicio 2: Encontrar que línea del programa de arriba no está protegida\n",
        "(método guardián) propiamente. Trata de construir un archivo de\n",
        "texto que cause que el programa falle y después modifica el programa de\n",
        "modo que la línea es propiamente protegida y pruébalo para asegurarte\n",
        "que el programa es capaz de manejar tu nuevo archivo de texto."
      ],
      "metadata": {
        "id": "PaN6LadjVhfR"
      }
    },
    {
      "cell_type": "code",
      "source": [],
      "metadata": {
        "id": "a68HcUMiVlWo"
      },
      "execution_count": null,
      "outputs": []
    },
    {
      "cell_type": "markdown",
      "source": [
        "Ejercicio 3: Reescribe el código guardián en el ejemplo de arriba sin las\n",
        "dos sentencias if. En vez de eso, utiliza una expresión lógica compuesta\n",
        "utilizando el operador lógico or con una sola sentencia if."
      ],
      "metadata": {
        "id": "o91-_gCaVj78"
      }
    },
    {
      "cell_type": "code",
      "source": [],
      "metadata": {
        "id": "2Rd984pJVuWU"
      },
      "execution_count": null,
      "outputs": []
    },
    {
      "cell_type": "markdown",
      "source": [
        "Ejercicio 4: Descargar una copia de un archivo www.py4e.com/code3/romeo.txt.\n",
        "Escribir un programa para abrir el archivo romeo.txt y leerlo línea\n",
        "por línea. Para cada línea, dividir la línea en una lista de palabras\n",
        "utilizando la función split. Para cada palabra, revisar si la palabra ya\n",
        "se encuentra previamente en la lista. Si la palabra no está en la lista,\n",
        "agregarla a la lista. Cuando el programa termine, ordenar e imprimir\n",
        "las palabras resultantes en orden alfabético."
      ],
      "metadata": {
        "id": "1Qp2TAXWVs_G"
      }
    },
    {
      "cell_type": "markdown",
      "source": [
        "Ingresar nombre de archivo: romeo.txt\n",
        "['Arise', 'But', 'It', 'Juliet', 'Who', 'already',\n",
        "'and', 'breaks', 'east', 'envious', 'fair', 'grief',\n",
        "'is', 'kill', 'light', 'moon', 'pale', 'sick', 'soft',\n",
        "'sun', 'the', 'through', 'what', 'window',\n",
        "'with', 'yonder']"
      ],
      "metadata": {
        "id": "2Un2GGKNVw7z"
      }
    },
    {
      "cell_type": "code",
      "source": [],
      "metadata": {
        "id": "sVIz6jF1Vl33"
      },
      "execution_count": null,
      "outputs": []
    },
    {
      "cell_type": "markdown",
      "source": [
        "Ejercicio 5: Escribir un programa para leer a través de datos de una bandeja\n",
        "de entrada de correo y cuando encuentres una línea que comience\n",
        "con “From”, dividir la línea en palabras utilizando la función split.\n",
        "Estamos interesados en quién envió el mensaje, lo cual es la segunda\n",
        "palabra en las líneas que comienzan con From.\n",
        "\n",
        ">From stephen.marquard@uct.ac.za Sat Jan 5 09:14:16 2008\n",
        "\n",
        "Tendrás que analizar la línea From e imprimir la segunda palabra de\n",
        "cada línea From, después tendrás que contar el número de líneas From\n",
        "(no incluir From:) e imprimir el total al final. Este es un buen ejemplo\n",
        "de salida con algunas líneas de salida removidas:"
      ],
      "metadata": {
        "id": "Tp-GzPjxV0Cl"
      }
    },
    {
      "cell_type": "markdown",
      "source": [
        "Ingresa un nombre de archivo: mbox-short.txt\n",
        "\n",
        "stephen.marquard@uct.ac.za\n",
        "\n",
        "louis@media.berkeley.edu\n",
        "\n",
        "zqian@umich.edu\n",
        "\n",
        "[...líneas de salida removidas...]\n",
        "\n",
        "ray@media.berkeley.edu\n",
        "\n",
        "cwen@iupui.edu\n",
        "\n",
        "cwen@iupui.edu\n",
        "\n",
        "cwen@iupui.edu\n",
        "\n",
        "Hay 27 lineas en el archivo con la palabra From al inicio\n"
      ],
      "metadata": {
        "id": "5cQmbtRqV9Uu"
      }
    },
    {
      "cell_type": "markdown",
      "source": [
        "Ejercicio 6: Reescribe el programa que pide al usuario una lista de\n",
        "números e imprime el máximo y el mínimo de los números al final cuando\n",
        "el usuario ingresa “hecho”. Escribe el programa para almacenar los\n",
        "números que el usuario ingrese en una lista, y utiliza las funciones max()\n",
        "y min() para calcular el máximo y el mínimo después de que el bucle\n",
        "termine.\n",
        "\n"
      ],
      "metadata": {
        "id": "px8YE3uKUtBl"
      }
    },
    {
      "cell_type": "markdown",
      "source": [
        "Ingresa un número: 6\n",
        "\n",
        "Ingresa un número: 2\n",
        "\n",
        "Ingresa un número: 9\n",
        "\n",
        "Ingresa un número: 3\n",
        "\n",
        "Ingresa un número: 5\n",
        "\n",
        "Ingresa un número: hecho\n",
        "\n",
        "Máximo: 9.0\n",
        "\n",
        "Minimo: 2.0"
      ],
      "metadata": {
        "id": "ozL-bZsuWLiH"
      }
    },
    {
      "cell_type": "code",
      "source": [],
      "metadata": {
        "id": "XPpc3AZqWIMC"
      },
      "execution_count": null,
      "outputs": []
    }
  ]
}