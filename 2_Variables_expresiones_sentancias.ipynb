{
  "nbformat": 4,
  "nbformat_minor": 0,
  "metadata": {
    "colab": {
      "provenance": [],
      "authorship_tag": "ABX9TyNssac537u18V1fZNcRP/bP",
      "include_colab_link": true
    },
    "kernelspec": {
      "name": "python3",
      "display_name": "Python 3"
    },
    "language_info": {
      "name": "python"
    }
  },
  "cells": [
    {
      "cell_type": "markdown",
      "metadata": {
        "id": "view-in-github",
        "colab_type": "text"
      },
      "source": [
        "<a href=\"https://colab.research.google.com/github/JuanMiguez/4tocfp10/blob/main/2_Variables_expresiones_sentancias.ipynb\" target=\"_parent\"><img src=\"https://colab.research.google.com/assets/colab-badge.svg\" alt=\"Open In Colab\"/></a>"
      ]
    },
    {
      "cell_type": "markdown",
      "source": [
        "#Capitulo 2: Variables, expresiones y sentencias"
      ],
      "metadata": {
        "id": "HTiHdlLlgnE8"
      }
    },
    {
      "cell_type": "markdown",
      "source": [
        "##Valores y tipos"
      ],
      "metadata": {
        "id": "_nUn_OUEgyvu"
      }
    },
    {
      "cell_type": "markdown",
      "source": [
        "Un valor es una de las cosas básicas que utiliza un programa, como una letra o un\n",
        "número. Los valores que hemos visto hasta ahora han sido 1, 2, y “¡Hola, mundo!”"
      ],
      "metadata": {
        "id": "f-Wpj6Tjg6J6"
      }
    },
    {
      "cell_type": "markdown",
      "source": [
        "Esos valores pertenecen a tipos diferentes: 2 es un entero (int), y “¡Hola, mundo!”\n",
        "es una cadena (string), que recibe ese nombre porque contiene una “cadena” de\n",
        "letras. Tú (y el intérprete) podéis identificar las cadenas porque van encerradas\n",
        "entre comillas."
      ],
      "metadata": {
        "id": "Cigx34rUg--u"
      }
    },
    {
      "cell_type": "markdown",
      "source": [
        "La sentencia print también funciona con enteros.\n"
      ],
      "metadata": {
        "id": "wsVLYYkYljr9"
      }
    },
    {
      "cell_type": "code",
      "execution_count": 1,
      "metadata": {
        "colab": {
          "base_uri": "https://localhost:8080/"
        },
        "id": "kx40p-OQe5dm",
        "outputId": "311cd744-ac9d-4f81-f9d6-06a648d3f70f"
      },
      "outputs": [
        {
          "output_type": "stream",
          "name": "stdout",
          "text": [
            "4\n"
          ]
        }
      ],
      "source": [
        "print(4)"
      ]
    },
    {
      "cell_type": "markdown",
      "source": [
        "Si no estás seguro de qué tipo de valor estás manejando, el intérprete te lo puede\n",
        "decir."
      ],
      "metadata": {
        "id": "NZQooqgblvS9"
      }
    },
    {
      "cell_type": "code",
      "source": [
        "type('¡Hola, mundo!')"
      ],
      "metadata": {
        "colab": {
          "base_uri": "https://localhost:8080/"
        },
        "id": "dEW6U2z8ltDD",
        "outputId": "1d89825e-db15-4246-e2ee-e65caee0ae86"
      },
      "execution_count": 4,
      "outputs": [
        {
          "output_type": "execute_result",
          "data": {
            "text/plain": [
              "str"
            ]
          },
          "metadata": {},
          "execution_count": 4
        }
      ]
    },
    {
      "cell_type": "code",
      "source": [
        "type(17)"
      ],
      "metadata": {
        "colab": {
          "base_uri": "https://localhost:8080/"
        },
        "id": "wRbJ35Hilyox",
        "outputId": "ff171385-b7da-440c-f202-374a9678bd7e"
      },
      "execution_count": 3,
      "outputs": [
        {
          "output_type": "execute_result",
          "data": {
            "text/plain": [
              "int"
            ]
          },
          "metadata": {},
          "execution_count": 3
        }
      ]
    },
    {
      "cell_type": "markdown",
      "source": [
        "No es sorprendente que las cadenas pertenezcan al tipo str y los enteros pertenezcan al tipo int. De forma menos obvia, los números con un punto decimal pertenecen a un tipo llamado float, porque estos números se representan en un formato llamado floating point."
      ],
      "metadata": {
        "id": "sXou9M4Bl8QU"
      }
    },
    {
      "cell_type": "code",
      "source": [
        "type(3.2)"
      ],
      "metadata": {
        "colab": {
          "base_uri": "https://localhost:8080/"
        },
        "id": "6MrTsGBal2_R",
        "outputId": "914c872c-3833-4c20-932f-de6529687fe5"
      },
      "execution_count": 5,
      "outputs": [
        {
          "output_type": "execute_result",
          "data": {
            "text/plain": [
              "float"
            ]
          },
          "metadata": {},
          "execution_count": 5
        }
      ]
    },
    {
      "cell_type": "markdown",
      "source": [
        "¿Qué ocurre con valores como “17” y “3.2”? Parecen números, pero van entre\n",
        "comillas como las cadenas."
      ],
      "metadata": {
        "id": "T2GMvkvJmW-Y"
      }
    },
    {
      "cell_type": "code",
      "source": [
        "type('17')"
      ],
      "metadata": {
        "colab": {
          "base_uri": "https://localhost:8080/"
        },
        "id": "byR5RNzsl_cw",
        "outputId": "f16054bd-f07a-4ad0-c489-ae42a660bf68"
      },
      "execution_count": 6,
      "outputs": [
        {
          "output_type": "execute_result",
          "data": {
            "text/plain": [
              "str"
            ]
          },
          "metadata": {},
          "execution_count": 6
        }
      ]
    },
    {
      "cell_type": "code",
      "source": [
        "type('3.2')"
      ],
      "metadata": {
        "colab": {
          "base_uri": "https://localhost:8080/"
        },
        "id": "G1By-lyOmZ6S",
        "outputId": "069a3521-f331-49f7-d87b-304c7c76824a"
      },
      "execution_count": 7,
      "outputs": [
        {
          "output_type": "execute_result",
          "data": {
            "text/plain": [
              "str"
            ]
          },
          "metadata": {},
          "execution_count": 7
        }
      ]
    },
    {
      "cell_type": "markdown",
      "source": [
        "Son cadenas."
      ],
      "metadata": {
        "id": "QIiXukf_mdr4"
      }
    },
    {
      "cell_type": "markdown",
      "source": [
        "Cuando escribes un entero grande, puede que te sientas tentado a usar comas o\n",
        "puntos para separarlo en grupos de tres dígitos, como en 1,000,000 1. Eso no es\n",
        "un entero válido en Python, pero en cambio sí que resulta válido algo como:"
      ],
      "metadata": {
        "id": "Ih57ee1vmgmI"
      }
    },
    {
      "cell_type": "code",
      "source": [
        "print(1,000,000)"
      ],
      "metadata": {
        "colab": {
          "base_uri": "https://localhost:8080/"
        },
        "id": "7lohzpHQmb5B",
        "outputId": "2a6accc7-38b9-4cc1-ffbf-507f671d643c"
      },
      "execution_count": 8,
      "outputs": [
        {
          "output_type": "stream",
          "name": "stdout",
          "text": [
            "1 0 0\n"
          ]
        }
      ]
    },
    {
      "cell_type": "markdown",
      "source": [
        "Bien, ha funcionado. ¡Pero eso no era lo que esperábamos!. Python interpreta\n",
        "1,000,000 como una secuencia de enteros separados por comas, así que lo imprime\n",
        "con espacios en medio."
      ],
      "metadata": {
        "id": "ASIIm_88mqpE"
      }
    },
    {
      "cell_type": "markdown",
      "source": [
        "Éste es el primer ejemplo que hemos visto de un error semántico: el código funciona\n",
        "sin producir ningún mensaje de error, pero no hace su trabajo “correctamente”."
      ],
      "metadata": {
        "id": "djpXdsRQmuD2"
      }
    },
    {
      "cell_type": "markdown",
      "source": [
        "##Variables"
      ],
      "metadata": {
        "id": "77hS86Rjm0dM"
      }
    },
    {
      "cell_type": "markdown",
      "source": [
        "Una de las características más potentes de un lenguaje de programación es la\n",
        "capacidad de manipular variables. Una variable es un nombre que se refiere a un\n",
        "valor."
      ],
      "metadata": {
        "id": "dq7u84v0m4Ei"
      }
    },
    {
      "cell_type": "markdown",
      "source": [
        "Una sentencia de asignación crea variables nuevas y las da valores:"
      ],
      "metadata": {
        "id": "f3N5i-8bm6Ew"
      }
    },
    {
      "cell_type": "code",
      "source": [
        "mensaje = 'Y ahora algo completamente diferente'\n",
        "n = 17\n",
        "pi = 3.1415926535897931"
      ],
      "metadata": {
        "id": "ZzLPbCtPmon4"
      },
      "execution_count": 9,
      "outputs": []
    },
    {
      "cell_type": "markdown",
      "source": [
        "Este ejemplo hace tres asignaciones. La primera asigna una cadena a una variable\n",
        "nueva llamada mensaje; la segunda asigna el entero 17 a n; la tercera asigna el\n",
        "valor (aproximado) de \u0019 a pi."
      ],
      "metadata": {
        "id": "P05xL0eAnK3h"
      }
    },
    {
      "cell_type": "markdown",
      "source": [
        "Para mostrar el valor de una variable, se puede usar la sentencia print:"
      ],
      "metadata": {
        "id": "btT0IynAnT2k"
      }
    },
    {
      "cell_type": "code",
      "source": [
        "print(n)"
      ],
      "metadata": {
        "colab": {
          "base_uri": "https://localhost:8080/"
        },
        "id": "G7SlaWkwnI8C",
        "outputId": "5137c585-ae81-47b1-a22b-21a7cf20162b"
      },
      "execution_count": 10,
      "outputs": [
        {
          "output_type": "stream",
          "name": "stdout",
          "text": [
            "17\n"
          ]
        }
      ]
    },
    {
      "cell_type": "code",
      "source": [
        "print(pi)"
      ],
      "metadata": {
        "colab": {
          "base_uri": "https://localhost:8080/"
        },
        "id": "kwvXwV0ZnWyG",
        "outputId": "6fa96ae7-cca1-4eaf-eca0-d846083b1ce6"
      },
      "execution_count": 11,
      "outputs": [
        {
          "output_type": "stream",
          "name": "stdout",
          "text": [
            "3.141592653589793\n"
          ]
        }
      ]
    },
    {
      "cell_type": "markdown",
      "source": [
        "El tipo de una variable es el tipo del valor al que se refiere."
      ],
      "metadata": {
        "id": "kF6MhVsjnbDf"
      }
    },
    {
      "cell_type": "code",
      "source": [
        "type(mensaje)"
      ],
      "metadata": {
        "colab": {
          "base_uri": "https://localhost:8080/"
        },
        "id": "4QcUlis_nZDO",
        "outputId": "31716b4f-de11-4ef5-fefd-4076cbea3de9"
      },
      "execution_count": 12,
      "outputs": [
        {
          "output_type": "execute_result",
          "data": {
            "text/plain": [
              "str"
            ]
          },
          "metadata": {},
          "execution_count": 12
        }
      ]
    },
    {
      "cell_type": "code",
      "source": [
        "type(n)"
      ],
      "metadata": {
        "colab": {
          "base_uri": "https://localhost:8080/"
        },
        "id": "YoVRT8F-n39Q",
        "outputId": "6c63c6aa-5ea7-45a6-dd00-cbe0d6f9c1d7"
      },
      "execution_count": 13,
      "outputs": [
        {
          "output_type": "execute_result",
          "data": {
            "text/plain": [
              "int"
            ]
          },
          "metadata": {},
          "execution_count": 13
        }
      ]
    },
    {
      "cell_type": "code",
      "source": [
        "type(pi)"
      ],
      "metadata": {
        "colab": {
          "base_uri": "https://localhost:8080/"
        },
        "id": "52q7S1SZn5r3",
        "outputId": "5a58e03b-e075-4529-e27d-609910827560"
      },
      "execution_count": 14,
      "outputs": [
        {
          "output_type": "execute_result",
          "data": {
            "text/plain": [
              "float"
            ]
          },
          "metadata": {},
          "execution_count": 14
        }
      ]
    },
    {
      "cell_type": "markdown",
      "source": [
        "##Nombres de variables y palabras claves"
      ],
      "metadata": {
        "id": "XoPw16TIn8WU"
      }
    },
    {
      "cell_type": "markdown",
      "source": [
        "Los programadores generalmente eligen nombres para sus variables que tengan\n",
        "sentido y documenten para qué se usa esa variable."
      ],
      "metadata": {
        "id": "mtI_XaXHn_me"
      }
    },
    {
      "cell_type": "markdown",
      "source": [
        "Los nombres de las variables pueden ser arbitrariamente largos. Pueden contener\n",
        "tanto letras como números, pero no pueden comenzar con un número. Se pueden\n",
        "usar letras mayúsculas, pero es buena idea comenzar los nombres de las variables\n",
        "con una letras minúscula (veremos por qué más adelante)."
      ],
      "metadata": {
        "id": "0VPmIu9IoBR8"
      }
    },
    {
      "cell_type": "markdown",
      "source": [
        "El carácter guión-bajo (_) puede utilizarse en un nombre. A menudo se utiliza en\n",
        "nombres con múltiples palabras, como en mi_nombre o\n",
        "velocidad_de_golondrina_sin_carga. Los nombres de las variables pueden\n",
        "comenzar con un carácter guión-bajo, pero generalmente se evita usarlo así a\n",
        "menos que se esté escribiendo código para librerías que luego utilizarán otros."
      ],
      "metadata": {
        "id": "rPCL8FZnoEJK"
      }
    },
    {
      "cell_type": "markdown",
      "source": [
        "Si se le da a una variable un nombre no permitido, se obtiene un error de sintaxis:"
      ],
      "metadata": {
        "id": "tMQvAA5WoGYA"
      }
    },
    {
      "cell_type": "code",
      "source": [
        "76trombones = 'gran desfile'"
      ],
      "metadata": {
        "colab": {
          "base_uri": "https://localhost:8080/",
          "height": 140
        },
        "id": "i0DY9px_n683",
        "outputId": "c917bee6-b2db-479f-9513-6374bbe2e26b"
      },
      "execution_count": 15,
      "outputs": [
        {
          "output_type": "error",
          "ename": "SyntaxError",
          "evalue": "ignored",
          "traceback": [
            "\u001b[0;36m  File \u001b[0;32m\"<ipython-input-15-d5ae1e7a5c5f>\"\u001b[0;36m, line \u001b[0;32m1\u001b[0m\n\u001b[0;31m    76trombones = 'gran desfile'\u001b[0m\n\u001b[0m     ^\u001b[0m\n\u001b[0;31mSyntaxError\u001b[0m\u001b[0;31m:\u001b[0m invalid decimal literal\n"
          ]
        }
      ]
    },
    {
      "cell_type": "code",
      "source": [
        "more@ = 1000000"
      ],
      "metadata": {
        "colab": {
          "base_uri": "https://localhost:8080/",
          "height": 355
        },
        "id": "-84vKPB4oJOG",
        "outputId": "6196c160-9efe-4ef3-811b-adb4169e98e0"
      },
      "execution_count": 16,
      "outputs": [
        {
          "output_type": "error",
          "ename": "FileNotFoundError",
          "evalue": "ignored",
          "traceback": [
            "\u001b[0;31m---------------------------------------------------------------------------\u001b[0m",
            "\u001b[0;31mFileNotFoundError\u001b[0m                         Traceback (most recent call last)",
            "\u001b[0;32m<ipython-input-16-874d58278958>\u001b[0m in \u001b[0;36m<cell line: 1>\u001b[0;34m()\u001b[0m\n\u001b[0;32m----> 1\u001b[0;31m \u001b[0mget_ipython\u001b[0m\u001b[0;34m(\u001b[0m\u001b[0;34m)\u001b[0m\u001b[0;34m.\u001b[0m\u001b[0mrun_line_magic\u001b[0m\u001b[0;34m(\u001b[0m\u001b[0;34m'more'\u001b[0m\u001b[0;34m,\u001b[0m \u001b[0;34m'@ = 1000000'\u001b[0m\u001b[0;34m)\u001b[0m\u001b[0;34m\u001b[0m\u001b[0;34m\u001b[0m\u001b[0m\n\u001b[0m",
            "\u001b[0;32m/usr/local/lib/python3.10/dist-packages/IPython/core/interactiveshell.py\u001b[0m in \u001b[0;36mrun_line_magic\u001b[0;34m(self, magic_name, line, _stack_depth)\u001b[0m\n\u001b[1;32m   2416\u001b[0m                 \u001b[0mkwargs\u001b[0m\u001b[0;34m[\u001b[0m\u001b[0;34m'local_ns'\u001b[0m\u001b[0;34m]\u001b[0m \u001b[0;34m=\u001b[0m \u001b[0mself\u001b[0m\u001b[0;34m.\u001b[0m\u001b[0mget_local_scope\u001b[0m\u001b[0;34m(\u001b[0m\u001b[0mstack_depth\u001b[0m\u001b[0;34m)\u001b[0m\u001b[0;34m\u001b[0m\u001b[0;34m\u001b[0m\u001b[0m\n\u001b[1;32m   2417\u001b[0m             \u001b[0;32mwith\u001b[0m \u001b[0mself\u001b[0m\u001b[0;34m.\u001b[0m\u001b[0mbuiltin_trap\u001b[0m\u001b[0;34m:\u001b[0m\u001b[0;34m\u001b[0m\u001b[0;34m\u001b[0m\u001b[0m\n\u001b[0;32m-> 2418\u001b[0;31m                 \u001b[0mresult\u001b[0m \u001b[0;34m=\u001b[0m \u001b[0mfn\u001b[0m\u001b[0;34m(\u001b[0m\u001b[0;34m*\u001b[0m\u001b[0margs\u001b[0m\u001b[0;34m,\u001b[0m \u001b[0;34m**\u001b[0m\u001b[0mkwargs\u001b[0m\u001b[0;34m)\u001b[0m\u001b[0;34m\u001b[0m\u001b[0;34m\u001b[0m\u001b[0m\n\u001b[0m\u001b[1;32m   2419\u001b[0m             \u001b[0;32mreturn\u001b[0m \u001b[0mresult\u001b[0m\u001b[0;34m\u001b[0m\u001b[0;34m\u001b[0m\u001b[0m\n\u001b[1;32m   2420\u001b[0m \u001b[0;34m\u001b[0m\u001b[0m\n",
            "\u001b[0;32m<decorator-gen-110>\u001b[0m in \u001b[0;36mless\u001b[0;34m(self, arg_s)\u001b[0m\n",
            "\u001b[0;32m/usr/local/lib/python3.10/dist-packages/IPython/core/magic.py\u001b[0m in \u001b[0;36m<lambda>\u001b[0;34m(f, *a, **k)\u001b[0m\n\u001b[1;32m    185\u001b[0m     \u001b[0;31m# but it's overkill for just that one bit of state.\u001b[0m\u001b[0;34m\u001b[0m\u001b[0;34m\u001b[0m\u001b[0m\n\u001b[1;32m    186\u001b[0m     \u001b[0;32mdef\u001b[0m \u001b[0mmagic_deco\u001b[0m\u001b[0;34m(\u001b[0m\u001b[0marg\u001b[0m\u001b[0;34m)\u001b[0m\u001b[0;34m:\u001b[0m\u001b[0;34m\u001b[0m\u001b[0;34m\u001b[0m\u001b[0m\n\u001b[0;32m--> 187\u001b[0;31m         \u001b[0mcall\u001b[0m \u001b[0;34m=\u001b[0m \u001b[0;32mlambda\u001b[0m \u001b[0mf\u001b[0m\u001b[0;34m,\u001b[0m \u001b[0;34m*\u001b[0m\u001b[0ma\u001b[0m\u001b[0;34m,\u001b[0m \u001b[0;34m**\u001b[0m\u001b[0mk\u001b[0m\u001b[0;34m:\u001b[0m \u001b[0mf\u001b[0m\u001b[0;34m(\u001b[0m\u001b[0;34m*\u001b[0m\u001b[0ma\u001b[0m\u001b[0;34m,\u001b[0m \u001b[0;34m**\u001b[0m\u001b[0mk\u001b[0m\u001b[0;34m)\u001b[0m\u001b[0;34m\u001b[0m\u001b[0;34m\u001b[0m\u001b[0m\n\u001b[0m\u001b[1;32m    188\u001b[0m \u001b[0;34m\u001b[0m\u001b[0m\n\u001b[1;32m    189\u001b[0m         \u001b[0;32mif\u001b[0m \u001b[0mcallable\u001b[0m\u001b[0;34m(\u001b[0m\u001b[0marg\u001b[0m\u001b[0;34m)\u001b[0m\u001b[0;34m:\u001b[0m\u001b[0;34m\u001b[0m\u001b[0;34m\u001b[0m\u001b[0m\n",
            "\u001b[0;32m/usr/local/lib/python3.10/dist-packages/ipykernel/zmqshell.py\u001b[0m in \u001b[0;36mless\u001b[0;34m(self, arg_s)\u001b[0m\n\u001b[1;32m    343\u001b[0m             \u001b[0mcont\u001b[0m \u001b[0;34m=\u001b[0m \u001b[0mself\u001b[0m\u001b[0;34m.\u001b[0m\u001b[0mshell\u001b[0m\u001b[0;34m.\u001b[0m\u001b[0mpycolorize\u001b[0m\u001b[0;34m(\u001b[0m\u001b[0mopenpy\u001b[0m\u001b[0;34m.\u001b[0m\u001b[0mread_py_file\u001b[0m\u001b[0;34m(\u001b[0m\u001b[0marg_s\u001b[0m\u001b[0;34m,\u001b[0m \u001b[0mskip_encoding_cookie\u001b[0m\u001b[0;34m=\u001b[0m\u001b[0;32mFalse\u001b[0m\u001b[0;34m)\u001b[0m\u001b[0;34m)\u001b[0m\u001b[0;34m\u001b[0m\u001b[0;34m\u001b[0m\u001b[0m\n\u001b[1;32m    344\u001b[0m         \u001b[0;32melse\u001b[0m\u001b[0;34m:\u001b[0m\u001b[0;34m\u001b[0m\u001b[0;34m\u001b[0m\u001b[0m\n\u001b[0;32m--> 345\u001b[0;31m             \u001b[0mcont\u001b[0m \u001b[0;34m=\u001b[0m \u001b[0mopen\u001b[0m\u001b[0;34m(\u001b[0m\u001b[0marg_s\u001b[0m\u001b[0;34m)\u001b[0m\u001b[0;34m.\u001b[0m\u001b[0mread\u001b[0m\u001b[0;34m(\u001b[0m\u001b[0;34m)\u001b[0m\u001b[0;34m\u001b[0m\u001b[0;34m\u001b[0m\u001b[0m\n\u001b[0m\u001b[1;32m    346\u001b[0m         \u001b[0mpage\u001b[0m\u001b[0;34m.\u001b[0m\u001b[0mpage\u001b[0m\u001b[0;34m(\u001b[0m\u001b[0mcont\u001b[0m\u001b[0;34m)\u001b[0m\u001b[0;34m\u001b[0m\u001b[0;34m\u001b[0m\u001b[0m\n\u001b[1;32m    347\u001b[0m \u001b[0;34m\u001b[0m\u001b[0m\n",
            "\u001b[0;31mFileNotFoundError\u001b[0m: [Errno 2] No such file or directory: '@ = 1000000'"
          ]
        }
      ]
    },
    {
      "cell_type": "code",
      "source": [
        "class = 'Teorema avanzado de Zymurgy'"
      ],
      "metadata": {
        "colab": {
          "base_uri": "https://localhost:8080/",
          "height": 140
        },
        "id": "aivaeozYoL6g",
        "outputId": "442e096a-137d-4ea0-9062-a839c8c594e3"
      },
      "execution_count": 17,
      "outputs": [
        {
          "output_type": "error",
          "ename": "SyntaxError",
          "evalue": "ignored",
          "traceback": [
            "\u001b[0;36m  File \u001b[0;32m\"<ipython-input-17-4a7d89b958ed>\"\u001b[0;36m, line \u001b[0;32m1\u001b[0m\n\u001b[0;31m    class = 'Teorema avanzado de Zymurgy'\u001b[0m\n\u001b[0m          ^\u001b[0m\n\u001b[0;31mSyntaxError\u001b[0m\u001b[0;31m:\u001b[0m invalid syntax\n"
          ]
        }
      ]
    },
    {
      "cell_type": "markdown",
      "source": [
        "76trombones es incorrecto porque comienza por un número. more@ es incorrecto\n",
        "porque contiene un carácter no premitido, @. Pero, ¿qué es lo que está mal en\n",
        "class?"
      ],
      "metadata": {
        "id": "KQ6JEmFBofJ-"
      }
    },
    {
      "cell_type": "markdown",
      "source": [
        "Pues resulta que class es una de las palabras clave de Python. El intérprete\n",
        "usa palabras clave para reconocer la estructura del programa, y esas palabras no\n",
        "pueden ser utilizadas como nombres de variables."
      ],
      "metadata": {
        "id": "8egrI9sJoj2p"
      }
    },
    {
      "cell_type": "markdown",
      "source": [
        "Python reserva 33 palabras claves para su propio uso:"
      ],
      "metadata": {
        "id": "vlLD2Q7fonFk"
      }
    },
    {
      "cell_type": "markdown",
      "source": [
        "and del from None True\n",
        "\n",
        "as elif global nonlocal try\n",
        "\n",
        "assert else if not while\n",
        "\n",
        "break except import or with\n",
        "\n",
        "class False in pass yield\n",
        "\n",
        "continue finally is raise\n",
        "\n",
        "def for lambda return\n"
      ],
      "metadata": {
        "id": "Jk6U1Y9coppM"
      }
    },
    {
      "cell_type": "markdown",
      "source": [
        "Puede que quieras tener esta lista a mano. Si el intérprete se queja por el nombre\n",
        "de una de tus variables y no sabes por qué, comprueba si ese nombre está en esta\n",
        "lista."
      ],
      "metadata": {
        "id": "Eaw4dfQYoxb9"
      }
    },
    {
      "cell_type": "markdown",
      "source": [
        "##Sentencias"
      ],
      "metadata": {
        "id": "ouUquqdAozPX"
      }
    },
    {
      "cell_type": "markdown",
      "source": [
        "Una sentencia es una unidad de código que el intérprete de Python puede ejecutar.\n",
        "Hemos visto hasta ahora dos tipos de sentencia: print y las asignaciones."
      ],
      "metadata": {
        "id": "aRDjZFY5o4Mh"
      }
    },
    {
      "cell_type": "markdown",
      "source": [
        "Cuando escribes una sentencia en modo interactivo, el intérprete la ejecuta y muestra\n",
        "el resultado, si es que lo hay."
      ],
      "metadata": {
        "id": "q1px3GDco6Ba"
      }
    },
    {
      "cell_type": "markdown",
      "source": [
        "Un script normalmente contiene una secuencia de sentencias. Si hay más de una\n",
        "sentencia, los resultados aparecen de uno en uno según se van ejecutando las sentencias."
      ],
      "metadata": {
        "id": "Ua0l2ouJo7tT"
      }
    },
    {
      "cell_type": "markdown",
      "source": [
        "Por ejemplo, el script"
      ],
      "metadata": {
        "id": "BSyFAcj6o9yh"
      }
    },
    {
      "cell_type": "code",
      "source": [
        "print(1)\n",
        "x = 2\n",
        "print(x)"
      ],
      "metadata": {
        "colab": {
          "base_uri": "https://localhost:8080/"
        },
        "id": "RCs1jxb9odVN",
        "outputId": "8994c2d6-2bbb-4eec-b607-a4eec42e0171"
      },
      "execution_count": 18,
      "outputs": [
        {
          "output_type": "stream",
          "name": "stdout",
          "text": [
            "1\n",
            "2\n"
          ]
        }
      ]
    },
    {
      "cell_type": "markdown",
      "source": [
        "La sentencia de asignación no produce ninguna salida."
      ],
      "metadata": {
        "id": "IPlFJrGJpFqt"
      }
    },
    {
      "cell_type": "markdown",
      "source": [
        "##Operadores y operandos"
      ],
      "metadata": {
        "id": "Hs_4YsQppHwe"
      }
    },
    {
      "cell_type": "markdown",
      "source": [
        "Los operadores son símbolos especiales que representan cálculos, como la suma o\n",
        "la multiplicación. Los valores a los cuales se aplican esos operadores reciben el\n",
        "nombre de operandos."
      ],
      "metadata": {
        "id": "6Xbgh0V9pJ85"
      }
    },
    {
      "cell_type": "markdown",
      "source": [
        "Los operadores +, -, , /, y \\* realizan sumas, restas, multiplicaciones, divisiones y\n",
        "exponenciación (elevar un número a una potencia), como se muestra en los ejemplos\n",
        "siguientes:"
      ],
      "metadata": {
        "id": "Cp63ETdlpMIo"
      }
    },
    {
      "cell_type": "code",
      "source": [
        "hour=60\n",
        "minute=60\n",
        "20+32\n",
        "hour-1\n",
        "hour*60+minute\n",
        "minute/60\n",
        "5**2\n",
        "(5+9)*(15-7)"
      ],
      "metadata": {
        "colab": {
          "base_uri": "https://localhost:8080/"
        },
        "id": "foA7N_MVpBO_",
        "outputId": "18d8b269-b4c5-4934-aca8-2da151b7b3ce"
      },
      "execution_count": 20,
      "outputs": [
        {
          "output_type": "execute_result",
          "data": {
            "text/plain": [
              "112"
            ]
          },
          "metadata": {},
          "execution_count": 20
        }
      ]
    },
    {
      "cell_type": "markdown",
      "source": [
        "Ha habido un cambio en el operador de división entre Python 2.x y Python 3.x.\n",
        "En Python 3.x, el resultado de esta división es un resultado de punto flotante:"
      ],
      "metadata": {
        "id": "s_FlSTLFp8Np"
      }
    },
    {
      "cell_type": "code",
      "source": [
        "minute = 59\n",
        "minute/60"
      ],
      "metadata": {
        "colab": {
          "base_uri": "https://localhost:8080/"
        },
        "id": "q_dCbHDfpS_u",
        "outputId": "09100088-407a-45ea-c534-6565bb6cafa0"
      },
      "execution_count": 21,
      "outputs": [
        {
          "output_type": "execute_result",
          "data": {
            "text/plain": [
              "0.9833333333333333"
            ]
          },
          "metadata": {},
          "execution_count": 21
        }
      ]
    },
    {
      "cell_type": "markdown",
      "source": [
        "El operador de división en Python 2.0 dividiría dos enteros y truncar el resultado\n",
        "a un entero:"
      ],
      "metadata": {
        "id": "ypLLfWRbqEvi"
      }
    },
    {
      "cell_type": "code",
      "source": [
        "minute = 59\n",
        "minute//60"
      ],
      "metadata": {
        "colab": {
          "base_uri": "https://localhost:8080/"
        },
        "id": "ZjnL2717qO_t",
        "outputId": "ec5e7ebc-4d4c-4db6-b04d-ffe82c6871ab"
      },
      "execution_count": 22,
      "outputs": [
        {
          "output_type": "execute_result",
          "data": {
            "text/plain": [
              "0"
            ]
          },
          "metadata": {},
          "execution_count": 22
        }
      ]
    },
    {
      "cell_type": "markdown",
      "source": [
        "En Python 3, la división de enteros funciona mucho más como cabría esperar. Si\n",
        "ingresaste la expresión en una calculadora."
      ],
      "metadata": {
        "id": "KZmY8f76qYPR"
      }
    },
    {
      "cell_type": "markdown",
      "source": [
        "##Expresiones"
      ],
      "metadata": {
        "id": "9b_n6IG3qa6f"
      }
    },
    {
      "cell_type": "markdown",
      "source": [
        "Una expresión es una combinación de valores, variables y operadores. Un valor\n",
        "por si mismo se considera una expresión, y también lo es una variable, así que\n",
        "las siguientes expresiones son todas válidas (asumiendo que la variable x tenga un\n",
        "valor asignado):"
      ],
      "metadata": {
        "id": "ujRXMbhEqd5X"
      }
    },
    {
      "cell_type": "markdown",
      "source": [
        "17\n",
        "\n",
        "x\n",
        "\n",
        "x + 17"
      ],
      "metadata": {
        "id": "IUQL3sM6qk4j"
      }
    },
    {
      "cell_type": "markdown",
      "source": [
        "Si escribes una expresión en modo interactivo, el intérprete la evalúa y muestra el\n",
        "resultado:"
      ],
      "metadata": {
        "id": "lY7zw3-hqoLx"
      }
    },
    {
      "cell_type": "code",
      "source": [
        "1+1"
      ],
      "metadata": {
        "colab": {
          "base_uri": "https://localhost:8080/"
        },
        "id": "E0BP2n1QqC-V",
        "outputId": "79e5fbeb-9846-499b-8082-ea43ba259909"
      },
      "execution_count": 23,
      "outputs": [
        {
          "output_type": "execute_result",
          "data": {
            "text/plain": [
              "2"
            ]
          },
          "metadata": {},
          "execution_count": 23
        }
      ]
    },
    {
      "cell_type": "markdown",
      "source": [
        "Sin embargo, en un script, ¡una expresión por si misma no hace nada! Esto a\n",
        "menudo puede producir confusión entre los principiantes."
      ],
      "metadata": {
        "id": "4fkRXiOSqtdb"
      }
    },
    {
      "cell_type": "markdown",
      "source": [
        "Ejercicio 1: Escribe las siguientes sentencias en el intérprete de Python\n",
        "para comprobar qué hacen:"
      ],
      "metadata": {
        "id": "OVaWEHGVqvyt"
      }
    },
    {
      "cell_type": "code",
      "source": [
        "5\n",
        "x = 5\n",
        "x + 1"
      ],
      "metadata": {
        "colab": {
          "base_uri": "https://localhost:8080/"
        },
        "id": "makKHA-jqrjn",
        "outputId": "e99b9a27-3de5-4f18-9f29-23bd3742476b"
      },
      "execution_count": 24,
      "outputs": [
        {
          "output_type": "execute_result",
          "data": {
            "text/plain": [
              "6"
            ]
          },
          "metadata": {},
          "execution_count": 24
        }
      ]
    },
    {
      "cell_type": "markdown",
      "source": [
        "##Orden de las operaciones"
      ],
      "metadata": {
        "id": "KUAkiSmhq21j"
      }
    },
    {
      "cell_type": "markdown",
      "source": [
        "Cuando en una expresión aparece más de un operador, el orden de evaluación depende\n",
        "de las reglas de precedencia. Para los operadores matemáticos, Python sigue\n",
        "las convenciones matemáticas. El acrónimo PEMDSR resulta útil para recordar\n",
        "esas reglas:\n",
        "\n",
        "\n",
        "*  Los Paréntesis tienen el nivel superior de precedencia, y pueden usarse para\n",
        "forzar a que una expresión sea evaluada en el orden que se quiera. Dado\n",
        "que las expresiones entre paréntesis son evaluadas primero, 2 * (3-1) es 4,\n",
        "y (1+1)**(5-2) es 8. Se pueden usar también paréntesis para hacer una\n",
        "expresión más sencilla de leer, incluso si el resultado de la misma no varía\n",
        "por ello, como en (minuto * 100) / 60.\n",
        "*   La Exponenciación (elevar un número a una potencia) tiene el siguiente nivel\n",
        "más alto de precedencia, de modo que\n",
        "\n",
        "```\n",
        "2**1+1 es 3, no 4, y 3*1**3 es 3, no 27.\n",
        "```\n",
        "\n",
        "\n",
        "*   La Multiplicación y la División tienen la misma precedencia, que es superior\n",
        "a la de la Suma y la Resta, que también tienen entre si el mismo nivel de\n",
        "precedencia. Así que 2*3-1 es 5, no 4, y 6+4/2 es 8, no 5.\n",
        "*   Los operadores con igual precedencia son evaluados de izquierda a derecha.\n",
        "Así que la expresión 5-3-1 es 1 y no 3, ya que 5-3 se evalúa antes, y después\n",
        "se resta 1 de 2.\n",
        "\n",
        "En caso de duda, añade siempre paréntesis a tus expresiones para asegurarte de\n",
        "que las operaciones se realizan en el orden que tú quieres.\n"
      ],
      "metadata": {
        "id": "qv_UpfhBq6cC"
      }
    },
    {
      "cell_type": "markdown",
      "source": [
        "##Operador módulo"
      ],
      "metadata": {
        "id": "7LmriDokrjjk"
      }
    },
    {
      "cell_type": "markdown",
      "source": [
        "El operador módulo trabaja con enteros y obtiene el resto de la operación consistente\n",
        "en dividir el primer operando por el segundo. En Python, el operador módulo\n",
        "es un signo de porcentaje (%). La sintaxis es la misma que se usa para los demás\n",
        "operadores:"
      ],
      "metadata": {
        "id": "TUjzhfAVrmSW"
      }
    },
    {
      "cell_type": "code",
      "source": [
        "quotient = 7 // 3\n",
        "print(quotient)"
      ],
      "metadata": {
        "colab": {
          "base_uri": "https://localhost:8080/"
        },
        "id": "07RSpYbeqysl",
        "outputId": "ef0b757f-83aa-4577-f005-241e0098c12b"
      },
      "execution_count": 26,
      "outputs": [
        {
          "output_type": "stream",
          "name": "stdout",
          "text": [
            "2\n"
          ]
        }
      ]
    },
    {
      "cell_type": "code",
      "source": [
        "remainder = 7 % 3\n",
        "print(remainder)"
      ],
      "metadata": {
        "colab": {
          "base_uri": "https://localhost:8080/"
        },
        "id": "mbrWEW7tro8J",
        "outputId": "1e4293ea-faa0-48ed-8142-01bcbe1614cf"
      },
      "execution_count": 27,
      "outputs": [
        {
          "output_type": "stream",
          "name": "stdout",
          "text": [
            "1\n"
          ]
        }
      ]
    },
    {
      "cell_type": "markdown",
      "source": [
        "Así que 7 dividido por 3 es 2 y nos sobra 1."
      ],
      "metadata": {
        "id": "kdwaNmWUrxO5"
      }
    },
    {
      "cell_type": "markdown",
      "source": [
        "El operador módulo resulta ser sorprendentemente útil. Por ejemplo, puedes comprobar\n",
        "si un número es divisible por otro—si x % y es cero, entonces x es divisible\n",
        "por y."
      ],
      "metadata": {
        "id": "9kNS2HNlrzAi"
      }
    },
    {
      "cell_type": "markdown",
      "source": [
        "También se puede extraer el dígito más a la derecha de los que componen un\n",
        "número. Por ejemplo, x % 10 obtiene el dígito que está más a la derecha de x (en\n",
        "base 10). De forma similar, x % 100 obtiene los dos últimos dígitos."
      ],
      "metadata": {
        "id": "KV6Gh6fyr4nu"
      }
    },
    {
      "cell_type": "markdown",
      "source": [
        "##Operaciones con cadenas"
      ],
      "metadata": {
        "id": "CwP7m9xGr7a0"
      }
    },
    {
      "cell_type": "markdown",
      "source": [
        "El operador + funciona con las cadenas, pero no realiza una suma en el sentido\n",
        "matemático. En vez de eso, realiza una concatenación, que quiere decir que une\n",
        "ambas cadenas, enlazando el final de la primera con el principio de la segunda. Por\n",
        "ejemplo:"
      ],
      "metadata": {
        "id": "X8bJ6NSdr-1T"
      }
    },
    {
      "cell_type": "code",
      "source": [
        "primero = 10\n",
        "segundo = 15\n",
        "print(primero+segundo)"
      ],
      "metadata": {
        "colab": {
          "base_uri": "https://localhost:8080/"
        },
        "id": "ShTG2WKyruD3",
        "outputId": "f6b621a2-1258-4c29-d0fe-ffe07414dc06"
      },
      "execution_count": 29,
      "outputs": [
        {
          "output_type": "stream",
          "name": "stdout",
          "text": [
            "25\n"
          ]
        }
      ]
    },
    {
      "cell_type": "code",
      "source": [
        "primero = '100'\n",
        "segundo = '150'\n",
        "print(primero + segundo)"
      ],
      "metadata": {
        "colab": {
          "base_uri": "https://localhost:8080/"
        },
        "id": "AmKNiN3GrvwF",
        "outputId": "a8038e59-b130-4d04-afa3-a858b7cd1ff4"
      },
      "execution_count": 30,
      "outputs": [
        {
          "output_type": "stream",
          "name": "stdout",
          "text": [
            "100150\n"
          ]
        }
      ]
    },
    {
      "cell_type": "markdown",
      "source": [
        "El operador * también trabaja con cadenas multiplicando el contenido de una\n",
        "cadena por un entero. Por ejemplo:"
      ],
      "metadata": {
        "id": "6IIsQy0asajQ"
      }
    },
    {
      "cell_type": "code",
      "source": [
        "primero = 'Test '\n",
        "second = 3\n",
        "print(primero * second)"
      ],
      "metadata": {
        "colab": {
          "base_uri": "https://localhost:8080/"
        },
        "id": "mluXoRfwsV5B",
        "outputId": "99b4fdce-cd0a-47d3-8740-9ed30c1a0a52"
      },
      "execution_count": 31,
      "outputs": [
        {
          "output_type": "stream",
          "name": "stdout",
          "text": [
            "Test Test Test \n"
          ]
        }
      ]
    },
    {
      "cell_type": "markdown",
      "source": [
        "##Petición de información al usuario"
      ],
      "metadata": {
        "id": "oWisAj0Ksgwl"
      }
    },
    {
      "cell_type": "markdown",
      "source": [
        "A veces necesitaremos que sea el usuario quien nos proporcione el valor para una\n",
        "variable, a través del teclado. Python proporciona una función interna llamada\n",
        "input que recibe la entrada desde el teclado. Cuando se llama a esa función, el\n",
        "programa se detiene y espera a que el usuario escriba algo. Cuando el usuario\n",
        "pulsa Retorno o Intro, el programa continúa y input devuelve como una cadena\n",
        "aquello que el usuario escribió."
      ],
      "metadata": {
        "id": "PV_T_TGbsyPz"
      }
    },
    {
      "cell_type": "code",
      "source": [
        "entrada = input()"
      ],
      "metadata": {
        "colab": {
          "base_uri": "https://localhost:8080/"
        },
        "id": "0AUWnvjAsfBk",
        "outputId": "f0e07032-2b9a-4190-b83e-1165578ff6b6"
      },
      "execution_count": 34,
      "outputs": [
        {
          "name": "stdout",
          "output_type": "stream",
          "text": [
            "La organizacion vence al tiempo\n"
          ]
        }
      ]
    },
    {
      "cell_type": "code",
      "source": [
        "print(entrada)"
      ],
      "metadata": {
        "colab": {
          "base_uri": "https://localhost:8080/"
        },
        "id": "98k_eD_ds2d5",
        "outputId": "a3ccd03b-cdd9-4b9b-fa2d-3eac8d8f2df0"
      },
      "execution_count": 35,
      "outputs": [
        {
          "output_type": "stream",
          "name": "stdout",
          "text": [
            "La organizacion vence al tiempo\n"
          ]
        }
      ]
    },
    {
      "cell_type": "markdown",
      "source": [
        "Antes de recibir cualquier dato desde el usuario, es buena idea escribir un mensaje\n",
        "explicándole qué debe introducir. Se puede pasar una cadena a input, que será\n",
        "mostrada al usuario antes de que el programa se detenga para recibir su entrada:"
      ],
      "metadata": {
        "id": "Ei388l2BtBNC"
      }
    },
    {
      "cell_type": "code",
      "source": [
        "nombre = input('¿Cómo te llamas?\\n')"
      ],
      "metadata": {
        "colab": {
          "base_uri": "https://localhost:8080/"
        },
        "id": "zAm3Cq0Rs5BV",
        "outputId": "95035386-abca-4c99-9a2e-bc3d92f29b69"
      },
      "execution_count": 36,
      "outputs": [
        {
          "name": "stdout",
          "output_type": "stream",
          "text": [
            "¿Cómo te llamas?\n",
            "moskito\n"
          ]
        }
      ]
    },
    {
      "cell_type": "code",
      "source": [
        "print(nombre)"
      ],
      "metadata": {
        "colab": {
          "base_uri": "https://localhost:8080/"
        },
        "id": "9VjYgfHMtFgC",
        "outputId": "9eb4046b-0903-440f-8e2a-935441da0deb"
      },
      "execution_count": 37,
      "outputs": [
        {
          "output_type": "stream",
          "name": "stdout",
          "text": [
            "moskito\n"
          ]
        }
      ]
    },
    {
      "cell_type": "markdown",
      "source": [
        "La secuencia \\n al final del mensaje representa un newline, que es un carácter\n",
        "especial que provoca un salto de línea. Por eso la entrada del usuario aparece\n",
        "debajo de nuestro mensaje."
      ],
      "metadata": {
        "id": "ze8E0h5ftKDM"
      }
    },
    {
      "cell_type": "markdown",
      "source": [
        "Si esperas que el usuario escriba un entero, puedes intentar convertir el valor de\n",
        "retorno a int usando la función int():"
      ],
      "metadata": {
        "id": "WccLaMPztLqQ"
      }
    },
    {
      "cell_type": "code",
      "source": [
        "prompt = '¿Cual es la velocidad de vuelo de una golondrina sin carga?\\n'\n",
        "velocidad = input(prompt)"
      ],
      "metadata": {
        "colab": {
          "base_uri": "https://localhost:8080/"
        },
        "id": "V9tOZ-SktHo8",
        "outputId": "ec8b38c0-29ef-4218-bb72-1eb7e173a2a2"
      },
      "execution_count": 38,
      "outputs": [
        {
          "name": "stdout",
          "output_type": "stream",
          "text": [
            "¿Cual es la velocidad de vuelo de una golondrina sin carga?\n",
            "22\n"
          ]
        }
      ]
    },
    {
      "cell_type": "code",
      "source": [
        "int(velocidad)"
      ],
      "metadata": {
        "colab": {
          "base_uri": "https://localhost:8080/"
        },
        "id": "EfYkfFNttP8l",
        "outputId": "e5461e23-b64b-415d-a298-81bd2b965a3b"
      },
      "execution_count": 39,
      "outputs": [
        {
          "output_type": "execute_result",
          "data": {
            "text/plain": [
              "22"
            ]
          },
          "metadata": {},
          "execution_count": 39
        }
      ]
    },
    {
      "cell_type": "code",
      "source": [
        "int(velocidad) + 5"
      ],
      "metadata": {
        "colab": {
          "base_uri": "https://localhost:8080/"
        },
        "id": "MfCPAc7RtUWi",
        "outputId": "cd3bac63-ecd5-40a3-b2df-eb5ceb6b8e56"
      },
      "execution_count": 40,
      "outputs": [
        {
          "output_type": "execute_result",
          "data": {
            "text/plain": [
              "27"
            ]
          },
          "metadata": {},
          "execution_count": 40
        }
      ]
    },
    {
      "cell_type": "markdown",
      "source": [
        "Pero si el usuario escribe algo que no sea una cadena de dígitos, obtendrás un error:"
      ],
      "metadata": {
        "id": "pBE6QNV6tXhq"
      }
    },
    {
      "cell_type": "code",
      "source": [
        "velocidad = input(prompt)"
      ],
      "metadata": {
        "colab": {
          "base_uri": "https://localhost:8080/"
        },
        "id": "qJeqsnTStVwE",
        "outputId": "b81c08a3-3c37-4280-e122-be5dc9c20fe3"
      },
      "execution_count": 41,
      "outputs": [
        {
          "name": "stdout",
          "output_type": "stream",
          "text": [
            "¿Cual es la velocidad de vuelo de una golondrina sin carga?\n",
            "¿Te refieres a una golondrina africana o a una europea?\n"
          ]
        }
      ]
    },
    {
      "cell_type": "code",
      "source": [
        "int(velocidad)"
      ],
      "metadata": {
        "colab": {
          "base_uri": "https://localhost:8080/",
          "height": 175
        },
        "id": "RzR25IL4tcd8",
        "outputId": "85e77bd7-e8d4-4313-a148-7bbf52040799"
      },
      "execution_count": 42,
      "outputs": [
        {
          "output_type": "error",
          "ename": "ValueError",
          "evalue": "ignored",
          "traceback": [
            "\u001b[0;31m---------------------------------------------------------------------------\u001b[0m",
            "\u001b[0;31mValueError\u001b[0m                                Traceback (most recent call last)",
            "\u001b[0;32m<ipython-input-42-882bbe0964c5>\u001b[0m in \u001b[0;36m<cell line: 1>\u001b[0;34m()\u001b[0m\n\u001b[0;32m----> 1\u001b[0;31m \u001b[0mint\u001b[0m\u001b[0;34m(\u001b[0m\u001b[0mvelocidad\u001b[0m\u001b[0;34m)\u001b[0m\u001b[0;34m\u001b[0m\u001b[0;34m\u001b[0m\u001b[0m\n\u001b[0m",
            "\u001b[0;31mValueError\u001b[0m: invalid literal for int() with base 10: '¿Te refieres a una golondrina africana o a una europea?'"
          ]
        }
      ]
    },
    {
      "cell_type": "markdown",
      "source": [
        "Veremos cómo controlar este tipo de errores más adelante."
      ],
      "metadata": {
        "id": "XgiLzNImtlT5"
      }
    },
    {
      "cell_type": "markdown",
      "source": [
        "##Comentarios"
      ],
      "metadata": {
        "id": "5_UBfnGston4"
      }
    },
    {
      "cell_type": "markdown",
      "source": [
        "A medida que los programas se van volviendo más grandes y complicados, se vuelven\n",
        "más difíciles de leer. Los lenguajes formales son densos, y a menudo es complicado\n",
        "mirar un trozo de código e imaginarse qué es lo que hace, o por qué."
      ],
      "metadata": {
        "id": "4RcuTs0BtryS"
      }
    },
    {
      "cell_type": "markdown",
      "source": [
        "Por eso es buena idea añadir notas a tus programas, para explicar en un lenguaje\n",
        "normal qué es lo que el programa está haciendo. Estas notas reciben el nombre de\n",
        "comentarios, y en Python comienzan con el símbolo #:"
      ],
      "metadata": {
        "id": "Znas837mtteM"
      }
    },
    {
      "cell_type": "code",
      "source": [
        "# calcula el porcentaje de hora transcurrido\n",
        "minuto=1\n",
        "porcentaje = (minuto * 100) / 60"
      ],
      "metadata": {
        "id": "kGB2mf6Vtjmx"
      },
      "execution_count": 44,
      "outputs": []
    },
    {
      "cell_type": "markdown",
      "source": [
        "En este caso, el comentario aparece como una línea completa. Pero también puedes\n",
        "poner comentarios al final de una línea"
      ],
      "metadata": {
        "id": "cCGkbot7uCT3"
      }
    },
    {
      "cell_type": "code",
      "source": [
        "porcentaje = (minuto * 100) / 60 # porcentaje de una hora"
      ],
      "metadata": {
        "id": "kbDn1R8Atxt0"
      },
      "execution_count": 45,
      "outputs": []
    },
    {
      "cell_type": "markdown",
      "source": [
        "Todo lo que va desde # hasta el final de la línea es ignorado—no afecta para nada\n",
        "al programa."
      ],
      "metadata": {
        "id": "UmeFDPjsuGRE"
      }
    },
    {
      "cell_type": "markdown",
      "source": [
        "Las comentarios son más útiles cuando documentan características del código que\n",
        "no resultan obvias. Es razonable asumir que el lector puede descifrar qué es lo que\n",
        "el código hace; es mucho más útil explicarle por qué."
      ],
      "metadata": {
        "id": "qAssX0l4uIa-"
      }
    },
    {
      "cell_type": "markdown",
      "source": [
        "Este comentario es redundante con el código e inútil:"
      ],
      "metadata": {
        "id": "c_PPjIlXuKVc"
      }
    },
    {
      "cell_type": "code",
      "source": [
        "v = 5 # asigna 5 a v"
      ],
      "metadata": {
        "id": "hMJtswTduE2r"
      },
      "execution_count": 46,
      "outputs": []
    },
    {
      "cell_type": "markdown",
      "source": [
        "Este comentario contiene información útil que no está en el código:"
      ],
      "metadata": {
        "id": "mEbUP2OWuPWt"
      }
    },
    {
      "cell_type": "code",
      "source": [
        "v = 5 # velocidad en metros/segundo."
      ],
      "metadata": {
        "id": "EE1VGCqIuM58"
      },
      "execution_count": 47,
      "outputs": []
    },
    {
      "cell_type": "markdown",
      "source": [
        "Elegir nombres adecuados para las variables puede reducir la necesidad de comentarios,\n",
        "pero los nombres largos también pueden ocasionar que las expresiones\n",
        "complejas sean difíciles de leer, así que hay que conseguir una solución de compromiso."
      ],
      "metadata": {
        "id": "r8hEYHbDuTzX"
      }
    },
    {
      "cell_type": "markdown",
      "source": [
        "##Elección de nombres de variables mnemónicos"
      ],
      "metadata": {
        "id": "JX8jBdyHuWtc"
      }
    },
    {
      "cell_type": "markdown",
      "source": [
        "Mientras sigas las sencillas reglas de nombrado de variables y evites las palabras\n",
        "reservadas, dispondrás de una gran variedad de opciones para poner nombres a tus\n",
        "variables. Al principio, esa diversidad puede llegar a resultarte confusa, tanto al\n",
        "leer un programa como al escribir el tuyo propio. Por ejemplo, los tres programas\n",
        "siguientes son idénticos en cuanto a la función que realizan, pero muy diferentes\n",
        "cuando los lees e intentas entenderlos."
      ],
      "metadata": {
        "id": "IsXVN8QRuZiE"
      }
    },
    {
      "cell_type": "code",
      "source": [
        "a = 35.0\n",
        "b = 12.50\n",
        "c = a * b\n",
        "print(c)"
      ],
      "metadata": {
        "colab": {
          "base_uri": "https://localhost:8080/"
        },
        "id": "kjj8GXNauSAj",
        "outputId": "c34aea7a-224f-4db2-96dc-9e720c0d1d8f"
      },
      "execution_count": 48,
      "outputs": [
        {
          "output_type": "stream",
          "name": "stdout",
          "text": [
            "437.5\n"
          ]
        }
      ]
    },
    {
      "cell_type": "code",
      "source": [
        "horas = 35.0\n",
        "tarifa = 12.50\n",
        "salario = horas * tarifa\n",
        "print(salario)"
      ],
      "metadata": {
        "colab": {
          "base_uri": "https://localhost:8080/"
        },
        "id": "rRgO3dJ1udTT",
        "outputId": "4e4dcaa1-babc-463a-bf31-dafbffb5a38f"
      },
      "execution_count": 49,
      "outputs": [
        {
          "output_type": "stream",
          "name": "stdout",
          "text": [
            "437.5\n"
          ]
        }
      ]
    },
    {
      "cell_type": "code",
      "source": [
        "x1q3z9ahd = 35.0\n",
        "x1q3z9afd = 12.50\n",
        "x1q3p9afd = x1q3z9ahd * x1q3z9afd\n",
        "print(x1q3p9afd)"
      ],
      "metadata": {
        "colab": {
          "base_uri": "https://localhost:8080/"
        },
        "id": "HrIBmfGNuf4T",
        "outputId": "5c3ca4db-ee0f-4e55-f849-f1f046e704b9"
      },
      "execution_count": 50,
      "outputs": [
        {
          "output_type": "stream",
          "name": "stdout",
          "text": [
            "437.5\n"
          ]
        }
      ]
    },
    {
      "cell_type": "markdown",
      "source": [
        "El intérprete de Python ve los tres programas como exactamente idénticos, pero\n",
        "los humanos ven y asimilan estos programas de forma bastante diferente. Los\n",
        "humanos entenderán más rápidamente el objetivo del segundo programa, ya que\n",
        "el programador ha elegido nombres de variables que reflejan lo que pretendía de\n",
        "acuerdo al contenido que iba almacenar en cada variable."
      ],
      "metadata": {
        "id": "CFkpOWJhujo1"
      }
    },
    {
      "cell_type": "markdown",
      "source": [
        "Esa sabia elección de nombres de variables se denomina utilizar “nombres de variables\n",
        "mnemónicos”. La palabra mnemónico2 significa “que ayuda a memorizar”."
      ],
      "metadata": {
        "id": "kpewKnoGuloE"
      }
    },
    {
      "cell_type": "markdown",
      "source": [
        "Elegimos nombres de variables mnemónicos para ayudarnos a recordar por qué\n",
        "creamos las variables al principio."
      ],
      "metadata": {
        "id": "0pjuvvkMunY2"
      }
    },
    {
      "cell_type": "markdown",
      "source": [
        "A pesar de que todo esto parezca estupendo, y de que sea una idea muy buena usar\n",
        "nombres de variables mnemónicos, ese tipo de nombres pueden interponerse en el\n",
        "camino de los programadores novatos a la hora de analizar y comprender el código.\n",
        "Esto se debe a que los programadores principiantes no han memorizado aún las\n",
        "palabras reservadas (sólo hay 33), y a veces variables con nombres que son demasiado\n",
        "descriptivos pueden llegar a parecerles parte del lenguaje y no simplemente\n",
        "nombres de variable bien elegidos."
      ],
      "metadata": {
        "id": "F-I6HNc1upDK"
      }
    },
    {
      "cell_type": "markdown",
      "source": [
        "Echa un vistazo rápido al siguiente código de ejemplo en Python, que se mueve\n",
        "en bucle a través de un conjunto de datos. Trataremos los bucles pronto, pero por\n",
        "ahora tan sólo trata de entender su significado:"
      ],
      "metadata": {
        "id": "uHG_HBqxusip"
      }
    },
    {
      "cell_type": "code",
      "source": [
        "words=\"hola Mundo\"\n",
        "for word in words:\n",
        "  print(word)"
      ],
      "metadata": {
        "colab": {
          "base_uri": "https://localhost:8080/"
        },
        "id": "v77zSLi4uhsM",
        "outputId": "5c0ca1f5-25df-4759-f763-66e63d0e5b01"
      },
      "execution_count": 54,
      "outputs": [
        {
          "output_type": "stream",
          "name": "stdout",
          "text": [
            "h\n",
            "o\n",
            "l\n",
            "a\n",
            " \n",
            "M\n",
            "u\n",
            "n\n",
            "d\n",
            "o\n"
          ]
        }
      ]
    },
    {
      "cell_type": "markdown",
      "source": [
        "¿Qué ocurre aquí? ¿Cuáles de las piezas (for, word, in, etc.) son palabras reservadas\n",
        "y cuáles son simplemente nombres de variables? ¿Acaso Python comprende\n",
        "de un modo básico la noción de palabras (words)? Los programadores novatos\n",
        "tienen problemas separando qué parte del código debe mantenerse tal como está\n",
        "en este ejemplo y qué partes son simplemente elección del programador."
      ],
      "metadata": {
        "id": "VdDlP9enu6Xq"
      }
    },
    {
      "cell_type": "markdown",
      "source": [
        "El código siguiente es equivalente al de arriba:"
      ],
      "metadata": {
        "id": "Q0uc8fe4u8D6"
      }
    },
    {
      "cell_type": "code",
      "source": [
        "pizza=\"pizza\"\n",
        "for slice in pizza:\n",
        "  print(slice)"
      ],
      "metadata": {
        "colab": {
          "base_uri": "https://localhost:8080/"
        },
        "id": "PIrC4o1HuvzD",
        "outputId": "a98b613f-5ea9-42de-b795-e2d773600db4"
      },
      "execution_count": 56,
      "outputs": [
        {
          "output_type": "stream",
          "name": "stdout",
          "text": [
            "p\n",
            "i\n",
            "z\n",
            "z\n",
            "a\n"
          ]
        }
      ]
    },
    {
      "cell_type": "markdown",
      "source": [
        "Para los principiantes es más fácil estudiar este código y saber qué partes son\n",
        "palabras reservadas definidas por Python y qué partes son simplemente nombres\n",
        "de variables elegidas por el programador. Está bastante claro que Python no\n",
        "entiende nada de pizza ni de porciones, ni del hecho de que una pizza consiste en\n",
        "un conjunto de una o más porciones."
      ],
      "metadata": {
        "id": "zVeud6LOvIM7"
      }
    },
    {
      "cell_type": "markdown",
      "source": [
        "Pero si nuestro programa lo que realmente va a hacer es leer datos y buscar palabras\n",
        "en ellos, pizza y porción son nombres muy poco mnemónicos. Elegirlos como\n",
        "nombres de variables distrae del propósito real del programa."
      ],
      "metadata": {
        "id": "Wzb35zb_vKeE"
      }
    },
    {
      "cell_type": "markdown",
      "source": [
        "Dentro de muy poco tiempo, conocerás las palabras reservadas más comunes, y\n",
        "empezarás a ver cómo esas palabras reservadas resaltan sobre las demás:"
      ],
      "metadata": {
        "id": "SgEaQPXSvMX5"
      }
    },
    {
      "cell_type": "markdown",
      "source": [
        "Las partes del código que están definidas por Python (for, in, print, y :) están\n",
        "en negrita, mientras que las variables elegidas por el programador (word y words)\n",
        "no lo están. Muchos editores de texto son conscientes de la sintaxis de Python\n",
        "y colorearán las palabras reservadas de forma diferente para darte pistas que te\n",
        "permitan mantener tus variables y las palabras reservadas separados. Dentro de\n",
        "poco empezarás a leer Python y podrás determinar rápidamente qué es una variable\n",
        "y qué es una palabra reservada."
      ],
      "metadata": {
        "id": "4ljT7XLYvOR2"
      }
    },
    {
      "cell_type": "markdown",
      "source": [
        "##Depuración"
      ],
      "metadata": {
        "id": "yn2Ayj7TvS5r"
      }
    },
    {
      "cell_type": "markdown",
      "source": [
        "En este punto, el error de sintaxis que es más probable que cometas será intentar\n",
        "utilizar nombres de variables no válidos, como class y yield, que son palabras\n",
        "clave, o odd~job y US$, que contienen caracteres no válidos."
      ],
      "metadata": {
        "id": "6QztSOdRvVoo"
      }
    },
    {
      "cell_type": "markdown",
      "source": [
        "Si pones un espacio en un nombre de variable, Python cree que se trata de dos\n",
        "operandos sin ningún operador:"
      ],
      "metadata": {
        "id": "SzUQe1OjvXh0"
      }
    },
    {
      "cell_type": "code",
      "source": [
        "bad name = 5"
      ],
      "metadata": {
        "colab": {
          "base_uri": "https://localhost:8080/",
          "height": 140
        },
        "id": "Qnq0zI8EvEk0",
        "outputId": "a72d42ff-c468-4287-d900-221fe380a89b"
      },
      "execution_count": 57,
      "outputs": [
        {
          "output_type": "error",
          "ename": "SyntaxError",
          "evalue": "ignored",
          "traceback": [
            "\u001b[0;36m  File \u001b[0;32m\"<ipython-input-57-67877bfd5d2a>\"\u001b[0;36m, line \u001b[0;32m1\u001b[0m\n\u001b[0;31m    bad name = 5\u001b[0m\n\u001b[0m        ^\u001b[0m\n\u001b[0;31mSyntaxError\u001b[0m\u001b[0;31m:\u001b[0m invalid syntax\n"
          ]
        }
      ]
    },
    {
      "cell_type": "code",
      "source": [
        "month = 09"
      ],
      "metadata": {
        "colab": {
          "base_uri": "https://localhost:8080/",
          "height": 140
        },
        "id": "CtBvNiD7vaUb",
        "outputId": "ca63518f-43c4-4438-b946-f5dd73e2cea2"
      },
      "execution_count": 58,
      "outputs": [
        {
          "output_type": "error",
          "ename": "SyntaxError",
          "evalue": "ignored",
          "traceback": [
            "\u001b[0;36m  File \u001b[0;32m\"<ipython-input-58-e1767aafc583>\"\u001b[0;36m, line \u001b[0;32m1\u001b[0m\n\u001b[0;31m    month = 09\u001b[0m\n\u001b[0m            ^\u001b[0m\n\u001b[0;31mSyntaxError\u001b[0m\u001b[0;31m:\u001b[0m leading zeros in decimal integer literals are not permitted; use an 0o prefix for octal integers\n"
          ]
        }
      ]
    },
    {
      "cell_type": "markdown",
      "source": [
        "Para la mayoría de errores de sintaxis, los mensajes de error no ayudan mucho.\n",
        "Los mensajes más comunes son SyntaxError: invalid syntax y SyntaxError:\n",
        "invalid token, ninguno de los cuales resulta muy informativo."
      ],
      "metadata": {
        "id": "OdfhKjPLviep"
      }
    },
    {
      "cell_type": "markdown",
      "source": [
        "El runtime error (error en tiempo de ejecución) que es más probable que obtengas\n",
        "es un “use before def” (uso antes de definir); que significa que estás intentando\n",
        "usar una variable antes de que le hayas asignado un valor. Eso puede ocurrir si\n",
        "escribes mal el nombre de la variable:"
      ],
      "metadata": {
        "id": "94koLbo_vkWe"
      }
    },
    {
      "cell_type": "code",
      "source": [
        "principal = 327.68\n",
        "interest = principle * rate"
      ],
      "metadata": {
        "colab": {
          "base_uri": "https://localhost:8080/",
          "height": 192
        },
        "id": "SSozBvrTvb7i",
        "outputId": "d489fd96-193c-4607-f8df-fa7503c3fe87"
      },
      "execution_count": 59,
      "outputs": [
        {
          "output_type": "error",
          "ename": "NameError",
          "evalue": "ignored",
          "traceback": [
            "\u001b[0;31m---------------------------------------------------------------------------\u001b[0m",
            "\u001b[0;31mNameError\u001b[0m                                 Traceback (most recent call last)",
            "\u001b[0;32m<ipython-input-59-b378f79ce02b>\u001b[0m in \u001b[0;36m<cell line: 2>\u001b[0;34m()\u001b[0m\n\u001b[1;32m      1\u001b[0m \u001b[0mprincipal\u001b[0m \u001b[0;34m=\u001b[0m \u001b[0;36m327.68\u001b[0m\u001b[0;34m\u001b[0m\u001b[0;34m\u001b[0m\u001b[0m\n\u001b[0;32m----> 2\u001b[0;31m \u001b[0minterest\u001b[0m \u001b[0;34m=\u001b[0m \u001b[0mprinciple\u001b[0m \u001b[0;34m*\u001b[0m \u001b[0mrate\u001b[0m\u001b[0;34m\u001b[0m\u001b[0;34m\u001b[0m\u001b[0m\n\u001b[0m",
            "\u001b[0;31mNameError\u001b[0m: name 'principle' is not defined"
          ]
        }
      ]
    },
    {
      "cell_type": "markdown",
      "source": [
        "Los nombres de las variables son sensibles a mayúsculas, así que LaTeX no es lo\n",
        "mismo que latex."
      ],
      "metadata": {
        "id": "olNd83pYvqqV"
      }
    },
    {
      "cell_type": "markdown",
      "source": [
        "En este punto, la causa más probable de un error semántico es el orden de las\n",
        "operaciones. Por ejemplo, para evaluar 1/2π , puedes sentirte tentado a escribir"
      ],
      "metadata": {
        "id": "y8vlL5Navsvi"
      }
    },
    {
      "cell_type": "code",
      "source": [
        "1.0 / 2.0 * pi"
      ],
      "metadata": {
        "colab": {
          "base_uri": "https://localhost:8080/"
        },
        "id": "_1b42a-3vn-T",
        "outputId": "39d9ca33-56f2-44d2-a1bb-1fc61d8fb5a5"
      },
      "execution_count": 60,
      "outputs": [
        {
          "output_type": "execute_result",
          "data": {
            "text/plain": [
              "1.5707963267948966"
            ]
          },
          "metadata": {},
          "execution_count": 60
        }
      ]
    },
    {
      "cell_type": "markdown",
      "source": [
        "Pero la división se evalúa antes, ¡así que obtendrás π/2, que no es lo mismo! No\n",
        "hay forma de que Python sepa qué es lo que querías escribir exactamente, así que\n",
        "en este caso no obtienes un mensaje de error; simplemente obtienes una respuesta\n",
        "incorrecta."
      ],
      "metadata": {
        "id": "SBGXrYFJv5m5"
      }
    },
    {
      "cell_type": "code",
      "source": [],
      "metadata": {
        "id": "5WbKKKuov3gq"
      },
      "execution_count": null,
      "outputs": []
    },
    {
      "cell_type": "markdown",
      "source": [
        "##Ejercicios"
      ],
      "metadata": {
        "id": "AQf441TGwRZE"
      }
    },
    {
      "cell_type": "markdown",
      "source": [
        "Ejercicio 2: Escribe un programa que use input para pedirle al usuario\n",
        "su nombre y luego darle la bienvenida."
      ],
      "metadata": {
        "id": "NiZuLbCHwVIa"
      }
    },
    {
      "cell_type": "code",
      "source": [],
      "metadata": {
        "id": "Ki6IoppQwUpg"
      },
      "execution_count": null,
      "outputs": []
    },
    {
      "cell_type": "markdown",
      "source": [
        "Ejercicio 3: Escribe un programa para pedirle al usuario el número de\n",
        "horas y la tarifa por hora para calcular el salario bruto.\n",
        "\n",
        "\n",
        "```\n",
        "Introduzca Horas: 35\n",
        "Introduzca Tarifa: 2.75\n",
        "Salario: 96.25\n",
        "```"
      ],
      "metadata": {
        "id": "mHTL020LwXxu"
      }
    },
    {
      "cell_type": "markdown",
      "source": [
        "Por ahora no es necesario preocuparse de que nuestro salario tenga exactamente\n",
        "dos dígitos después del punto decimal. Si quieres, puedes probar la función interna\n",
        "de Python round para redondear de forma adecuada el salario resultante a dos\n",
        "dígitos decimales."
      ],
      "metadata": {
        "id": "pYp2GRIEwoFa"
      }
    },
    {
      "cell_type": "markdown",
      "source": [
        "Ejercicio 4: Asume que ejecutamos las siguientes sentencias de asignación:\n",
        "\n",
        "\n",
        "```\n",
        "ancho = 17\n",
        "alto = 12.0\n",
        "```\n",
        "Para cada una de las expresiones siguientes, escribe el valor de la expresión y el\n",
        "tipo (del valor de la expresión).\n",
        "\n",
        "\n",
        "1.   ancho/2\n",
        "2.   ancho/2.0\n",
        "3.   alto/3\n",
        "4.   1 + 2 * 5\n",
        "\n",
        "\n",
        "\n"
      ],
      "metadata": {
        "id": "R0zcauvdwreF"
      }
    },
    {
      "cell_type": "code",
      "source": [],
      "metadata": {
        "id": "isEPb1H9wlyC"
      },
      "execution_count": null,
      "outputs": []
    },
    {
      "cell_type": "markdown",
      "source": [
        "Ejercicio 5: Escribe un programa que le pida al usuario una temperatura\n",
        "en grados Celsius, la convierta a grados Fahrenheit e imprima\n",
        "por pantalla la temperatura convertida."
      ],
      "metadata": {
        "id": "qexxvOcExFQE"
      }
    },
    {
      "cell_type": "code",
      "source": [],
      "metadata": {
        "id": "xAsBvvq2xF2I"
      },
      "execution_count": null,
      "outputs": []
    }
  ]
}