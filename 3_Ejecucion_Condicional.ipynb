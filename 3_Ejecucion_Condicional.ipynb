{
  "nbformat": 4,
  "nbformat_minor": 0,
  "metadata": {
    "colab": {
      "provenance": [],
      "authorship_tag": "ABX9TyPXNGrimOZAL5aFrw+eBDYX",
      "include_colab_link": true
    },
    "kernelspec": {
      "name": "python3",
      "display_name": "Python 3"
    },
    "language_info": {
      "name": "python"
    }
  },
  "cells": [
    {
      "cell_type": "markdown",
      "metadata": {
        "id": "view-in-github",
        "colab_type": "text"
      },
      "source": [
        "<a href=\"https://colab.research.google.com/github/JuanMiguez/4tocfp10/blob/main/3_Ejecucion_Condicional.ipynb\" target=\"_parent\"><img src=\"https://colab.research.google.com/assets/colab-badge.svg\" alt=\"Open In Colab\"/></a>"
      ]
    },
    {
      "cell_type": "markdown",
      "source": [
        "#Ejecución condicional\n"
      ],
      "metadata": {
        "id": "C9_OVZCnMYwz"
      }
    },
    {
      "cell_type": "markdown",
      "source": [
        "##Expresiones booleanas"
      ],
      "metadata": {
        "id": "6Ju14IOrMdYr"
      }
    },
    {
      "cell_type": "markdown",
      "source": [
        "Una expresión booleana es aquella que puede ser verdadera (**True**) o falsa (**False**).\n",
        "\n",
        "Los ejemplos siguientes usan el operador **==**, que compara dos operandos y devuelve **True** si son iguales y False en caso contrario:"
      ],
      "metadata": {
        "id": "RKYn8_S2MhqV"
      }
    },
    {
      "cell_type": "code",
      "source": [
        "5 == 5"
      ],
      "metadata": {
        "id": "0xqtUebPMx0j",
        "outputId": "cc8e3ef2-0a3d-4794-fb4a-59758d6f8cf0",
        "colab": {
          "base_uri": "https://localhost:8080/"
        }
      },
      "execution_count": 1,
      "outputs": [
        {
          "output_type": "execute_result",
          "data": {
            "text/plain": [
              "True"
            ]
          },
          "metadata": {},
          "execution_count": 1
        }
      ]
    },
    {
      "cell_type": "code",
      "source": [
        "5 == 6"
      ],
      "metadata": {
        "id": "HsxQUnTNM5jo",
        "outputId": "0b7b2756-68cf-495a-af8f-7c79436f74df",
        "colab": {
          "base_uri": "https://localhost:8080/"
        }
      },
      "execution_count": 2,
      "outputs": [
        {
          "output_type": "execute_result",
          "data": {
            "text/plain": [
              "False"
            ]
          },
          "metadata": {},
          "execution_count": 2
        }
      ]
    },
    {
      "cell_type": "markdown",
      "source": [
        "**True** y **False** son valores especiales que pertenecen al tipo **bool** (booleano); no son cadenas:"
      ],
      "metadata": {
        "id": "52wBqa-TM7-T"
      }
    },
    {
      "cell_type": "code",
      "source": [
        "type(True)"
      ],
      "metadata": {
        "id": "Vo1rCHtRNC6A",
        "outputId": "6192ab53-aa29-452c-e9c2-457fefbf02d2",
        "colab": {
          "base_uri": "https://localhost:8080/"
        }
      },
      "execution_count": 3,
      "outputs": [
        {
          "output_type": "execute_result",
          "data": {
            "text/plain": [
              "bool"
            ]
          },
          "metadata": {},
          "execution_count": 3
        }
      ]
    },
    {
      "cell_type": "code",
      "source": [
        "type(False)"
      ],
      "metadata": {
        "id": "hJ8ztDRANFnS",
        "outputId": "64fde9df-a09a-4563-ed2a-372e3dfcaeba",
        "colab": {
          "base_uri": "https://localhost:8080/"
        }
      },
      "execution_count": 4,
      "outputs": [
        {
          "output_type": "execute_result",
          "data": {
            "text/plain": [
              "bool"
            ]
          },
          "metadata": {},
          "execution_count": 4
        }
      ]
    },
    {
      "cell_type": "markdown",
      "source": [
        "El operador **==** es uno de los operadores de comparación; los demás son:\n",
        "\n",
        "* x != y                 # x es distinto de y\n",
        "* x > y                  # x es mayor que y\n",
        "* x < y                  # x es menor que y\n",
        "* x >= y                 # x es mayor o igual que y\n",
        "* x <= y                 # x es menor o igual que y\n",
        "* x is y                 # x es lo mismo que y\n",
        "* x is not y             # x no es lo mismo que y\n",
        "\n",
        "A pesar de que estas operaciones probablemente te resulten familiares, los símbolos en Python son diferentes de los símbolos matemáticos que se usan para realizar las mismas operaciones. Un error muy común es usar sólo un símbolo igual (**=**) en vez del símbolo de doble igualdad (**==**). Recuerda que **=** es un operador de asignación, y **==** es un operador de comparación. No existe algo como **=<** o **=>**.\n"
      ],
      "metadata": {
        "id": "JJzqia2BMwzJ"
      }
    },
    {
      "cell_type": "markdown",
      "source": [
        "##Operadores lógicos"
      ],
      "metadata": {
        "id": "icuFxPDCNxbO"
      }
    },
    {
      "cell_type": "markdown",
      "source": [
        "Existen tres operadores lógicos: **and** (y), **or** (o), y **not** (no). El significado semántico de estas operaciones es similar a su significado en inglés. Por ejemplo,\n",
        "* x > 0 and x < 10\n",
        "\n",
        "es verdadero sólo cuando **x** es mayor que 0 y menor que 10.\n",
        "\n",
        "**n%2 == 0** or **n%3 == 0** es verdadero si **cualquiera** de las condiciones es verdadera, es decir, si el número es divisible por 2 o por 3.\n",
        "\n",
        "Finalmente, el operador **not** niega una expresión booleana, de modo que **not** (**x > y**) es verdadero si **x > y** es falso; es decir, si **x** es menor o igual que **y**.\n",
        "\n",
        "Estrictamente hablando, los operandos de los operadores lógicos deberían ser expresiones booleanas, pero Python no es muy estricto. Cualquier número distinto\n",
        "de cero se interpreta como “verdadero.”\n"
      ],
      "metadata": {
        "id": "K7i9IDAPN1px"
      }
    },
    {
      "cell_type": "code",
      "source": [
        "17 and True"
      ],
      "metadata": {
        "id": "Z6NyLFJpOnEY",
        "outputId": "d8b40b65-b2af-49ae-e899-be44aa50fe3d",
        "colab": {
          "base_uri": "https://localhost:8080/"
        }
      },
      "execution_count": 5,
      "outputs": [
        {
          "output_type": "execute_result",
          "data": {
            "text/plain": [
              "True"
            ]
          },
          "metadata": {},
          "execution_count": 5
        }
      ]
    },
    {
      "cell_type": "markdown",
      "source": [
        "Esta flexibilidad puede ser útil, pero existen ciertas sutilezas en ese tipo de uso\n",
        "que pueden resultar confusas. Es posible que prefieras evitar usarlo de este modo\n",
        "hasta que estés bien seguro de lo que estás haciendo."
      ],
      "metadata": {
        "id": "BKTMW_OiOsCl"
      }
    },
    {
      "cell_type": "markdown",
      "source": [
        "##Ejecución condicional"
      ],
      "metadata": {
        "id": "YEWdCUieOweo"
      }
    },
    {
      "cell_type": "markdown",
      "source": [
        "Para poder escribir programas útiles, casi siempre vamos a necesitar la capacidad de comprobar condiciones y cambiar el comportamiento del programa de acuerdo a ellas. Las **sentencias condicionales** nos proporcionan esa capacidad. La forma más sencilla es la sentencia **if**:"
      ],
      "metadata": {
        "id": "56q9eSx2Oz8k"
      }
    },
    {
      "cell_type": "code",
      "source": [
        "x=2\n",
        "if x > 0 :\n",
        "  print('x es positivo')"
      ],
      "metadata": {
        "id": "8RvGAk7lPQxV",
        "outputId": "254e0542-65e3-4707-c6f5-01af49c33355",
        "colab": {
          "base_uri": "https://localhost:8080/"
        }
      },
      "execution_count": 6,
      "outputs": [
        {
          "output_type": "stream",
          "name": "stdout",
          "text": [
            "x es positivo\n"
          ]
        }
      ]
    },
    {
      "cell_type": "markdown",
      "source": [],
      "metadata": {
        "id": "wgz6h7m1PAh0"
      }
    },
    {
      "cell_type": "markdown",
      "source": [
        "La expresión booleana después de la sentencia **if** recibe el nombre de condición. La sentencia **if** se finaliza con un carácter de dos-puntos (:) y la(s) línea(s) que van detrás de la sentencia if van indentadas (es decir, llevan una tabulación o varios espacios en blanco al principio).\n",
        "\n",
        "Si la condición lógica es verdadera, la sentencia indentada será ejecutada. Si la condición es falsa, la sentencia indentada será omitida.\n",
        "\n",
        "La sentencia **if** tiene la misma estructura que la definición de funciones o los bucles **for**. La sentencia consiste en una línea de encabezado que termina con el carácter dos-puntos (:) seguido por un bloque indentado. Las sentencias de este tipo reciben el nombre de *sentencias compuestas*, porque se extienden a lo largo de varias líneas."
      ],
      "metadata": {
        "id": "syCG1RJyPY6w"
      }
    },
    {
      "cell_type": "markdown",
      "source": [
        "![image.png](data:image/png;base64,iVBORw0KGgoAAAANSUhEUgAAAdkAAAE3CAYAAADmCTvwAAAAAXNSR0IArs4c6QAAAARnQU1BAACxjwv8YQUAAAAJcEhZcwAADsMAAA7DAcdvqGQAACXHSURBVHhe7d0PdBT1vffxb6LFP0X0gPfUBVSODwK2aEHQ9gpqCpiIgvCAYo9egk8iYhXrczgmPNBabxX0Siwtgj33apOrQdtbvcnBolVSg/QpWMEEqNBi8tgerCHRKiCQolKTeeY3O79kstndbJL97c7svl/nzNmd2c1mM7PZz35/f2ZzLJsAAICky3UvAQBAkhGyAAAYQsgCAGAIIQsAgCEMfAqwnJwc91onDicA+AeVLAAAhhCyAAAYQsgCAGAIIQsAgCGELAAAhhCyAAAYQsgCAGAIIQsAgCGELAAAhhCyAAAYQsgCAGAIIQsAgCGELAAAhhCyAAAYQsgCAGAIIQsAgCGELAAAhhCyAAAYQsgCAGAIIQsAgCGELAAAhhCyAAAYQsgCAGAIIQsAgCGELAAAhhCyAAAYQsgCAGBIjmVzr8NnKisrZe/eve5ad2VlZe61TiUlJe617qZNmyb5+fnuGgDANELWx7Zt2yaTJ0921/pv165dMm7cOHcNAGAazcU+dumll7rX+m/WrFkELACkGCHrY6eddpqsXbvWXeufOXPmuNcAAKlCc7HP7d69W8aPH++u9d3Bgwdl8ODB7hoAIBWoZH1ONfGqpt7+uP322wlYAEgDQjYA+tvUe9ttt7nXAACpRHNxABw6dEiGDBnirvXe8ePHnf5dAEBqUckGgGrqVU2+faEGThGwAJAehGxA9LXJN5nzbAEAvUPIBkRf5swyNxYA0ouQDYi+zJllbiwApBcDnwKkt3NmmRsLAOlFJRsgvZkzy9xYAEg/QjZgEm0CZm4sAKQfzcUBk+icWebGAkD6UckGTCJzZpkbCwD+QMgGUE9NwcyNBQB/IGQDKN6cWebGAoB/ELIBFG/OLHNjAcA/GPgUULHmzDI3FgD8g0o2oKLNmWVuLAD4CyEbYJFNw8yNBQB/obk4wCLnzDI3FgD8hUo2wLxzZpkbCwD+Q8gGkGp80MuCBQucbZMmTerYBgDwB0I2wFSgqhHGN9xwg3z96193twIA/II+2QBob2/vctnW1uZc7tq1SzZt2iQHDhyQiy66SK655hq58MIL5aSTTnJuz80Nf4bSlwCA1CJkA0CH6hdffOEMdtq8ebP84he/kJdfftnZ7nX99dfLnXfe6TQfDxo0yNmmQxcAkFqErI/oQxFZsf7jH/+Qt99+W37961/LihUrnG2aGvg0ffp0qayslBdffNHdGvajH/1Ipk6d6lS5SmSFm5OT41wCAMwgZH1EHwpVsSoffPCBbN26VdavXy+vvPKKs0257LLLpLCwUGbPni3Dhw93t4o0NjZKTU2N3HPPPe6WsBkzZsjChQslLy/PGYF88sknO9sJWQAwi5BNo8i+Vh2udXV1Tlg+9NBDzrqmqlZ1wgn1BQHxput8+umn8rvf/U5++tOfdqtuy8rKpKCgwOm71WFL3y06nZAD1UvksrlPSEuoUFZv+De59/IQIySBPiJk08jbHKz6Wl9//fVufa2xqtZExapur7vuOvnOd75D3y26aD9QLQsvmysVUiTlm38sRWPCrw0AfUPIpoDexbH6WlWorly50tmmJVq1JipedUvfLRzt70n1whkyt+J8Kat7Vu6bcJZ7A4C+ImRTQO/ivva1Jht9t+iuXVrr18jMia/KP9dWyIopw2giBpKAkDXAVF9rstF3i05fSGvrFzJw4KnuOoBkIGQNSEVfa7LRdwsAyUfI9oPedensa002+m4zSHuL1G98SZ7/yQOyakuLuzEkeaU/lP89b4bMnMCoYcA4FbLoGztcneXEiRPO8te//tX6+c9/bk2fPl2lb8diV63W2rVrrffff9/9yWBoaGhwnrf3b1HLjBkzLDuArSNHjjh/t94P8I+25hprWV6o27HrXEJWXtl265h7f6WtodzKV7eFllm1R9rcrQD6g5DtBbtSdRa7UnUWu+pzFrvys+6///5ub2R21Wpt3brVOn78uPsIwaSe/6ZNm6xZs2Z1+xvLysosu2p39oPeL1988YWznwjedDls1ZVdHz5GeaXW03XNVkdkHmuwastLrTzn+N1klTd86t5AyAImELK9oMJDLSpQDhw4YK1fv9667rrruoROUKvWRMWqbtV+2Lhxo3Xo0CHr888/7whapEHbPqs8X1WxISu/fF9nwHb4yKotndDtdkIWSD66ZKKw94uzqD5WtZw4ccJZPvvsM9mxY4dz/uBhw4bJ/PnznfMJK6qvVU3L+e1vfyuLFy/2xWAmE0aNGuX8fXZ163wDkF3dOtvVfpg5c6bzRfKPP/647N27V+ywdfabGl2t9qNd2XbsW6TGiXfflw/DQwY8zpYpj9bZx6FZNhWNoV8WMIiBT1HoXaLCQUn3vFa/izcyedGiRXLllVfKwIEDnQFSDJJKBc+pEdVqXqmU3/MNGXL+P8cd7NTeWCHTRxdLTWiZ1L6zQqYMIn6B/iJkbarC8l7qcPXbvFa/izcyWc27nTZtmowZY1dObtiqoPUuSKaj0vibclm5YIlU6oHFmhO602Vy/lUyamBnkBKyQPIRsjbVlKmoqTfe72vVTcEKVWvvxKtu77jjDrnqqqvky1/+sjMNSAWsrnCRbCekpf41+f17x+WT7U9J8aoad7st1PX8xIQskHxZFbL6T9UVqzdcgzqv1e96qm6vueYap59XhW1kdatQ4SabCt2X5LnHH5CSyr12Vbta6jbeKxPsipaQBQxQIZst1JQStai5nWrJtHmtfhdvZLKad6tGJqvjokYm62OF3ktklHDHfTzTeBhdDCRfRn9UVRWrWlQfq1rUaFe1bN++3elnPe+88+SWW27pGMyULSOE0yXeyGR1XY1MXrNmjezZs8c5TqqFQR0378hk9Cx35BVyc35IpKVGNtUdcrcCSItw1mYmVRGpJZvntfpdvOp2w4YNzLvtk0+thvKbwvsyVGiVVdVZzR27rs061vCqVVY4Nnx7frnV4N5GJQskX0aErG5a1KGq3pTV0traar3xxhvW9773vS5v4GrJlLMxZYqeziq1e/du5z7quEaeVUotiNDWZNUuy++2L7ssoSKrfN8R9wcIWcCEjBj4pP8E+43XuWRea7Ax7zZZjkrj5tdk66b/6DqqmCk8QMoEMmRV/5z3Uocr81ozC/NuAQRdIEOWea3Zh3m3AILI1yGrn5quWJnXCubdAgiSQIQsfa2Ihr5bAH7nq5ClrxV9Qd8tAL/yVcjS14r+ou8WgJ+kJWT1r6Sv1QfaW6R+/U/kvttWyRa1HiqUsnXflVtnT5BQgPOHvlsAfpDWkKWvNX1UiFht+6V64QyZW7HX3dopVFQlbz01R4ZlQKFH3y2AdElJyNLX6j85OadIU9VC54u9pXCdbPi3hXJ5aIBd2G6TNf/nTllSeYqU1r4qj0452/2J4KPvFkCqpSRk6Wv1n5yTLpLyaUekuGaylDdUStGoU91b7A9D+sw/+eXS8EqRjMrAbkv6bgGkhArZZLErVWexQ9VZOIdwDMe2W2V5IUtCd1tVTZ+7GxV9YvexVlHVfiv62WM/smrLVljlVa9bDcf6fn5ZGTTFKg3Zx8BzgvgOR2rDt2XBOWx7e85k/drWr3UAiMdIyKo3I7Xwfa2xtFnH6lZbefa+CBVVWU1ujrU1VVlFdrh5t3Vnh2zpBHdfjrUKy/7Lqm3oPMl7YtqsQVMetkLq95fWWt1+um2fVZ5vfwjwfNdoNoj1jUAsLL1ZAK+kviK+cL8FR33yf/PNN7u9+LKyao3psFVXdr29X9yqtW2/VVWkvn4skWBTX1f2uvVCWaETlGrfhgrLrBc2eL/SLJ4eQrYjyCdYpbUfuduyR7zqloWlpwXwSmpHk/14zqIGNqnRwl6qz5XBTF5nyYQ7lkhpaK9UrH1Wqp9+RBZXHJS8svtknqd/NLpcGTgqT2687xlpbmuWug1Pyvy/rpabZk+UoScVyNKKl6S+5YR732hOyDkjRkqLu4au1OtTjTi+6667nNctAPSZE7VJovtgDx486HxJ+uOPP25NnTq1y6c8moq9Preaqu7uqEYlb7VV1+d+1sjqNmTllT5pbahrtm+JRCUbC03GLP1dAC8jlawaRaxGZU6ePNmZGrFu3TpZsGCBc5+33nrLGdF57rnnysKFC2Xbtm3O1IrsNECGTZsj8+20s0NR8udPl/Ge7/fsHU91e6TWrpBbZMuqO+Q7z++TVvceCWv/WPbvbravXCCjhw8Mb8tg6vWnRhqrke2jR4/uMuJYVbPPPfecuwYAvZPUKTx2FetcfvLJJ85lc7N6oxb58MMPncv33ntP9u3bJ1u2bJE//OEPzjYle6fvfCL1j/2LTCx5Obwauluq3lotc4YNCK/3Sru0Nv5fefVX/ynfLal0moJDhfYHnO/eKrMnhOwI7uqk0cUyrbEi+jSdo5tl6Zipskoy+8u7Y03jGT9+vHNGKHV51llnOVN51MkqzjjjDGc59dRTnUV9kDz55JPdn0I2ijZ/OolvqcgAKQ3ZgwcPOpfHjh2TpqYm2bVrV5e5skr2nIjCDsX6NTJz4hJpKHpBXvv2TpmW/4hIaa288+gUGeTeq0fqtIgbX5Lnf/KArNqiojVfSsvvkXnT82VCKHZYx54n63levX0uARDvhBQ33nijXHzxxc4HvQEDBsjpp5/uLIQsYiFk0ZOkhuyJE+HBNq2t4QbKv/3tb87lxx9/7FyqE1EoKmQVdb+///3vsnfvXqcZWV1qGV/dtu6Qx2bOlpKGOeHqNdTinuLwfCmre1bum3CWe8dooletj8/5lkyamdg5h6Of8elk+3E3yEOLFtuBfWkCzyM4YlWtY8eOlauvvto505MKVBWup5xyirOoD3lq0WGrA1fdpu6nQlYtyF6ELHqS1JDVp0vUfaw6VA8fPuxc6gr36NGjzqU3bJV3333XaU5WXxDglXnV7Qk5UL3EDrhqubh8s7xSNMZpzm0/UC0LL5srFaNXS93Ge2VC1P7Zj2Xz0mtl6qp6+/pYKSz7viy4YbpMGdW7elO9OcQ+d3FI8so2yMb7Lpcg98jGq1rnzp0rX/3qV2XYsGHypS99yQlNb8DqalUv6nWnL9X91eI91zGyEyGLniQ1ZPXpEyMrWh2mkZexwlZVvipwf//738sf//hHZ5uSKdVt7DDtDN/RMUPODtnH/kP2XzBJJudfJaP6OFDKCVl16FsbZfPz5fJQsedbeJ75ntx5zajABmxPVasa3KSrVu+iA1Yvepv3Ui26glX7kJDNboQsepLUkNUPpcNW99F+9tlnzqVqGlZ0mOqQPXLkiHOp1/Xtx48fd/pu1SAp77fzKNnTd2tGR8hmiN5Wrd4w9S6qWtVhqu+r+l3VovtgveEa7U0WmUPNfoh8PXmp2RORSkpK3GvdqQ96qlBA9jASsvpSNx+rKT2KDlsVnooO3cjKNlrYZm3frSGZErKJVq3RwtW7roNVLbo5WIerClQVsN7mYR2uhGxmU68v9RpKlk2bNkl+fr67hmyQ1JCNRVe2Omx1hav7bnXYxqpsI5uT//znP8uf/vSnLOi7NSfIIdvfvlZ9qbfr+6hAVT+jK1Ydrmpf6XBF9lEf4ONVs72hZlgMHjzYXUM2SEnItsf4PtlYzck99d3q+3300UcZ3XdrUhBDNtl9rbpi1VWrN1zVovaRd0F2qq6udj689dfKlStl+fLl7hqyRUpCNpL+lTps9UCpyObkyJCl7zZ5ghKyqeprjdUcDKhZEkOGDHHX+k6dz33SpEnuGrJFWkNWV7aRzcn03SLVfa2RFSshC6/S0tKog5wSpd5/duzY4a4hm6QlZGOh7za70dcKv1KjjNW52Ptq7dq1snjxYncN2cRXIUvfbXairxV+pz4AqteiaiHri/fff5/3mCzlq5CNpJ8afbeZh75WBI36NrHID4KJmDVrlmzYsMFdQ7YJRMjSd5s56GtFUPV1zixzY7Obr0M2Fvpug4W+VmSKvsyZZW5sdgtkyNJ3Gwz0tSLT9HbOLHNjEciQjaT/BPpu06+nqvVrX/uaDB06tKNqjQxUvdDXCj/q7ZxZ5sYio0KWvtv0SaRqVd/FqgPTG7CR1/XirVp1xarDNbJiJWSRKonOmWVuLJSMCNlY6Ls1KxkjhOlrRdAkOmeWubFQMjpk6bs1I1bVeskll8iVV14Zt681MlTVpa5YddXqDdfIqpWKFemmPlwmMmeWubFQMjpkI+k/lb7b3otXtc6bN0/GjBkj559/vrOuwzPaQl8rMkFPc2aZGwstK0OWvtvExetrnTJliowcOVLOOussZ9vAgQOdSx2o3rDVwarDVVetumLV4RpZsRKy8KOe5swyNxZaVoVsLPTddtVTX6tqFv7KV77iDGRSBg0a1OXSW7F6A1YFqgpXb3Owuq6CVFeuQFDEmzPL3FhohKyNvtuwnvpa1fQbFZa6YtWXZ555pnN5xhlnOJc6XHXFqqtWb7hGVq1UrAiaWHNmmRsLL0I2Cr1LsqHvtjd9rTpEIytXHbI6dFWo6spVh6tuDtYVK6GKoIs1Z5a5sfAiZKPQuyST+2770tcaGa6RFa0aUazocFWBqsM1smIlZJEJor2OeUuFFyHbC0Hvu+1vX6uuWPW6vp9+jqqJWNHhqt6AdOUKZCJCFj0hZHshqH23yepr1Zc6XNXgJkWHq6peFfXG412ATEXIoieEbD/oXefHvttE+lpHjBjhrMdqDo4MWd0crMNVBbPiDVcgmxCy6Akh2w961/mp77anvtYLL7yw20ClyHCNrGgjw1UNbFJUk7DCYCZkK0IWPSFkDUhV320kdZaZeH2tOjQjRwkn2tcaGa5AtiNk0RNC1gDTfbdvvvlml+o2ku5rVdWratLVoRkZrr3ta9UVK4OZ+o5qHwiW/kYkIZsCehcnq+9WVcSq7/aRRx5x1r0eeOCBjnmtkc3BkRUrfa2px74EgoWQDQC9i5PVd6tvnz9/vnPptX79+o6KVIdpZKjq2+lrTT32JRAshGyA9bXvVofvDTfc4Fx6/epXv+oIU/pa/ccbsvzrZQ59XDmmmSGZ/6eEbBr1te9WNxtH++JodUq3yAFO9LX6ByEL+B8hm6H0oeip71aH7kUXXeRceu3bty9mczB9relHyAL+R8hmKH0oeuq71ZfR5smqAVE6VOlr9R9CFvA/QjbLRIatvtR9rV6q/1aHKn2t/kPIAv5HyGaZyL5bHbq6UvVSVW5kxUpfq38QsoD/EbJZTh+yaOGpgtj7AoG/ELKA/yXz/5QSBwAAQwjZAFKfsmJVq1SxAOAfhCwAAIYQsgAAGELIAgBgCCELAIAhhCwAAIYQsgAAGELIAgBgCCELAIAhhCwAAIYQsgAAGELIAgBgCCELAIAhhCwAAIYQsgAAGELIAgBgCCELAIAhhCwAAIYQsgAAGELIAuibo5tl6dAcGbp0sxx1NyXXJ1L/2P+Ugop3pN3d0t7yG1le8APZfFRvQUISPVbGj6nSbv+a5TI0J0dyCiqksT28PrK4Wg5k4GElZAH4UntjtSxfPUwWFVzgvlF9LFt+8qwMfniJTBnEW1fmyJVBeYWyvOlh+cGG9zo+UGWKHMvmXkfA5NifBCNxOP3Ne8yy/lipqmnMVFk/v1beeXSKDHI3O9rfk+qFM2Tx2Ws6b1P3v/Q1Kdi5gpDtN1U9fl/GTK2R+bWvyqNTzna3p0r491+6aZrsdI6v+3we+ifZuPFemTAwvcc3mf+nvFIB+Ey7tO6qlrUVF8mK4iu6hu/xR2TqmO/TXBx4R+X/7XxPrv7G/5CBzrpdzU6cJvMbymT5840ZVc0SskC2aX9HKgqGhvvDvmiR+meWyrdU/1jOUPnW0grZ3OjpjdP3HbrcDrZPpLF6uX3fibJ088dR+u8+k8aKefbjqNv/Jq2Nm+SxBRc7VUFOzsWy4LFN0tiq3j7d+505VVa1iLSsmipn2r+7s+/1kOx4/jnZkn+tTB55qrOlOzuI63/sPO+hkX15Hc95sVQfOOFujK29pV6qH1sQ7iNUy9AF8lh1vbREvtO3NsrmCr2vYuyvqPR+mScV9n1b6tfL0m/Zz089xreWSsXmRml179npqDRurui8X7zflcjz8h4rZ/8MlzOnPiL20ZdVU//J/hn13D6LOKYfy+alE91j3z322hsrpKDLcbN1ey4FsrRis3vcNVW1rpblH82VpfnndobQoEukYP5QqVn/iuzqcv+AU83FCCZ1+CIX+JsvjlXbPqs8P2RJ/gqr/JHruzwnZwkVWeX7jnS9b+he68knF1kh5z4TrNLajyzrSK1VGhIrVFprhe/9qdVQfpNz+5In11hF9m1dHztk5ZVtt4513K/rbfnl+6w29TDdHjeWw1ZdmXr+Y62iqv3hn7U+t5qq7rafp3dbLG3WsX1PW4Xdnmd4CRU+be075j7CsT1WeeHYqPeT0N1WVdPn4ftFpf/e2VZZ+b9aed0eY6xVWL7H3i+utiardll+xH30km8tq23q/LsSfV7efaqPaZf732SVN3zabd+3NZRb+fp4d6H/JvfnbG3NNdayvMjHdZe8f7Vqm+PtI6XN/vXL7GMX7fellve59xfvygHmfSEk6wUBs3xxrDxvsqHCddZ2/ebX1mxtX10YDtL8cqtBvZN735BDhdbq7c2db/AxQ1b9fXZwrN5qNTt3/txqrnXDJbTMqj3iPkLUMNVvtJ7QjefYdqtMvbG7gdLWVBUOd/384+n42UKrrKahI+Tamrdaq53g0s+h8znlLatx/ybF/ru2r7NDuqfn6tkvXfah/nm1v3RY6d9lb8tbZlU16D1zxGqoWR2+b0d49uJ5ddvXMQIt8n7u8e96jGx6e1GV1eT8go+s2tIJzj7LK62yGjo+nDRYNWXh11TnfWMLh3qCx96g8Gs4vPQX78oB5n0hJOsFAbN8caw6grOzCukQeVvHepTqIk7IxnpT7vI7o4asfoxEqxlP0DxSaZUXqXC83iqrO+zeHov+uegVb/jN3j5OTljr56Qr8d7q/Pnu4RFxW7xj0+1xevG8+hqy+nd4PxzZIivcrvvL2dQp7t/UVdzHSaFk/p/SJwtkq2h9nrkjZPLNk+0rf5GGJm9P4QUyenh4iErPQnLx6KHugBZX7tkyYtxQdyWeVmlq+It7PRFq+sciWVc0RLYsK5TiioOSV/YDuXPCWe7tsZyQD/a/Ky2yVyrmjpCTOvoQw8tJo4ulxr2nyKkysuDbUhRqkS0l35AzVD9qdbVUR+1LjWey3Dx5RMRAGPuxJ18r+fYz2dPQLK2tzdKwpyX6sZEBcs6Ikfbede+btOcVj/s77L2xqe6Qu+0zeXfrq1ITypeCiYPt9XZpbXpX9tjPLP/mK2RkZKp0HPvI11R3ueeMkHF22ZtJCFkAUTTL7v0fdw5o6ZWhMm7E2al7c8k9V6bdOtN+i1cmy/wbLuka8FElGOZ73pWm1nbJHTZHnqqvkw3lpZK3ZZUUz50rc6eOljO6DOjqn5bd+6W5eb/stjM2ulwZOHykXOyuKal4XrnDrpJb54us3/R2eIBb+37Z+sudkrdktlzuTKXSH1hiGSjDR1/gXs8+hCyAKFIclP3RWidPPvS0+yb/gnz/0V/34sxBE6S09iPVJhh9aX64Y05ubmiCzCp6VF5X2481SG3VC1JeOlQqS/6X3JOEaSehcSPkK3F3eGfF6G0pMP28RAbLxIJ8O2Vfk7qj7dL+7hvyy5pLE/wwo+gPNL1pDckchCyQrfbslL0tEVNcnCplq30lXW+Iva16PpH6f39QSrYMkaKq7VJTOkFaKh6Wx7d87N4eSzg4QnbFvmPnX7o1r7YfqJbijqks7hQc71SWgaNkypwbpeiRNVJu50/NL9+Qd3tMs32ybe+HEaHnNr26wXnmyCvk5ny7Jo92bOSQ1G2qsT9M6A9AyXpePXHnsDpNxgfCz7dLc7anyXvbn7pPfTr6tmxaX29/ihgpI84Z4G6Mrv2DeJV8MBGyQLZqeUIWL39Kdug389Z3pHrZvVJc0yKhom9LQcw5qibpfsdEmqvVXNn/lPtKXraf7w/lwdmXy9TvLpeiUL2semi91MdtKnWDw+nPvF8eqn7HDVr7MRs3yerlD0hFy/WyZN6lMkg/p5aN8syTv/E0wR6VxtpX5Ld77P1lV6Hn9PhuulcqFv9A1uxocf8u++erH5RFxS/YATQnfPpI3SceeWyc+66Wh1bZYZV3q8y7XPWFJut5JWDQFVK84gJZ//JzUv3Lv0jRoqld+l5z3Q8HLRUPyPI12zqDVr2mVj4qq1pCnublnsTo2w0qC4GlDl/kAn/zxbHSoz3z7rZKo82x9M6vjDcyNObo4mgjg/UUD8/jdDy2+r3xppvE0LbfqnJGE3ufm54nm8hIYM/Uom5L5NxV/bui3DfhebL51pLSW5zpLF0fI2KEc7y5r5EjpxN9XlH2acdIXmdx92Gcfd9x/4iRxmHx5xxL3mqrTk/riSnGiOc08D73/sqUzwoAemvApVK8tkpqygrt2kGxq43SSqmrXy1zhsVv1kuK3Atk+tJFYodcV86ZfyZIi9sHGN0JObChTBY7o4nvk3mjdNU9QIbNLgmPNi55UP69/hN3ezQDJDTlftnYUCvlpXZ8aHmlUl5bJU8Uje3sc8w9X+asqZJaNcDI3RTeX+VSu+XhBPfXmfK14h/LlprVYodRmP27nq6rkafmnN/ZrDhwrBQ9Yf+uF8o676d/V8PP5T7vyOl+PK/ckQWydJnn7+6BrlZD86fJxG4Vaa4MHDNfntjyurzQ8XpS8qW0vFYaEjofsdsc3jFqOTPwBQEBpqYaROJw+pv3mKXtWKnT6k2fIsWyQhpeKZJRvvuorZqB18jMibVyfd2zXUMlkFTfaaGMLhYpb6iUoo4PBOjC+cKIf5HdKzbLK0Vj0tqXmcz/U9/9ewHIdnZVNH6O3FP0nqx+fqf0dGZgZIJ2OVr3mqyX22TpjaMyKpgIWQD+k3u+zH7whzK9qlpeS+Ak/wi49kb570drZPq6RZKXYV9jSMgC8KXcYdfJ0uWHZe0vdifxDEbwn3Zp3fWKXcXeJUtne/qmMwR9sgFGn2zw+KJPFkBc9MkCABAAhCwAAIYQsgAAGELIAgBgCCELAIAhhCwAAIYQsgAAGELIAgBgCCELAIAhhCwAAIYQsgAAGELIAgBgCCELAIAhhCwAAIYQsgAAGELIAgBgCCELAIAhhCwAAIYQsgAAGELIAgBgCCELAIAhOZbNvY6AycnJca914nD6m/eYcawyQ2Vlpezdu1fOO+88KS4ultNOO829BUGVzP9TQjbACNngiXbMAPhXf99TaS4GAMAQQhYAAENoLg4wmouB9Kqurpa5c+e6ayIlJSWyatUqdw2gkgUAwBhCFgAAQwhZAAAMIWQBADCEkAUAwBBCFgAAQwhZAAAMIWQBADCEkAUAwBBCFgAAQwhZAAAMIWQBADCEkAUAwBBCFgAAQwhZAAAMIWQBADCEkAUAwBBCFgAAQwhZAAAMIWSRsN27d8u6deukurra3QIAiIeQRVyHDh2SyspKmT17towfP17uuece9xYAQE8IWXTz6aefyrZt22ThwoUyZMgQWbBggbz44ovurQCARBGy6KCbg08//XSZPHmy/OxnP3NvAQD0BSGb5WgOBgBzCNksRHMwAKQGIZtFaA4GgNQiZDMczcEAkD45ls29joDJyclxr3VSh1M1B+/cuVOefvppI9XqrFmzZNSoUe5a9jp8+DCtAeiipKREVq1a5a4BhGygRQvZtWvXUq0CaULIIhLNxRmGgAUA/yBkM8yuXbucahZA6t1yyy3uNSCM5uIAi9Unq5jsl1VNYt/85jfdNWhjx451ryEbnX322TJ48GB3DQgjZAMsXsh6qRHGL730knNi/2TMh62qqpI5c+a4awCAWGguzgLq03VhYaFs2LCB5mQASCFCNsuMGzdOFi9eLMePH5etW7fK7bff7t4CAEg2QjZLnXbaaTJp0iR56qmn5ODBg/LMM884818BAMlDyILmZAAwhJBFFzQnA0DyELKIiuZkAOg/pvAEWKJTeJJJfZOP+hYfzl0MAD0jZAMsHSELAEgczcUAABhCyAIAYAghCwCAIYQsAACGELIAABhCyAIAYAghCwCAIYQsAACGELIAABhCyAIAYAghCwCAIYQsAACGELIAABhCyAIAYAghCwCAIYQsAACGELIAABhCyAIAYEiOZXOvw2e2bdsmH374obvW3dy5c91rnaqqqtxr3V1wwQUybtw4dw0AYBoh62M1NTVSUFDgrvXf1q1bZdKkSe4aAMA0QtbHDh06JEOGDHHX+ueyyy6THTt2uGsAgFSgT9bHBg8eLCtXrnTX+qewsNC9BgBIFULW566++mr3Wv/Mnj3bvQYASBVC1udUH6pq6u2PWbNmyfDhw901AECqELIB0N+m3rvuusu9BgBIJQY+BUBTU5Oce+657lrvHTx40OnfBQCkFpVsAKimXtXk2xdq4BQBCwDpQcgGRF+bfJM1cAoA0Hs0FwdEX+bMMjcWANKLSjYg+jJnlrmxAJBehGyA9Lbpl7mxAJBehGyA9GbOLHNjASD9CNmASbQJmLmxAJB+DHwKmETnzDI3FgDSj0o2YBKZM8vcWADwB0I2gHpqCmZuLAD4A83FARRvzixzYwHAP6hkAyjenFnmxgKAfxCyARWrSZi5sQDgH4RsQEWbM8vcWADwF0I2wCKbhpkbCwD+wsCnAIucM8vcWADwFyrZAPPOmWVuLAD4DyEbcLqJmLmxAOA/NBcHnJoze+211zI3FgB8iJDNAI2NjTJq1Ch3DQDgF4QsAACG0CcLAIAhhCwAAIYQsgAAGELIAgBgCCELAIAhhCwAAIYQsgAAGELIAgBgCCELAIAhhCwAAIYQsgAAGELIAgBgCCELAIAhhCwAAIYQsgAAGCHy/wFYTbQx/VtGVwAAAABJRU5ErkJggg==)"
      ],
      "metadata": {
        "id": "0Yohi9MbP5tk"
      }
    },
    {
      "cell_type": "markdown",
      "source": [
        "No hay límite en el número de sentencias que pueden aparecer en el cuerpo, pero\n",
        "debe haber al menos una. Ocasionalmente, puede resultar útil tener un cuerpo sin\n",
        "sentencias (normalmente como emplazamiento reservado para código que no se ha\n",
        "escrito aún). En ese caso, se puede usar la sentencia **pass**, que no hace nada.\n",
        "\n",
        "```\n",
        "if x < 0 :\n",
        "  pass # ¡necesito gestionar los valores negativos!\n",
        "```\n",
        "\n",
        "\n",
        ""
      ],
      "metadata": {
        "id": "PaXezL4RP898"
      }
    },
    {
      "cell_type": "markdown",
      "source": [
        "##Ejecución alternativa"
      ],
      "metadata": {
        "id": "vnlQeV1LRKxA"
      }
    },
    {
      "cell_type": "markdown",
      "source": [
        "La segunda forma de la sentencia **if** es la *ejecución alternativa*, en la cual existen dos posibilidades y la condición determina cual de ellas será ejecutada. La sintaxis es similar a ésta:\n",
        "\n",
        "```\n",
        "if x%2 == 0 :\n",
        "  print('x es par')\n",
        "else :\n",
        "  print('x es impar')\n",
        "```\n",
        "Si al dividir **x** por 2 obtenemos como resto 0, entonces sabemos que **x** es par, y el programa muestra un mensaje a tal efecto. Si esa condición es falsa, se ejecuta el segundo conjunto de sentencias.\n"
      ],
      "metadata": {
        "id": "Etub0ixsRN7U"
      }
    },
    {
      "cell_type": "markdown",
      "source": [
        "![image.png](data:image/png;base64,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)"
      ],
      "metadata": {
        "id": "mUkl9X-fRiL1"
      }
    },
    {
      "cell_type": "markdown",
      "source": [
        "##Condicionales encadenados"
      ],
      "metadata": {
        "id": "CkCzrJg0RsA3"
      }
    },
    {
      "cell_type": "markdown",
      "source": [
        "Algunas veces hay más de dos posibilidades, de modo que necesitamos más de dos\n",
        "ramas. Una forma de expresar una operación como ésa es usar un *condicional\n",
        "encadenado*:\n",
        "\n",
        "```\n",
        "if x < y:\n",
        "  print('x es menor que y')\n",
        "elif x > y:\n",
        "  print('x es mayor que y')\n",
        "else:\n",
        "  print('x e y son iguales')\n",
        "```\n",
        "**elif** es una abreviatura para “else if”. En este caso también será ejecutada únicamente una de las ramas.\n",
        "\n",
        "No hay un límite para el número de sentencias elif. Si hay una clausula else,\n",
        "debe ir al final, pero tampoco es obligatorio que ésta exista.\n"
      ],
      "metadata": {
        "id": "hK4iSuiJR1XE"
      }
    },
    {
      "cell_type": "markdown",
      "source": [
        "![image.png](data:image/png;base64,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)"
      ],
      "metadata": {
        "id": "27IqIGWaSK9r"
      }
    },
    {
      "cell_type": "markdown",
      "source": [
        "\n",
        "```\n",
        "if choice == 'a':\n",
        "  print('Respuesta incorrecta')\n",
        "elif choice == 'b':\n",
        "  print('Respuesta correcta')\n",
        "elif choice == 'c':\n",
        "  print('Casi, pero no es correcto')\n",
        "```\n",
        "\n"
      ],
      "metadata": {
        "id": "7Nt_KBBvSSd1"
      }
    },
    {
      "cell_type": "markdown",
      "source": [
        "Cada condición es comprobada en orden. Si la primera es falsa, se comprueba la\n",
        "siguiente y así con las demás. Si una de ellas es verdadera, se ejecuta la rama\n",
        "correspondiente, y la sentencia termina. Incluso si hay más de una condición que\n",
        "sea verdadera, sólo se ejecuta la primera que se encuentra."
      ],
      "metadata": {
        "id": "VyG98BNFSXKf"
      }
    },
    {
      "cell_type": "markdown",
      "source": [
        "##Condicionales anidados"
      ],
      "metadata": {
        "id": "dP9obl6XSfCd"
      }
    },
    {
      "cell_type": "markdown",
      "source": [
        "Un condicional puede también estar anidado dentro de otro. Podríamos haber\n",
        "escrito el ejemplo anterior de las tres ramas de este modo:\n",
        "\n",
        "```\n",
        "if x == y:\n",
        "  print('x e y son iguales')\n",
        "else:\n",
        "  if x < y:\n",
        "    print('x es menor que y')\n",
        "  else:\n",
        "    print('x es mayor que y')\n",
        "```\n",
        "El condicional exterior contiene dos ramas. La primera rama ejecuta una sentencia simple. La segunda contiene otra sentencia if, que tiene a su vez sus propias dos ramas. Esas dos ramas son ambas sentencias simples, pero podrían haber sido sentencias condicionales también.\n",
        "\n",
        "A pesar de que el indentado de las sentencias hace que la estructura esté clara, los *condicionales anidados* pueden volverse difíciles de leer rápidamente. En general, es buena idea evitarlos si se puede.\n"
      ],
      "metadata": {
        "id": "X13ldRdpShY0"
      }
    },
    {
      "cell_type": "markdown",
      "source": [
        "![image.png](data:image/png;base64,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)"
      ],
      "metadata": {
        "id": "LFAGzLboS5_2"
      }
    },
    {
      "cell_type": "markdown",
      "source": [
        "Los operadores lógicos a menudo proporcionan un modo de simplificar las sentencias condicionales anidadas. Por ejemplo, el código siguiente puede ser reescrito usando un único condicional:\n",
        "\n",
        "```\n",
        "if 0 < x:\n",
        "  if x < 10:\n",
        "    print('x es un número positivo con un sólo dígito.')\n",
        "```\n",
        "\n",
        "La sentencia **print** se ejecuta solamente si se cumplen las dos condiciones anteriores, así que en realidad podemos conseguir el mismo efecto con el operador **and**:\n",
        "\n",
        "```\n",
        "if 0 < x and x < 10:\n",
        "  print('x es un número positivo con un sólo dígito.')\n",
        "```\n",
        "\n",
        "\n",
        "\n"
      ],
      "metadata": {
        "id": "hxfpAIAqTDIo"
      }
    },
    {
      "cell_type": "markdown",
      "source": [
        "##Captura de excepciones usando try y except"
      ],
      "metadata": {
        "id": "CnqssK6ZTaot"
      }
    },
    {
      "cell_type": "markdown",
      "source": [
        "Anteriormente vimos un fragmento de código donde usábamos las funciones input\n",
        "e **int** para leer y analizar un número entero introducido por el usuario. También\n",
        "vimos lo poco seguro que podía llegar a resultar hacer algo así:\n",
        "\n",
        "\n"
      ],
      "metadata": {
        "id": "B4ILNZvvTxOi"
      }
    },
    {
      "cell_type": "code",
      "source": [
        "prompt = \"¿Cual.... es la velocidad de vuelo de una golondrina sin carga?\"\n",
        "velocidad = input(prompt)\n",
        "int(velocidad)"
      ],
      "metadata": {
        "id": "04e6JNUCUDIK",
        "outputId": "b6c8727c-b4de-499d-81ff-7c31f4696439",
        "colab": {
          "base_uri": "https://localhost:8080/",
          "height": 228
        }
      },
      "execution_count": 11,
      "outputs": [
        {
          "name": "stdout",
          "output_type": "stream",
          "text": [
            "¿Cual.... es la velocidad de vuelo de una golondrina sin carga?¿Te refieres a una golondrina africana o a una europea?\n"
          ]
        },
        {
          "output_type": "error",
          "ename": "ValueError",
          "evalue": "ignored",
          "traceback": [
            "\u001b[0;31m---------------------------------------------------------------------------\u001b[0m",
            "\u001b[0;31mValueError\u001b[0m                                Traceback (most recent call last)",
            "\u001b[0;32m<ipython-input-11-0d0f4ca532e8>\u001b[0m in \u001b[0;36m<cell line: 3>\u001b[0;34m()\u001b[0m\n\u001b[1;32m      1\u001b[0m \u001b[0mprompt\u001b[0m \u001b[0;34m=\u001b[0m \u001b[0;34m\"¿Cual.... es la velocidad de vuelo de una golondrina sin carga?\"\u001b[0m\u001b[0;34m\u001b[0m\u001b[0;34m\u001b[0m\u001b[0m\n\u001b[1;32m      2\u001b[0m \u001b[0mvelocidad\u001b[0m \u001b[0;34m=\u001b[0m \u001b[0minput\u001b[0m\u001b[0;34m(\u001b[0m\u001b[0mprompt\u001b[0m\u001b[0;34m)\u001b[0m\u001b[0;34m\u001b[0m\u001b[0;34m\u001b[0m\u001b[0m\n\u001b[0;32m----> 3\u001b[0;31m \u001b[0mint\u001b[0m\u001b[0;34m(\u001b[0m\u001b[0mvelocidad\u001b[0m\u001b[0;34m)\u001b[0m\u001b[0;34m\u001b[0m\u001b[0;34m\u001b[0m\u001b[0m\n\u001b[0m",
            "\u001b[0;31mValueError\u001b[0m: invalid literal for int() with base 10: '¿Te refieres a una golondrina africana o a una europea?'"
          ]
        }
      ]
    },
    {
      "cell_type": "markdown",
      "source": [
        "Cuando estamos trabajando con el intérprete de Python, tras el error simplemente\n",
        "nos aparece de nuevo el prompt, así que pensamos “¡epa, me he equivocado!”, y\n",
        "continuamos con la siguiente sentencia.\n",
        "\n",
        "Sin embargo, si se escribe ese código en un script de Python y se produce el error, el script se detendrá inmediatamente, y mostrará un “traceback”. No ejecutará la siguiente sentencia.\n",
        "\n",
        "He aquí un programa de ejemplo para convertir una temperatura desde grados\n",
        "Fahrenheit a grados Celsius:"
      ],
      "metadata": {
        "id": "dzCaUwdHUlba"
      }
    },
    {
      "cell_type": "code",
      "source": [
        "ent = input('Introduzca la Temperatura Fahrenheit:')\n",
        "fahr = float(ent)\n",
        "cel = (fahr - 32.0) * 5.0 / 9.0\n",
        "print(cel)"
      ],
      "metadata": {
        "id": "Mq8uheSWUxlp",
        "outputId": "4dd9f27f-a490-4a7a-d3b7-0bd9d4ea51a5",
        "colab": {
          "base_uri": "https://localhost:8080/",
          "height": 245
        }
      },
      "execution_count": 13,
      "outputs": [
        {
          "name": "stdout",
          "output_type": "stream",
          "text": [
            "Introduzca la Temperatura Fahrenheit:fred\n"
          ]
        },
        {
          "output_type": "error",
          "ename": "ValueError",
          "evalue": "ignored",
          "traceback": [
            "\u001b[0;31m---------------------------------------------------------------------------\u001b[0m",
            "\u001b[0;31mValueError\u001b[0m                                Traceback (most recent call last)",
            "\u001b[0;32m<ipython-input-13-7cb5b71361bf>\u001b[0m in \u001b[0;36m<cell line: 2>\u001b[0;34m()\u001b[0m\n\u001b[1;32m      1\u001b[0m \u001b[0ment\u001b[0m \u001b[0;34m=\u001b[0m \u001b[0minput\u001b[0m\u001b[0;34m(\u001b[0m\u001b[0;34m'Introduzca la Temperatura Fahrenheit:'\u001b[0m\u001b[0;34m)\u001b[0m\u001b[0;34m\u001b[0m\u001b[0;34m\u001b[0m\u001b[0m\n\u001b[0;32m----> 2\u001b[0;31m \u001b[0mfahr\u001b[0m \u001b[0;34m=\u001b[0m \u001b[0mfloat\u001b[0m\u001b[0;34m(\u001b[0m\u001b[0ment\u001b[0m\u001b[0;34m)\u001b[0m\u001b[0;34m\u001b[0m\u001b[0;34m\u001b[0m\u001b[0m\n\u001b[0m\u001b[1;32m      3\u001b[0m \u001b[0mcel\u001b[0m \u001b[0;34m=\u001b[0m \u001b[0;34m(\u001b[0m\u001b[0mfahr\u001b[0m \u001b[0;34m-\u001b[0m \u001b[0;36m32.0\u001b[0m\u001b[0;34m)\u001b[0m \u001b[0;34m*\u001b[0m \u001b[0;36m5.0\u001b[0m \u001b[0;34m/\u001b[0m \u001b[0;36m9.0\u001b[0m\u001b[0;34m\u001b[0m\u001b[0;34m\u001b[0m\u001b[0m\n\u001b[1;32m      4\u001b[0m \u001b[0mprint\u001b[0m\u001b[0;34m(\u001b[0m\u001b[0mcel\u001b[0m\u001b[0;34m)\u001b[0m\u001b[0;34m\u001b[0m\u001b[0;34m\u001b[0m\u001b[0m\n",
            "\u001b[0;31mValueError\u001b[0m: could not convert string to float: 'fred'"
          ]
        }
      ]
    },
    {
      "cell_type": "markdown",
      "source": [
        "Existen estructuras de ejecución condicional dentro de Python para manejar este\n",
        "tipo de errores esperados e inesperados, llamadas “try / except”. La idea de **try** y **except** es que si se sabe que cierta secuencia de instrucciones puede generar un problema, sea posible añadir ciertas sentencias para que sean ejecutadas en caso de error. Estas sentencias extras (el bloque except) serán ignoradas si no se produce ningún error.\n",
        "\n",
        "Puedes pensar en la característica **try** y **except** de Python como una “póliza de seguros” en una secuencia de sentencias.\n",
        "Se puede reescribir nuestro conversor de temperaturas de esta forma:\n"
      ],
      "metadata": {
        "id": "JAfw--2DVCDW"
      }
    },
    {
      "cell_type": "code",
      "source": [
        "ent = input('Introduzca la Temperatura Fahrenheit:')\n",
        "try:\n",
        "  fahr = float(ent)\n",
        "  cel = (fahr - 32.0) * 5.0 / 9.0\n",
        "  print(cel)\n",
        "except:\n",
        "  print('Por favor, introduzca un número')"
      ],
      "metadata": {
        "id": "fLLmGbqUVXfQ",
        "outputId": "805ebc0b-4486-4161-b72f-b744b7bafdbd",
        "colab": {
          "base_uri": "https://localhost:8080/"
        }
      },
      "execution_count": 14,
      "outputs": [
        {
          "output_type": "stream",
          "name": "stdout",
          "text": [
            "Introduzca la Temperatura Fahrenheit:fred\n",
            "Por favor, introduzca un número\n"
          ]
        }
      ]
    },
    {
      "cell_type": "markdown",
      "source": [
        "Python comienza ejecutando la secuencia de sentencias del bloque try. Si todo\n",
        "va bien, se saltará todo el bloque **except** y terminará. Si ocurre una excepción dentro del bloque **try**, Python saltará fuera de ese bloque y ejecutará la secuencia de sentencias del bloque **except**.\n",
        "\n",
        "Gestionar una excepción con una sentencia **try** recibe el nombre de capturar una\n",
        "excepción. En este ejemplo, la clausula except muestra un mensaje de error. En\n",
        "general, capturar una excepción te da la oportunidad de corregir el problema,\n",
        "volverlo a intentar o, al menos, terminar el programa con elegancia."
      ],
      "metadata": {
        "id": "J703SNCoVhPL"
      }
    },
    {
      "cell_type": "markdown",
      "source": [
        "##Evaluación en cortocircuito de expresiones lógicas"
      ],
      "metadata": {
        "id": "HuUHGz1XVwiX"
      }
    },
    {
      "cell_type": "markdown",
      "source": [
        "Cuando Python está procesando una expresión lógica, como x >= 2 and (x/y) > 2, evalúa la expresión de izquierda a derecha. Debido a la definición de and, si x es menor de 2, la expresión x >= 2 resulta ser falsa, de modo que la expresión completa ya va a resultar falsa, independientemente de si (x/y) > 2 se evalúa como verdadera o falsa.\n",
        "\n",
        "\n",
        "Cuando Python detecta que no se gana nada evaluando el resto de una expresión\n",
        "lógica, detiene su evaluación y no realiza el cálculo del resto de la expresión.\n",
        "Cuando la evaluación de una expresión lógica se detiene debido a que ya se conoce el valor final, eso es conocido como cortocircuitar la evaluación.\n",
        "\n",
        "\n",
        "A pesar de que esto pueda parecer hilar demasiado fino, el funcionamiento en\n",
        "cortocircuito nos descubre una ingeniosa técnica conocida como patrón guardián.\n",
        "Examina la siguiente secuencia de código en el intérprete de Python:"
      ],
      "metadata": {
        "id": "1m47yOEHV3SK"
      }
    },
    {
      "cell_type": "code",
      "source": [
        "x = 6\n",
        "y = 2\n",
        "x >= 2 and (x/y) > 2"
      ],
      "metadata": {
        "id": "5gt80RJBWMYf",
        "outputId": "4429c3d0-b95d-4238-8d0c-fe1d07f6948e",
        "colab": {
          "base_uri": "https://localhost:8080/"
        }
      },
      "execution_count": 15,
      "outputs": [
        {
          "output_type": "execute_result",
          "data": {
            "text/plain": [
              "True"
            ]
          },
          "metadata": {},
          "execution_count": 15
        }
      ]
    },
    {
      "cell_type": "code",
      "source": [
        "x = 1\n",
        "y = 0\n",
        "x >= 2 and (x/y) > 2"
      ],
      "metadata": {
        "id": "haMIJ1S6WTPv",
        "outputId": "e756a6d3-8f5c-46cb-9250-02f15e99b857",
        "colab": {
          "base_uri": "https://localhost:8080/"
        }
      },
      "execution_count": 16,
      "outputs": [
        {
          "output_type": "execute_result",
          "data": {
            "text/plain": [
              "False"
            ]
          },
          "metadata": {},
          "execution_count": 16
        }
      ]
    },
    {
      "cell_type": "code",
      "source": [
        "x = 6\n",
        "y = 0\n",
        "x >= 2 and (x/y) > 2"
      ],
      "metadata": {
        "id": "L0Cwp-iPWYha",
        "outputId": "5555219d-9392-47ac-f385-d82ba8551742",
        "colab": {
          "base_uri": "https://localhost:8080/",
          "height": 211
        }
      },
      "execution_count": 17,
      "outputs": [
        {
          "output_type": "error",
          "ename": "ZeroDivisionError",
          "evalue": "ignored",
          "traceback": [
            "\u001b[0;31m---------------------------------------------------------------------------\u001b[0m",
            "\u001b[0;31mZeroDivisionError\u001b[0m                         Traceback (most recent call last)",
            "\u001b[0;32m<ipython-input-17-43a82c4c87c1>\u001b[0m in \u001b[0;36m<cell line: 3>\u001b[0;34m()\u001b[0m\n\u001b[1;32m      1\u001b[0m \u001b[0mx\u001b[0m \u001b[0;34m=\u001b[0m \u001b[0;36m6\u001b[0m\u001b[0;34m\u001b[0m\u001b[0;34m\u001b[0m\u001b[0m\n\u001b[1;32m      2\u001b[0m \u001b[0my\u001b[0m \u001b[0;34m=\u001b[0m \u001b[0;36m0\u001b[0m\u001b[0;34m\u001b[0m\u001b[0;34m\u001b[0m\u001b[0m\n\u001b[0;32m----> 3\u001b[0;31m \u001b[0mx\u001b[0m \u001b[0;34m>=\u001b[0m \u001b[0;36m2\u001b[0m \u001b[0;32mand\u001b[0m \u001b[0;34m(\u001b[0m\u001b[0mx\u001b[0m\u001b[0;34m/\u001b[0m\u001b[0my\u001b[0m\u001b[0;34m)\u001b[0m \u001b[0;34m>\u001b[0m \u001b[0;36m2\u001b[0m\u001b[0;34m\u001b[0m\u001b[0;34m\u001b[0m\u001b[0m\n\u001b[0m",
            "\u001b[0;31mZeroDivisionError\u001b[0m: division by zero"
          ]
        }
      ]
    },
    {
      "cell_type": "markdown",
      "source": [
        "La tercera operación ha fallado porque Python intentó evaluar (x/y) e y era cero, lo cual provoca un runtime error (error en tiempo de ejecución). Pero el segundo ejemplo no falló, porque la primera parte de la expresión x >= 2 fue evaluada como falsa, así que (x/y) no llegó a ejecutarse debido a la regla del cortocircuito, y no se produjo ningún error.\n",
        "\n",
        "Es posible construir las expresiones lógicas colocando estratégicamente una evaluación como guardián justo antes de la evaluación que podría causar un error, como se muestra a continuación:"
      ],
      "metadata": {
        "id": "jDTE_5rkWf1b"
      }
    },
    {
      "cell_type": "code",
      "source": [
        "x = 1\n",
        "y = 0\n",
        "x >= 2 and y != 0 and (x/y) > 2"
      ],
      "metadata": {
        "id": "hpj3h71iWwIE",
        "outputId": "87f9f98a-9dc6-464b-ba85-8c5d29806d64",
        "colab": {
          "base_uri": "https://localhost:8080/"
        }
      },
      "execution_count": 18,
      "outputs": [
        {
          "output_type": "execute_result",
          "data": {
            "text/plain": [
              "False"
            ]
          },
          "metadata": {},
          "execution_count": 18
        }
      ]
    },
    {
      "cell_type": "code",
      "source": [
        "x = 6\n",
        "y = 0\n",
        "x >= 2 and y != 0 and (x/y) > 2"
      ],
      "metadata": {
        "id": "q29arRblW0Gf",
        "outputId": "0ada7c45-3e64-4475-c921-dc8f8a2e96b9",
        "colab": {
          "base_uri": "https://localhost:8080/"
        }
      },
      "execution_count": 19,
      "outputs": [
        {
          "output_type": "execute_result",
          "data": {
            "text/plain": [
              "False"
            ]
          },
          "metadata": {},
          "execution_count": 19
        }
      ]
    },
    {
      "cell_type": "code",
      "source": [
        "x >= 2 and (x/y) > 2 and y != 0"
      ],
      "metadata": {
        "id": "8PkCfLVAXBM6",
        "outputId": "c07bca0a-9f50-4c98-85df-d0fd08b9a1df",
        "colab": {
          "base_uri": "https://localhost:8080/",
          "height": 176
        }
      },
      "execution_count": 20,
      "outputs": [
        {
          "output_type": "error",
          "ename": "ZeroDivisionError",
          "evalue": "ignored",
          "traceback": [
            "\u001b[0;31m---------------------------------------------------------------------------\u001b[0m",
            "\u001b[0;31mZeroDivisionError\u001b[0m                         Traceback (most recent call last)",
            "\u001b[0;32m<ipython-input-20-b3ac81785519>\u001b[0m in \u001b[0;36m<cell line: 1>\u001b[0;34m()\u001b[0m\n\u001b[0;32m----> 1\u001b[0;31m \u001b[0mx\u001b[0m \u001b[0;34m>=\u001b[0m \u001b[0;36m2\u001b[0m \u001b[0;32mand\u001b[0m \u001b[0;34m(\u001b[0m\u001b[0mx\u001b[0m\u001b[0;34m/\u001b[0m\u001b[0my\u001b[0m\u001b[0;34m)\u001b[0m \u001b[0;34m>\u001b[0m \u001b[0;36m2\u001b[0m \u001b[0;32mand\u001b[0m \u001b[0my\u001b[0m \u001b[0;34m!=\u001b[0m \u001b[0;36m0\u001b[0m\u001b[0;34m\u001b[0m\u001b[0;34m\u001b[0m\u001b[0m\n\u001b[0m",
            "\u001b[0;31mZeroDivisionError\u001b[0m: division by zero"
          ]
        }
      ]
    },
    {
      "cell_type": "markdown",
      "source": [
        "En la primera expresión lógica, x >= 2 es falsa, así que la evaluación se detiene en el and. En la segunda expresión lógica, x >= 2 es verdadera, pero y != 0 es falsa, de modo que nunca se alcanza (x/y).\n",
        "\n",
        "En la tercera expresión lógica, el y != 0 va después del cálculo de (x/y), de modo que la expresión falla con un error.\n",
        "\n",
        "En la segunda expresión, se dice que y != 0 actúa como guardián para garantizar\n",
        "que sólo se ejecute (x/y) en el caso de que y no sea cero."
      ],
      "metadata": {
        "id": "j9z77B-XXGY1"
      }
    },
    {
      "cell_type": "markdown",
      "source": [
        "##Depuración"
      ],
      "metadata": {
        "id": "MSDaR01iXOeU"
      }
    },
    {
      "cell_type": "markdown",
      "source": [
        "Los “traceback” que Python muestra cuando se produce un error contienen un\n",
        "montón de información, pero pueden resultar abrumadores. Las partes más útiles\n",
        "normalmente son:\n",
        "\n",
        "\n",
        "*   Qué tipo de error se ha producido, y\n",
        "*   Dónde ha ocurrido.\n",
        "\n",
        "Los errores de sintaxis (syntax errors), normalmente son fáciles de localizar, pero a veces tienen trampa. Los errores debido a espacios en blanco pueden ser complicados, ya que los espacios y las tabulaciones son invisibles, y solemos ignorarlos.\n",
        "\n",
        "\n"
      ],
      "metadata": {
        "id": "bQ0ZXjQpXVBX"
      }
    },
    {
      "cell_type": "code",
      "source": [
        "x = 5\n",
        "  y = 6"
      ],
      "metadata": {
        "id": "aAYJNi-8XipO",
        "outputId": "cc3ba78f-ba7e-4955-8fcc-d4751d95d392",
        "colab": {
          "base_uri": "https://localhost:8080/",
          "height": 141
        }
      },
      "execution_count": 21,
      "outputs": [
        {
          "output_type": "error",
          "ename": "IndentationError",
          "evalue": "ignored",
          "traceback": [
            "\u001b[0;36m  File \u001b[0;32m\"<ipython-input-21-caa1f43fbdb6>\"\u001b[0;36m, line \u001b[0;32m2\u001b[0m\n\u001b[0;31m    y = 6\u001b[0m\n\u001b[0m    ^\u001b[0m\n\u001b[0;31mIndentationError\u001b[0m\u001b[0;31m:\u001b[0m unexpected indent\n"
          ]
        }
      ]
    },
    {
      "cell_type": "markdown",
      "source": [
        "En este ejemplo, el problema es que la segunda línea está indentada por un espacio.\n",
        "Pero el mensaje de error apunta a y, lo cual resulta engañoso. En general, los\n",
        "mensajes de error indican dónde se ha descubierto el problema, pero el error real podría estar en el código previo, a veces en alguna línea anterior.\n",
        "\n",
        "Ocurre lo mismo con los errores en tiempo de ejecución (runtime errors). Supón\n",
        "que estás tratando de calcular una relación señal-ruido en decibelios. La fórmula es SNRdb = 10 log10(Psenal/Pruido). En Python, podrías escribir algo como esto:"
      ],
      "metadata": {
        "id": "YkamcBczXs6U"
      }
    },
    {
      "cell_type": "code",
      "source": [
        "import math\n",
        "int_senal = 9\n",
        "int_ruido = 10\n",
        "relacion = int_senal / int_ruido\n",
        "decibelios = 10 * math.log10(relacion)\n",
        "print(decibelios)"
      ],
      "metadata": {
        "id": "aYobjgZDX0-Z",
        "outputId": "044017ce-41bd-4e9e-c5d8-d8564311bc06",
        "colab": {
          "base_uri": "https://localhost:8080/"
        }
      },
      "execution_count": 22,
      "outputs": [
        {
          "output_type": "stream",
          "name": "stdout",
          "text": [
            "-0.4575749056067512\n"
          ]
        }
      ]
    },
    {
      "cell_type": "markdown",
      "source": [
        "## Ejercicios"
      ],
      "metadata": {
        "id": "6kjZuSZfX0l9"
      }
    },
    {
      "cell_type": "markdown",
      "source": [
        "Ejercicio 1: Escribe un programa para pedirle al usuario el número de\n",
        "horas y la tarifa por hora para calcular el salario bruto.\n",
        "\n",
        "Introduzca Horas: 35\n",
        "\n",
        "Introduzca Tarifa: 2.75\n",
        "\n",
        "Salario: 96.25\n"
      ],
      "metadata": {
        "id": "Xt6d3HkBs49u"
      }
    },
    {
      "cell_type": "code",
      "source": [],
      "metadata": {
        "id": "ivESnT2HP6rR"
      },
      "execution_count": null,
      "outputs": []
    },
    {
      "cell_type": "markdown",
      "source": [
        "\n",
        "Ejercicio 2: Reescribe el programa del cálculo del salario para darle al empleado 1.5 veces la tarifa horaria para todas las horas trabajadas que excedan de 40.\n",
        "\n",
        "Introduzca las Horas: 45\n",
        "\n",
        "Introduzca la Tarifa por hora: 10\n",
        "\n",
        "Salario: 475.0"
      ],
      "metadata": {
        "id": "4KNwMN2dRPvS"
      }
    },
    {
      "cell_type": "code",
      "source": [
        "tarifa =input(\"ingrese la tarifa (solo numeros): \")\n",
        "horas = input(\"ingrese la cantidad de horas trabajadas(solo numeros): \")\n",
        "try:\n",
        "  tarifa=float(tarifa)\n",
        "  horas=int(horas)\n",
        "  if horas>40:\n",
        "    extras=horas-40\n",
        "    salario= tarifa * 1.5 * extras + 40 * tarifa\n",
        "  else:\n",
        "    salario= tarifa * horas\n",
        "  print(\"el salario seria: \",salario,\"$\")\n",
        "except:\n",
        "  print(\"hacelo bien mamerto\")\n"
      ],
      "metadata": {
        "colab": {
          "base_uri": "https://localhost:8080/"
        },
        "id": "S_D8ysfRRVLh",
        "outputId": "3d896ce9-7ae6-4ffe-e5c0-dd22396fd458"
      },
      "execution_count": null,
      "outputs": [
        {
          "output_type": "stream",
          "name": "stdout",
          "text": [
            "ingrese la tarifa (solo numeros): 2000\n",
            "ingrese la cantidad de horas trabajadas(solo numeros): 80\n",
            "el salario seria:  200000.0 $\n"
          ]
        }
      ]
    },
    {
      "cell_type": "markdown",
      "source": [
        "Ejercicio 3: Reescribe el programa del salario usando try y except, de modo que el programa sea capaz de gestionar entradas no numéricas con elegancia, mostrando un mensaje y saliendo del programa. A continuación se muestran dos ejecuciones del programa:\n",
        "\n",
        "Introduzca las Horas: 20\n",
        "\n",
        "Introduzca la Tarifa por hora: nueve\n",
        "\n",
        "Error, por favor introduzca un número\n",
        "\n",
        "Introduzca las Horas: cuarenta\n",
        "\n",
        "Error, por favor introduzca un número"
      ],
      "metadata": {
        "id": "-Ww5kmDOIrpd"
      }
    },
    {
      "cell_type": "markdown",
      "source": [
        "###Ejercicio 3: Escribe un programa que solicite una puntuación entre 0.0 y 1.0. Si la puntuación está fuera de ese rango, muestra un mensaje de error. Si la puntuación está entre 0.0 y 1.0, muestra la calificación usando la tabla siguiente:\n",
        "\n",
        "Puntuación Calificación\n",
        "\n",
        "\\>= 0.9 Sobresaliente\n",
        "\n",
        "\\>= 0.8 Notable\n",
        "\n",
        "\\>= 0.7 Bien\n",
        "\n",
        "\\>= 0.6 Suficiente\n",
        "\n",
        "\\< 0.6 Insuficiente\n",
        "\n",
        "Introduzca puntuación: 0.95\n",
        "Sobresaliente\n",
        "\n",
        "Introduzca puntuación: perfecto\n",
        "Puntuación incorrecta\n",
        "\n",
        "Introduzca puntuación: 10.0\n",
        "Puntuación incorrecta\n",
        "\n",
        "Introduzca puntuación: 0.75\n",
        "Bien\n",
        "\n",
        "Introduzca puntuación: 0.5\n",
        "Insuficiente\n",
        "\n",
        "Ejecuta el programa repetidamente, como se muestra arriba, para probar con varios valores de entrada diferentes."
      ],
      "metadata": {
        "id": "X-WiTuO6HszE"
      }
    },
    {
      "cell_type": "code",
      "source": [],
      "metadata": {
        "id": "H8xouEavIXCS"
      },
      "execution_count": null,
      "outputs": []
    }
  ]
}