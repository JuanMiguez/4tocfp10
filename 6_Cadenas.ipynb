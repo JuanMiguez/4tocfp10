{
  "nbformat": 4,
  "nbformat_minor": 0,
  "metadata": {
    "colab": {
      "provenance": [],
      "authorship_tag": "ABX9TyNfrulPBghCFZv/w8PMYRYH",
      "include_colab_link": true
    },
    "kernelspec": {
      "name": "python3",
      "display_name": "Python 3"
    },
    "language_info": {
      "name": "python"
    }
  },
  "cells": [
    {
      "cell_type": "markdown",
      "metadata": {
        "id": "view-in-github",
        "colab_type": "text"
      },
      "source": [
        "<a href=\"https://colab.research.google.com/github/JuanMiguez/4tocfp10/blob/main/6_Cadenas.ipynb\" target=\"_parent\"><img src=\"https://colab.research.google.com/assets/colab-badge.svg\" alt=\"Open In Colab\"/></a>"
      ]
    },
    {
      "cell_type": "markdown",
      "source": [
        "# Cadenas"
      ],
      "metadata": {
        "id": "WiTD2WCaoRep"
      }
    },
    {
      "cell_type": "markdown",
      "source": [
        "###Una cadena es una secuencia"
      ],
      "metadata": {
        "id": "N_qr2XZfoTBy"
      }
    },
    {
      "cell_type": "markdown",
      "source": [
        "Una cadena es una secuencia de caracteres. Puedes acceder a los caracteres de uno\n",
        "en uno con el operador corchete:"
      ],
      "metadata": {
        "id": "aBQLlSwCoc0O"
      }
    },
    {
      "cell_type": "code",
      "execution_count": null,
      "metadata": {
        "id": "mKUrbzcyoFTj"
      },
      "outputs": [],
      "source": [
        "fruta = 'banana'\n",
        "letra = fruta[1]"
      ]
    },
    {
      "cell_type": "markdown",
      "source": [
        "La segunda sentencia extrae el carácter en la posición del indice 1 de la variable fruta y la asigna a la variable letra.\n",
        "\n",
        "La expresión en los corchetes es llamada índice. El índice indica qué carácter de la secuencia quieres (de ahí el nombre).\n",
        "\n",
        "Pero podrías no obtener lo que esperas:"
      ],
      "metadata": {
        "id": "FrAsBNWEoua7"
      }
    },
    {
      "cell_type": "code",
      "source": [
        "letra"
      ],
      "metadata": {
        "colab": {
          "base_uri": "https://localhost:8080/",
          "height": 36
        },
        "id": "D_HgZY16ojde",
        "outputId": "8f35ee4d-d422-41a3-c94e-17b589ebf547"
      },
      "execution_count": null,
      "outputs": [
        {
          "output_type": "execute_result",
          "data": {
            "text/plain": [
              "'banan'"
            ],
            "application/vnd.google.colaboratory.intrinsic+json": {
              "type": "string"
            }
          },
          "metadata": {},
          "execution_count": 4
        }
      ]
    },
    {
      "cell_type": "markdown",
      "source": [
        "Para la mayoría de las personas, la primer letra de “banana” es “b”, no “a”. Pero\n",
        "en Python, el índice es un desfase desde el inicio de la cadena, y el desfase de la\n",
        "primera letra es cero."
      ],
      "metadata": {
        "id": "OGhdJQorsoy1"
      }
    },
    {
      "cell_type": "code",
      "source": [
        "letra = fruta[0]\n",
        "print(letra)"
      ],
      "metadata": {
        "colab": {
          "base_uri": "https://localhost:8080/"
        },
        "id": "WcXmwoCHsG-L",
        "outputId": "14265b5e-dcfa-4c6b-8fc9-7291c46bae7e"
      },
      "execution_count": null,
      "outputs": [
        {
          "output_type": "stream",
          "name": "stdout",
          "text": [
            "b\n"
          ]
        }
      ]
    },
    {
      "cell_type": "markdown",
      "source": [
        "Así que “b” es la letra 0 (“cero”) de “banana”, “a” es la letra con índice 1, y “n”\n",
        "es la que tiene índice 2, etc."
      ],
      "metadata": {
        "id": "CgVXS-WItEh4"
      }
    },
    {
      "cell_type": "markdown",
      "source": [
        "Puedes usar cualquier expresión, incluyendo variables y operadores, como un índice,\n",
        "pero el valor del índice tiene que ser un entero. De otro modo obtendrás:"
      ],
      "metadata": {
        "id": "yvMgijL2tIgx"
      }
    },
    {
      "cell_type": "code",
      "source": [
        "letra = fruta[1.5]"
      ],
      "metadata": {
        "colab": {
          "base_uri": "https://localhost:8080/",
          "height": 179
        },
        "id": "7K7IYBa6swhm",
        "outputId": "1fec4a2e-fdd1-43c6-e9ae-06ce93cb4bbf"
      },
      "execution_count": null,
      "outputs": [
        {
          "output_type": "error",
          "ename": "TypeError",
          "evalue": "ignored",
          "traceback": [
            "\u001b[0;31m---------------------------------------------------------------------------\u001b[0m",
            "\u001b[0;31mTypeError\u001b[0m                                 Traceback (most recent call last)",
            "\u001b[0;32m<ipython-input-17-a11f8bbea000>\u001b[0m in \u001b[0;36m<cell line: 1>\u001b[0;34m()\u001b[0m\n\u001b[0;32m----> 1\u001b[0;31m \u001b[0mletra\u001b[0m \u001b[0;34m=\u001b[0m \u001b[0mfruta\u001b[0m\u001b[0;34m[\u001b[0m\u001b[0;36m1.5\u001b[0m\u001b[0;34m]\u001b[0m\u001b[0;34m\u001b[0m\u001b[0;34m\u001b[0m\u001b[0m\n\u001b[0m",
            "\u001b[0;31mTypeError\u001b[0m: string indices must be integers"
          ]
        }
      ]
    },
    {
      "cell_type": "markdown",
      "source": [
        "![image.png](data:image/png;base64,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)"
      ],
      "metadata": {
        "id": "vokTifzbt_z7"
      }
    },
    {
      "cell_type": "markdown",
      "source": [
        "## Obtener el tamaño de una cadena usando len()"
      ],
      "metadata": {
        "id": "Y44Dc-cGuFR-"
      }
    },
    {
      "cell_type": "markdown",
      "source": [
        "len es una función nativa que devuelve el número de caracteres en una cadena:"
      ],
      "metadata": {
        "id": "NXQcefheuUm0"
      }
    },
    {
      "cell_type": "code",
      "source": [
        "fruta = 'Banana'\n",
        "len(fruta)"
      ],
      "metadata": {
        "colab": {
          "base_uri": "https://localhost:8080/"
        },
        "id": "GdF5LrNTtRCi",
        "outputId": "8156884d-85b2-427f-aee0-5dd8db504b9f"
      },
      "execution_count": null,
      "outputs": [
        {
          "output_type": "execute_result",
          "data": {
            "text/plain": [
              "6"
            ]
          },
          "metadata": {},
          "execution_count": 20
        }
      ]
    },
    {
      "cell_type": "markdown",
      "source": [
        "Para obtener la última letra de una cadena, podrías estar tentado a probar algo\n",
        "como esto:"
      ],
      "metadata": {
        "id": "HK-0QkgdunEn"
      }
    },
    {
      "cell_type": "code",
      "source": [
        "tamaño = len(fruta)\n",
        "ultima = fruta[tamaño]"
      ],
      "metadata": {
        "colab": {
          "base_uri": "https://localhost:8080/",
          "height": 197
        },
        "id": "TSaD4rlyuemg",
        "outputId": "c6298f07-4c68-43a3-be1a-586388094841"
      },
      "execution_count": null,
      "outputs": [
        {
          "output_type": "error",
          "ename": "IndexError",
          "evalue": "ignored",
          "traceback": [
            "\u001b[0;31m---------------------------------------------------------------------------\u001b[0m",
            "\u001b[0;31mIndexError\u001b[0m                                Traceback (most recent call last)",
            "\u001b[0;32m<ipython-input-8-a5c6e5a0bbce>\u001b[0m in \u001b[0;36m<cell line: 2>\u001b[0;34m()\u001b[0m\n\u001b[1;32m      1\u001b[0m \u001b[0mtamaño\u001b[0m \u001b[0;34m=\u001b[0m \u001b[0mlen\u001b[0m\u001b[0;34m(\u001b[0m\u001b[0mfruta\u001b[0m\u001b[0;34m)\u001b[0m\u001b[0;34m\u001b[0m\u001b[0;34m\u001b[0m\u001b[0m\n\u001b[0;32m----> 2\u001b[0;31m \u001b[0multima\u001b[0m \u001b[0;34m=\u001b[0m \u001b[0mfruta\u001b[0m\u001b[0;34m[\u001b[0m\u001b[0mtamaño\u001b[0m\u001b[0;34m]\u001b[0m\u001b[0;34m\u001b[0m\u001b[0;34m\u001b[0m\u001b[0m\n\u001b[0m",
            "\u001b[0;31mIndexError\u001b[0m: string index out of range"
          ]
        }
      ]
    },
    {
      "cell_type": "markdown",
      "source": [
        "La razón de que haya un IndexError es que ahí no hay ninguna letra en “banana”\n",
        "con el índice 6. Puesto que empezamos a contar desde cero, las seis letras están\n",
        "enumeradas desde 0 hasta 5. Para obtener el último carácter, tienes que restar 1\n",
        "a length:"
      ],
      "metadata": {
        "id": "aX1pAXdqvvbe"
      }
    },
    {
      "cell_type": "code",
      "source": [
        "ultima = fruta[tamaño-1]\n",
        "print(ultima)"
      ],
      "metadata": {
        "colab": {
          "base_uri": "https://localhost:8080/"
        },
        "id": "h3fj0ESovUjf",
        "outputId": "0201a045-8138-4397-8bd5-f315ed91ba71"
      },
      "execution_count": null,
      "outputs": [
        {
          "output_type": "stream",
          "name": "stdout",
          "text": [
            "a\n"
          ]
        }
      ]
    },
    {
      "cell_type": "markdown",
      "source": [
        "Alternativamente, puedes usar índices negativos, los cuales cuentan hacia atrás\n",
        "desde el final de la cadena. La expresión fruta[-1] devuelve la última letra,\n",
        "fruta[-2] la penúltima letra, y así sucesivamente."
      ],
      "metadata": {
        "id": "MxF_iVFpwB9L"
      }
    },
    {
      "cell_type": "markdown",
      "source": [
        "### Recorriendo una cadena mediante un bucle"
      ],
      "metadata": {
        "id": "xuzgJZsuwOwR"
      }
    },
    {
      "cell_type": "markdown",
      "source": [
        "Muchos de los cálculos requieren procesar una cadena carácter por carácter. Frecuentemente\n",
        "empiezan desde el inicio, seleccionando cada carácter presente, haciendo\n",
        "algo con él, y continuando hasta el final. Este patrón de procesamiento es\n",
        "llamado un recorrido. Una manera de escribir un recorrido es con un bucle while:"
      ],
      "metadata": {
        "id": "XP3JyfSOwXTa"
      }
    },
    {
      "cell_type": "code",
      "source": [
        "fruta='Neuquen'"
      ],
      "metadata": {
        "id": "3_zpxj5XxTq0"
      },
      "execution_count": null,
      "outputs": []
    },
    {
      "cell_type": "code",
      "source": [
        "indice = 0\n",
        "while indice < len(fruta):\n",
        "  letra = fruta[indice]\n",
        "  print(letra)\n",
        "  indice = indice + 1\n"
      ],
      "metadata": {
        "colab": {
          "base_uri": "https://localhost:8080/"
        },
        "id": "Tgr9RF3VwYJY",
        "outputId": "606f9e59-7d64-4a6e-ef57-d1b62145e6d5"
      },
      "execution_count": null,
      "outputs": [
        {
          "output_type": "stream",
          "name": "stdout",
          "text": [
            "M\n",
            "a\n",
            "n\n",
            "z\n",
            "a\n",
            "n\n",
            "a\n"
          ]
        }
      ]
    },
    {
      "cell_type": "markdown",
      "source": [
        "Este bucle recorre la cadena e imprime cada letra en una línea cada una. La\n",
        "condición del bucle es indice < len(fruta), así que cuando indice es igual al\n",
        "tamaño de la cadena, la condición es falsa, y el código del bucle no se ejecuta. El\n",
        "último carácter accedido es el que tiene el índice len(fruta)-1, el cual es el último\n",
        "carácter en la cadena."
      ],
      "metadata": {
        "id": "xj_GyGFCyHwc"
      }
    },
    {
      "cell_type": "markdown",
      "source": [
        "Ejercicio 1: Escribe un bucle while que comience con el último carácter\n",
        "en la cadena y haga un recorrido hacia atrás hasta el primer carácter\n",
        "en la cadena, imprimiendo cada letra en una línea independiente."
      ],
      "metadata": {
        "id": "xcqwHQZoyS5z"
      }
    },
    {
      "cell_type": "code",
      "source": [
        "indice =len(fruta)\n",
        "while indice > 0:\n",
        "  letra = fruta[indice-1]\n",
        "  print(letra)\n",
        "  indice = indice - 1"
      ],
      "metadata": {
        "colab": {
          "base_uri": "https://localhost:8080/"
        },
        "id": "wJIA7JA7x3-Q",
        "outputId": "382a5629-20b6-4efc-8978-aee23d41e102"
      },
      "execution_count": null,
      "outputs": [
        {
          "output_type": "stream",
          "name": "stdout",
          "text": [
            "n\n",
            "e\n",
            "u\n",
            "q\n",
            "u\n",
            "e\n",
            "N\n"
          ]
        }
      ]
    },
    {
      "cell_type": "markdown",
      "source": [
        "Otra forma de escribir un recorrido es con un bucle for:"
      ],
      "metadata": {
        "id": "7OSHUy8JzJ3S"
      }
    },
    {
      "cell_type": "code",
      "source": [
        "for caracter in fruta:\n",
        "  print(caracter)"
      ],
      "metadata": {
        "colab": {
          "base_uri": "https://localhost:8080/"
        },
        "id": "zmG8VrDxzLj3",
        "outputId": "7af5eb27-d224-4bd4-8dc8-4f89ad73e8f5"
      },
      "execution_count": null,
      "outputs": [
        {
          "output_type": "stream",
          "name": "stdout",
          "text": [
            "N\n",
            "e\n",
            "u\n",
            "q\n",
            "u\n",
            "e\n",
            "n\n"
          ]
        }
      ]
    },
    {
      "cell_type": "markdown",
      "source": [
        "Cada vez que iteramos el bucle, el siguiente carácter en la cadena es asignado a la\n",
        "variable caracter. El ciclo continúa hasta que no quedan caracteres."
      ],
      "metadata": {
        "id": "nVczN613zSV2"
      }
    },
    {
      "cell_type": "markdown",
      "source": [
        "### Rebanado de una cadena"
      ],
      "metadata": {
        "id": "BXucPBPKzzoh"
      }
    },
    {
      "cell_type": "markdown",
      "source": [
        "Un segmento de una cadena es llamado rebanado. Seleccionar un rebanado es\n",
        "similar a seleccionar un carácter:"
      ],
      "metadata": {
        "id": "0Tw4G6sFz3B9"
      }
    },
    {
      "cell_type": "code",
      "source": [
        "s = 'Monty Python'\n",
        "print(s[0:5])"
      ],
      "metadata": {
        "colab": {
          "base_uri": "https://localhost:8080/"
        },
        "id": "4IqvIeNdzTSm",
        "outputId": "bd1d2702-ed33-46c7-fa8b-a225443eb733"
      },
      "execution_count": null,
      "outputs": [
        {
          "output_type": "stream",
          "name": "stdout",
          "text": [
            "Monty\n"
          ]
        }
      ]
    },
    {
      "cell_type": "code",
      "source": [
        "print(s[6:12])"
      ],
      "metadata": {
        "colab": {
          "base_uri": "https://localhost:8080/"
        },
        "id": "gRvy_JpQz_hY",
        "outputId": "fa0a1754-1de7-4a17-c9d9-96e5d089e27e"
      },
      "execution_count": null,
      "outputs": [
        {
          "output_type": "stream",
          "name": "stdout",
          "text": [
            "Python\n"
          ]
        }
      ]
    },
    {
      "cell_type": "markdown",
      "source": [
        "El operador [n:m] retorna la parte de la cadena desde el “n-ésimo” carácter hasta\n",
        "el “m-ésimo” carácter, incluyendo el primero pero excluyendo el último."
      ],
      "metadata": {
        "id": "hHYWM37E7xUK"
      }
    },
    {
      "cell_type": "markdown",
      "source": [
        "Si omites el primer índice (antes de los dos puntos), el rebanado comienza desde\n",
        "el inicio de la cadena. Si omites el segundo índice, el rebanado va hasta el final de\n",
        "la cadena:"
      ],
      "metadata": {
        "id": "5KNJWxKm9Avj"
      }
    },
    {
      "cell_type": "code",
      "source": [
        "fruta = 'banana'\n",
        "fruta[:3]"
      ],
      "metadata": {
        "colab": {
          "base_uri": "https://localhost:8080/",
          "height": 36
        },
        "id": "5A9gh-tq0CAS",
        "outputId": "76487e1a-8c66-433d-fbfe-1f49139accee"
      },
      "execution_count": null,
      "outputs": [
        {
          "output_type": "execute_result",
          "data": {
            "text/plain": [
              "'ban'"
            ],
            "application/vnd.google.colaboratory.intrinsic+json": {
              "type": "string"
            }
          },
          "metadata": {},
          "execution_count": 52
        }
      ]
    },
    {
      "cell_type": "code",
      "source": [
        "fruta[3:]"
      ],
      "metadata": {
        "colab": {
          "base_uri": "https://localhost:8080/",
          "height": 36
        },
        "id": "Q4twxIYh9JbU",
        "outputId": "ee7644bf-0020-4bb7-e0fe-8955476229b8"
      },
      "execution_count": null,
      "outputs": [
        {
          "output_type": "execute_result",
          "data": {
            "text/plain": [
              "'ana'"
            ],
            "application/vnd.google.colaboratory.intrinsic+json": {
              "type": "string"
            }
          },
          "metadata": {},
          "execution_count": 53
        }
      ]
    },
    {
      "cell_type": "markdown",
      "source": [
        "Si el primer índice es mayor que o igual que el segundo, el resultado es una cadena\n",
        "vacía, representado por dos comillas:"
      ],
      "metadata": {
        "id": "-v9sDnJI9UJp"
      }
    },
    {
      "cell_type": "code",
      "source": [
        "fruta = 'banana'\n",
        "fruta[3:3]"
      ],
      "metadata": {
        "colab": {
          "base_uri": "https://localhost:8080/",
          "height": 36
        },
        "id": "zhrjgd4i9LWg",
        "outputId": "4656769b-3e33-4042-d325-c465309db0f7"
      },
      "execution_count": null,
      "outputs": [
        {
          "output_type": "execute_result",
          "data": {
            "text/plain": [
              "''"
            ],
            "application/vnd.google.colaboratory.intrinsic+json": {
              "type": "string"
            }
          },
          "metadata": {},
          "execution_count": 54
        }
      ]
    },
    {
      "cell_type": "markdown",
      "source": [
        "Una cadena vacía no contiene caracteres y tiene un tamaño de 0, pero fuera de\n",
        "esto es lo mismo que cualquier otra cadena."
      ],
      "metadata": {
        "id": "Zx1Mt8Ye9hNO"
      }
    },
    {
      "cell_type": "markdown",
      "source": [
        "Ejercicio 2: Dado que fruta es una cadena, ¿que significa fruta[:]?"
      ],
      "metadata": {
        "id": "xNafqaeO9lGt"
      }
    },
    {
      "cell_type": "code",
      "source": [
        "fruta[:]"
      ],
      "metadata": {
        "colab": {
          "base_uri": "https://localhost:8080/",
          "height": 36
        },
        "id": "zR8V7nHH9aLW",
        "outputId": "3d7b4e5e-6ef1-4367-82ab-0c329ec21237"
      },
      "execution_count": null,
      "outputs": [
        {
          "output_type": "execute_result",
          "data": {
            "text/plain": [
              "'banana'"
            ],
            "application/vnd.google.colaboratory.intrinsic+json": {
              "type": "string"
            }
          },
          "metadata": {},
          "execution_count": 56
        }
      ]
    },
    {
      "cell_type": "markdown",
      "source": [
        "### Los cadenas son inmutables"
      ],
      "metadata": {
        "id": "-zlXMphQ9zso"
      }
    },
    {
      "cell_type": "markdown",
      "source": [
        "Puede ser tentador utilizar el operador [] en el lado izquierdo de una asignación,\n",
        "con la intención de cambiar un carácter en una cadena. Por ejemplo:"
      ],
      "metadata": {
        "id": "kLkCrqre94Nt"
      }
    },
    {
      "cell_type": "code",
      "source": [
        "saludo = 'Hola, mundo!'\n",
        "saludo[0] = 'J'"
      ],
      "metadata": {
        "colab": {
          "base_uri": "https://localhost:8080/",
          "height": 197
        },
        "id": "tkMoIrpI9f00",
        "outputId": "d95b1ebd-e05c-4993-da00-186876e0f296"
      },
      "execution_count": null,
      "outputs": [
        {
          "output_type": "error",
          "ename": "TypeError",
          "evalue": "ignored",
          "traceback": [
            "\u001b[0;31m---------------------------------------------------------------------------\u001b[0m",
            "\u001b[0;31mTypeError\u001b[0m                                 Traceback (most recent call last)",
            "\u001b[0;32m<ipython-input-27-ebc669b560ca>\u001b[0m in \u001b[0;36m<cell line: 2>\u001b[0;34m()\u001b[0m\n\u001b[1;32m      1\u001b[0m \u001b[0msaludo\u001b[0m \u001b[0;34m=\u001b[0m \u001b[0;34m'Hola, mundo!'\u001b[0m\u001b[0;34m\u001b[0m\u001b[0;34m\u001b[0m\u001b[0m\n\u001b[0;32m----> 2\u001b[0;31m \u001b[0msaludo\u001b[0m\u001b[0;34m[\u001b[0m\u001b[0;36m0\u001b[0m\u001b[0;34m]\u001b[0m \u001b[0;34m=\u001b[0m \u001b[0;34m'J'\u001b[0m\u001b[0;34m\u001b[0m\u001b[0;34m\u001b[0m\u001b[0m\n\u001b[0m",
            "\u001b[0;31mTypeError\u001b[0m: 'str' object does not support item assignment"
          ]
        }
      ]
    },
    {
      "cell_type": "markdown",
      "source": [
        "El “objeto” en este caso es la cadena y el “ítem” es el carácter que tratamos de\n",
        "asignar. Por ahora, un objeto es la misma cosa que un valor, pero vamos a redefinir\n",
        "esa definición después. Un ítem es uno de los valores en una secuencia."
      ],
      "metadata": {
        "id": "UzTtFGyO-Kqo"
      }
    },
    {
      "cell_type": "markdown",
      "source": [
        "La razón por la cual ocurre el error es que las cadenas son inmutables, lo cual\n",
        "significa que no puedes modificar una cadena existente. Lo mejor que puedes\n",
        "hacer es crear una nueva cadena que sea una variación de la original:"
      ],
      "metadata": {
        "id": "DRV73Tns-YR2"
      }
    },
    {
      "cell_type": "code",
      "source": [
        "saludo = 'Hola, mundo!'\n",
        "nuevo_saludo = 'J' + saludo[2:]\n",
        "print(nuevo_saludo)"
      ],
      "metadata": {
        "colab": {
          "base_uri": "https://localhost:8080/"
        },
        "id": "psNdx8_a-LO3",
        "outputId": "c2d64761-139f-4022-8f56-95b21b87e1ff"
      },
      "execution_count": null,
      "outputs": [
        {
          "output_type": "stream",
          "name": "stdout",
          "text": [
            "Jla, mundo!\n"
          ]
        }
      ]
    },
    {
      "cell_type": "markdown",
      "source": [
        "Este ejemplo concatena una nueva letra a una parte de saludo. Esto no tiene\n",
        "efecto sobre la cadena original."
      ],
      "metadata": {
        "id": "Q9GAacqb-6T7"
      }
    },
    {
      "cell_type": "markdown",
      "source": [
        "###Iterando y contando"
      ],
      "metadata": {
        "id": "7xVLIItQ_A8v"
      }
    },
    {
      "cell_type": "markdown",
      "source": [
        "El siguiente programa cuenta el número de veces que la letra “a” aparece en una\n",
        "cadena:"
      ],
      "metadata": {
        "id": "9DO5xL8A_Eas"
      }
    },
    {
      "cell_type": "code",
      "source": [
        "\n",
        "palabra = 'banana'\n",
        "contador = 0\n",
        "for letra in palabra:\n",
        "  if letra == 'a':\n",
        "    contador = contador + 1\n",
        "print(contador)\n"
      ],
      "metadata": {
        "colab": {
          "base_uri": "https://localhost:8080/"
        },
        "id": "sk6T3NNG-zUf",
        "outputId": "55102a7a-5cd8-4fb9-e0b8-b72ebe53ebf1"
      },
      "execution_count": null,
      "outputs": [
        {
          "output_type": "stream",
          "name": "stdout",
          "text": [
            "3\n"
          ]
        }
      ]
    },
    {
      "cell_type": "markdown",
      "source": [
        "Este programa demuestra otro patrón de computación llamado contador. La variable\n",
        "contador es inicializada a 0 y después se incrementa cada vez que una “a” es\n",
        "encontrada. Cuando el bucle termina, contador contiene el resultado: el número\n",
        "total de a’s."
      ],
      "metadata": {
        "id": "4mckh-i4_pRK"
      }
    },
    {
      "cell_type": "markdown",
      "source": [
        "Ejercicio 3: Encapsula este código en una función llamada cuenta, y\n",
        "hazla genérica de tal modo que pueda aceptar una cadena y una letra\n",
        "como argumentos."
      ],
      "metadata": {
        "id": "xjAjUKmQA085"
      }
    },
    {
      "cell_type": "code",
      "source": [
        "def cuenta(cadena,letra):\n",
        "  contador = 0\n",
        "  for i in cadena:\n",
        "    if i == letra:\n",
        "      contador = contador + 1\n",
        "  return contador"
      ],
      "metadata": {
        "id": "J_weyiCR_p-y"
      },
      "execution_count": null,
      "outputs": []
    },
    {
      "cell_type": "code",
      "source": [
        "cuenta(\"perro\",\"r\")"
      ],
      "metadata": {
        "colab": {
          "base_uri": "https://localhost:8080/"
        },
        "id": "63VD3HCfL8r_",
        "outputId": "ed7dba6b-37a0-4afc-a532-365706303983"
      },
      "execution_count": null,
      "outputs": [
        {
          "output_type": "execute_result",
          "data": {
            "text/plain": [
              "2"
            ]
          },
          "metadata": {},
          "execution_count": 23
        }
      ]
    },
    {
      "cell_type": "code",
      "source": [],
      "metadata": {
        "id": "xZxtU6C1MA6R"
      },
      "execution_count": null,
      "outputs": []
    },
    {
      "cell_type": "markdown",
      "source": [
        "##El operador **in**"
      ],
      "metadata": {
        "id": "xMkaT_yyRAbc"
      }
    },
    {
      "cell_type": "markdown",
      "source": [
        "La palabra in es un operador booleano que toma dos cadenas y regresa True si la\n",
        "primera cadena aparece como una subcadena de la segunda:"
      ],
      "metadata": {
        "id": "ADbyrqiSRHN7"
      }
    },
    {
      "cell_type": "code",
      "source": [
        "'a' in 'banana'"
      ],
      "metadata": {
        "colab": {
          "base_uri": "https://localhost:8080/"
        },
        "id": "ir1JuHGvRGeO",
        "outputId": "a6327bcc-acc8-4582-8125-6848276b0f45"
      },
      "execution_count": null,
      "outputs": [
        {
          "output_type": "execute_result",
          "data": {
            "text/plain": [
              "True"
            ]
          },
          "metadata": {},
          "execution_count": 24
        }
      ]
    },
    {
      "cell_type": "code",
      "source": [
        "'semilla' in 'banana'"
      ],
      "metadata": {
        "colab": {
          "base_uri": "https://localhost:8080/"
        },
        "id": "Aa4Ud3WWRNBA",
        "outputId": "739d3c0d-ac52-40ee-c67e-b1f0a51492eb"
      },
      "execution_count": null,
      "outputs": [
        {
          "output_type": "execute_result",
          "data": {
            "text/plain": [
              "False"
            ]
          },
          "metadata": {},
          "execution_count": 27
        }
      ]
    },
    {
      "cell_type": "markdown",
      "source": [
        "##Comparación de cadenas\n"
      ],
      "metadata": {
        "id": "xJ98VFYoR0Le"
      }
    },
    {
      "cell_type": "markdown",
      "source": [
        "Los operadores de comparación funcionan en cadenas. Para ver si dos cadenas son\n",
        "iguales:"
      ],
      "metadata": {
        "id": "73znemMpR5gq"
      }
    },
    {
      "cell_type": "code",
      "source": [
        "palabra = \"Pera\""
      ],
      "metadata": {
        "id": "L6qxp790SBqR"
      },
      "execution_count": null,
      "outputs": []
    },
    {
      "cell_type": "code",
      "source": [
        "if palabra == 'banana':\n",
        "  print('Muy bien, bananas.')"
      ],
      "metadata": {
        "colab": {
          "base_uri": "https://localhost:8080/"
        },
        "id": "6WpVR2yfRPOV",
        "outputId": "013cf7c7-1462-4dbf-a470-aaa4747795fa"
      },
      "execution_count": null,
      "outputs": [
        {
          "output_type": "stream",
          "name": "stdout",
          "text": [
            "Muy bien, bananas.\n"
          ]
        }
      ]
    },
    {
      "cell_type": "markdown",
      "source": [
        "Otras operaciones de comparación son útiles para poner palabras en orden alfabético:"
      ],
      "metadata": {
        "id": "tupVZJhWSM-p"
      }
    },
    {
      "cell_type": "code",
      "source": [
        "if palabra < 'banana':\n",
        "  print('Tu palabra, ' + palabra + ', está antes de banana.')\n",
        "elif palabra > 'banana':\n",
        "  print('Tu palabra, ' + palabra + ', está después de banana.')\n",
        "else:\n",
        "  print('Muy bien, bananas.')"
      ],
      "metadata": {
        "colab": {
          "base_uri": "https://localhost:8080/"
        },
        "id": "dy9d0MSmSNi2",
        "outputId": "56bc9923-8e3a-4ab5-de1c-acac9da9231b"
      },
      "execution_count": null,
      "outputs": [
        {
          "output_type": "stream",
          "name": "stdout",
          "text": [
            "Tu palabra, Pera, está antes de banana.\n"
          ]
        }
      ]
    },
    {
      "cell_type": "markdown",
      "source": [
        "Python no maneja letras mayúsculas y minúsculas de la misma forma que la gente\n",
        "lo hace. Todas las letras mayúsculas van antes que todas las letras minúsculas, por\n",
        "ejemplo:"
      ],
      "metadata": {
        "id": "wr8drnuNSsBZ"
      }
    },
    {
      "cell_type": "markdown",
      "source": [
        "Una forma común de manejar este problema es convertir cadenas a un formato\n",
        "estándar, como todas a minúsculas, antes de llevar a cabo la comparación. Ten\n",
        "en cuenta eso en caso de que tengas que defenderte contra un hombre armado con\n",
        "una Piña."
      ],
      "metadata": {
        "id": "Jgx57GMUTGHc"
      }
    },
    {
      "cell_type": "markdown",
      "source": [
        "##Métodos de cadenas"
      ],
      "metadata": {
        "id": "lBR3SGd-Thh7"
      }
    },
    {
      "cell_type": "markdown",
      "source": [
        "Los cadenas son un ejemplo de objetos en Python. Un objeto contiene tanto datos\n",
        "(el valor de la cadena misma) como métodos, los cuales son efectivamente funciones\n",
        "que están implementadas dentro del objeto y que están disponibles para cualquier\n",
        "instancia del objeto."
      ],
      "metadata": {
        "id": "SKD0GmqaTkuA"
      }
    },
    {
      "cell_type": "markdown",
      "source": [
        "Python tiene una función llamada dir la cual lista los métodos disponibles para\n",
        "un objeto. La función type muestra el tipo de un objeto y la función dir muestra\n",
        "los métodos disponibles."
      ],
      "metadata": {
        "id": "VP8I3i-9Tx6P"
      }
    },
    {
      "cell_type": "code",
      "source": [
        "cosa = 'Hola mundo'"
      ],
      "metadata": {
        "id": "qUaicCPaSszl"
      },
      "execution_count": null,
      "outputs": []
    },
    {
      "cell_type": "code",
      "source": [
        "type(cosa)"
      ],
      "metadata": {
        "colab": {
          "base_uri": "https://localhost:8080/"
        },
        "id": "n0pWtLyFT3N_",
        "outputId": "e011b2f9-6089-41e7-a35f-1cba27ad1e14"
      },
      "execution_count": null,
      "outputs": [
        {
          "output_type": "execute_result",
          "data": {
            "text/plain": [
              "str"
            ]
          },
          "metadata": {},
          "execution_count": 41
        }
      ]
    },
    {
      "cell_type": "code",
      "source": [
        "dir(cosa)"
      ],
      "metadata": {
        "colab": {
          "base_uri": "https://localhost:8080/"
        },
        "id": "T5FxRhTyT5S3",
        "outputId": "6335ebd2-0e2f-40de-b879-e82ab4458b51"
      },
      "execution_count": null,
      "outputs": [
        {
          "output_type": "execute_result",
          "data": {
            "text/plain": [
              "['__add__',\n",
              " '__class__',\n",
              " '__contains__',\n",
              " '__delattr__',\n",
              " '__dir__',\n",
              " '__doc__',\n",
              " '__eq__',\n",
              " '__format__',\n",
              " '__ge__',\n",
              " '__getattribute__',\n",
              " '__getitem__',\n",
              " '__getnewargs__',\n",
              " '__gt__',\n",
              " '__hash__',\n",
              " '__init__',\n",
              " '__init_subclass__',\n",
              " '__iter__',\n",
              " '__le__',\n",
              " '__len__',\n",
              " '__lt__',\n",
              " '__mod__',\n",
              " '__mul__',\n",
              " '__ne__',\n",
              " '__new__',\n",
              " '__reduce__',\n",
              " '__reduce_ex__',\n",
              " '__repr__',\n",
              " '__rmod__',\n",
              " '__rmul__',\n",
              " '__setattr__',\n",
              " '__sizeof__',\n",
              " '__str__',\n",
              " '__subclasshook__',\n",
              " 'capitalize',\n",
              " 'casefold',\n",
              " 'center',\n",
              " 'count',\n",
              " 'encode',\n",
              " 'endswith',\n",
              " 'expandtabs',\n",
              " 'find',\n",
              " 'format',\n",
              " 'format_map',\n",
              " 'index',\n",
              " 'isalnum',\n",
              " 'isalpha',\n",
              " 'isascii',\n",
              " 'isdecimal',\n",
              " 'isdigit',\n",
              " 'isidentifier',\n",
              " 'islower',\n",
              " 'isnumeric',\n",
              " 'isprintable',\n",
              " 'isspace',\n",
              " 'istitle',\n",
              " 'isupper',\n",
              " 'join',\n",
              " 'ljust',\n",
              " 'lower',\n",
              " 'lstrip',\n",
              " 'maketrans',\n",
              " 'partition',\n",
              " 'removeprefix',\n",
              " 'removesuffix',\n",
              " 'replace',\n",
              " 'rfind',\n",
              " 'rindex',\n",
              " 'rjust',\n",
              " 'rpartition',\n",
              " 'rsplit',\n",
              " 'rstrip',\n",
              " 'split',\n",
              " 'splitlines',\n",
              " 'startswith',\n",
              " 'strip',\n",
              " 'swapcase',\n",
              " 'title',\n",
              " 'translate',\n",
              " 'upper',\n",
              " 'zfill']"
            ]
          },
          "metadata": {},
          "execution_count": 42
        }
      ]
    },
    {
      "cell_type": "code",
      "source": [
        "help(str.capitalize)"
      ],
      "metadata": {
        "colab": {
          "base_uri": "https://localhost:8080/"
        },
        "id": "oBHMLqbqT8ci",
        "outputId": "927075bb-e054-4df7-b00f-f0a48a2f7804"
      },
      "execution_count": null,
      "outputs": [
        {
          "output_type": "stream",
          "name": "stdout",
          "text": [
            "Help on method_descriptor:\n",
            "\n",
            "capitalize(self, /)\n",
            "    Return a capitalized version of the string.\n",
            "    \n",
            "    More specifically, make the first character have upper case and the rest lower\n",
            "    case.\n",
            "\n"
          ]
        }
      ]
    },
    {
      "cell_type": "markdown",
      "source": [
        "Aunque la función dir lista los métodos y puedes usar la función help\n",
        "para obtener una breve documentación de un método, una mejor fuente\n",
        "de documentación para los métodos de cadenas se puede encontrar en\n",
        "[https://docs.python.org/library/stdtypes.html#string-methods.](https://docs.python.org/library/stdtypes.html#string-methods.)"
      ],
      "metadata": {
        "id": "IhtkRHNEUYXB"
      }
    },
    {
      "cell_type": "markdown",
      "source": [
        "Llamar a un método es similar a llamar una función (esta toma argumentos y\n",
        "devuelve un valor) pero la sintaxis es diferente. Llamamos a un método uniendo\n",
        "el nombre del método al de la variable, usando un punto como delimitador."
      ],
      "metadata": {
        "id": "2qrvfdaeUnoy"
      }
    },
    {
      "cell_type": "markdown",
      "source": [
        "Por ejemplo, el método upper toma una cadena y devuelve una nueva cadena con\n",
        "todas las letras en mayúscula:"
      ],
      "metadata": {
        "id": "pzMZfypfU6iy"
      }
    },
    {
      "cell_type": "markdown",
      "source": [
        "En vez de la sintaxis de función upper(word), éste utiliza la sintaxis de método\n",
        "word.upper()."
      ],
      "metadata": {
        "id": "9PgKlzy8U98e"
      }
    },
    {
      "cell_type": "code",
      "source": [
        "variable= 'banana'\n",
        "nueva_variable = variable.upper()\n",
        "\n",
        "print (nueva_variable)"
      ],
      "metadata": {
        "colab": {
          "base_uri": "https://localhost:8080/"
        },
        "id": "0kp8WC_BUJtb",
        "outputId": "26f305a2-8d29-4fea-9bd0-2ef3adbacd02"
      },
      "execution_count": null,
      "outputs": [
        {
          "output_type": "stream",
          "name": "stdout",
          "text": [
            "BANANA\n"
          ]
        }
      ]
    },
    {
      "cell_type": "markdown",
      "source": [
        "Esta forma de notación con punto especifica el nombre del método, upper, y el\n",
        "nombre de la cadena al que se le aplicará el método, variable. Los paréntesis vacíos\n",
        "indican que el método no toma argumentos."
      ],
      "metadata": {
        "id": "eU1vQyA2XjX3"
      }
    },
    {
      "cell_type": "markdown",
      "source": [
        "Una llamada a un método es conocida como una invocación; en este caso, diríamos\n",
        "que estamos invocando upper en variable."
      ],
      "metadata": {
        "id": "6KJ6kGw3Xxnh"
      }
    },
    {
      "cell_type": "markdown",
      "source": [
        "Por ejemplo, existe un método de cadena llamado find que busca la posición de\n",
        "una cadena dentro de otra:"
      ],
      "metadata": {
        "id": "aWtMaduzX4L0"
      }
    },
    {
      "cell_type": "code",
      "source": [
        "palabra = 'banana'\n",
        "indice = palabra.find('n')\n",
        "print(indice)"
      ],
      "metadata": {
        "colab": {
          "base_uri": "https://localhost:8080/"
        },
        "id": "ybH1n0krVydC",
        "outputId": "9efb13b3-e392-4bb7-86e7-733ba0181e03"
      },
      "execution_count": null,
      "outputs": [
        {
          "output_type": "stream",
          "name": "stdout",
          "text": [
            "2\n"
          ]
        }
      ]
    },
    {
      "cell_type": "markdown",
      "source": [
        "El método find puede encontrar subcadenas así como caracteres:"
      ],
      "metadata": {
        "id": "22F5eC-AY-Zw"
      }
    },
    {
      "cell_type": "code",
      "source": [
        "palabra.find('na')"
      ],
      "metadata": {
        "colab": {
          "base_uri": "https://localhost:8080/"
        },
        "id": "uuLnKjPmYHDJ",
        "outputId": "88752608-0285-434a-e342-124ae4445bd9"
      },
      "execution_count": null,
      "outputs": [
        {
          "output_type": "execute_result",
          "data": {
            "text/plain": [
              "2"
            ]
          },
          "metadata": {},
          "execution_count": 58
        }
      ]
    },
    {
      "cell_type": "markdown",
      "source": [
        "También puede tomar como un segundo argumento el índice desde donde debe\n",
        "empezar:"
      ],
      "metadata": {
        "id": "SLEwqSJ5ZDpV"
      }
    },
    {
      "cell_type": "code",
      "source": [
        "palabra.find('na', 3)"
      ],
      "metadata": {
        "colab": {
          "base_uri": "https://localhost:8080/"
        },
        "id": "zdOwo2anZB4x",
        "outputId": "245e442a-e00f-4971-9177-e6ce896612d4"
      },
      "execution_count": null,
      "outputs": [
        {
          "output_type": "execute_result",
          "data": {
            "text/plain": [
              "4"
            ]
          },
          "metadata": {},
          "execution_count": 59
        }
      ]
    },
    {
      "cell_type": "markdown",
      "source": [
        "Una tarea común es eliminar los espacios en blanco (espacios, tabs, o nuevas líneas)\n",
        "en el inicio y el final de una cadena usando el método strip:"
      ],
      "metadata": {
        "id": "sgbaURpzZIVq"
      }
    },
    {
      "cell_type": "code",
      "source": [
        "linea = ' Aquí vamos '\n",
        "linea.strip()"
      ],
      "metadata": {
        "colab": {
          "base_uri": "https://localhost:8080/",
          "height": 35
        },
        "id": "cAEayHRlZGBl",
        "outputId": "79c48017-ef8d-4c39-e255-ed1fdfb4b7a9"
      },
      "execution_count": null,
      "outputs": [
        {
          "output_type": "execute_result",
          "data": {
            "text/plain": [
              "'Aquí vamos'"
            ],
            "application/vnd.google.colaboratory.intrinsic+json": {
              "type": "string"
            }
          },
          "metadata": {},
          "execution_count": 60
        }
      ]
    },
    {
      "cell_type": "markdown",
      "source": [
        "Algunos métodos como startswith devuelven valores booleanos."
      ],
      "metadata": {
        "id": "Yu_dsHasZPmC"
      }
    },
    {
      "cell_type": "code",
      "source": [
        "linea = 'Que tengas un buen día'\n",
        "linea.startswith('Que')"
      ],
      "metadata": {
        "colab": {
          "base_uri": "https://localhost:8080/"
        },
        "id": "tK5L6JH1ZNlb",
        "outputId": "6f4e708b-8a7e-42eb-dc0c-ce9694390e07"
      },
      "execution_count": null,
      "outputs": [
        {
          "output_type": "execute_result",
          "data": {
            "text/plain": [
              "True"
            ]
          },
          "metadata": {},
          "execution_count": 62
        }
      ]
    },
    {
      "cell_type": "code",
      "source": [
        "linea.startswith('q')"
      ],
      "metadata": {
        "colab": {
          "base_uri": "https://localhost:8080/"
        },
        "id": "IXD1nUdWZRzh",
        "outputId": "8e245085-7ae8-4bb9-f440-4e7d12c15e73"
      },
      "execution_count": null,
      "outputs": [
        {
          "output_type": "execute_result",
          "data": {
            "text/plain": [
              "False"
            ]
          },
          "metadata": {},
          "execution_count": 63
        }
      ]
    },
    {
      "cell_type": "markdown",
      "source": [
        "Puedes notar que startswith requiere que el formato (mayúsculas y minúsculas)\n",
        "coincida, de modo que a veces tendremos que tomar la línea y cambiarla completamente\n",
        "a minúsculas antes de hacer la verificación, utilizando el método lower."
      ],
      "metadata": {
        "id": "JcFL4ZdxZ09G"
      }
    },
    {
      "cell_type": "code",
      "source": [
        "linea = 'Que tengas un buen día'\n",
        "linea.startswith('q')"
      ],
      "metadata": {
        "colab": {
          "base_uri": "https://localhost:8080/"
        },
        "id": "CgnIuYVmZZEm",
        "outputId": "5afb6437-4bf4-4a91-ad72-1dc262052a26"
      },
      "execution_count": null,
      "outputs": [
        {
          "output_type": "execute_result",
          "data": {
            "text/plain": [
              "False"
            ]
          },
          "metadata": {},
          "execution_count": 64
        }
      ]
    },
    {
      "cell_type": "code",
      "source": [
        "linea.lower()"
      ],
      "metadata": {
        "colab": {
          "base_uri": "https://localhost:8080/",
          "height": 35
        },
        "id": "kMkec1__Z59x",
        "outputId": "c53bd9d1-1807-45fd-c98e-4f805f3d6346"
      },
      "execution_count": null,
      "outputs": [
        {
          "output_type": "execute_result",
          "data": {
            "text/plain": [
              "'que tengas un buen día'"
            ],
            "application/vnd.google.colaboratory.intrinsic+json": {
              "type": "string"
            }
          },
          "metadata": {},
          "execution_count": 65
        }
      ]
    },
    {
      "cell_type": "code",
      "source": [
        "linea.lower().startswith('q')"
      ],
      "metadata": {
        "colab": {
          "base_uri": "https://localhost:8080/"
        },
        "id": "7WWGtGnMZ7pF",
        "outputId": "ee105cb5-f210-4e90-ba87-1cae730e5302"
      },
      "execution_count": null,
      "outputs": [
        {
          "output_type": "execute_result",
          "data": {
            "text/plain": [
              "True"
            ]
          },
          "metadata": {},
          "execution_count": 66
        }
      ]
    },
    {
      "cell_type": "markdown",
      "source": [
        "En el último ejemplo, el método lower es llamado y después usamos startswith\n",
        "para ver si la cadena resultante en minúsculas comienza con la letra “q”. Siempre\n",
        "y cuando seamos cuidadosos con el orden, podemos hacer múltiples llamadas a\n",
        "métodos en una sola expresión."
      ],
      "metadata": {
        "id": "zU1i6yW_aAWJ"
      }
    },
    {
      "cell_type": "markdown",
      "source": [
        "Ejercicio 4: Hay un método de cadenas llamado count que es similar a\n",
        "la función del ejercicio previo. Lee la documentación de este método\n",
        "en:\n",
        "https://docs.python.org/library/stdtypes.html#string-methods\n",
        "Escribe una invocación que cuenta el número de veces que una letra\n",
        "aparece en “banana”."
      ],
      "metadata": {
        "id": "kJdLnEeBaFEe"
      }
    },
    {
      "cell_type": "markdown",
      "source": [
        "##Analizando cadenas"
      ],
      "metadata": {
        "id": "mumLAqRraMTF"
      }
    },
    {
      "cell_type": "markdown",
      "source": [
        "Frecuentemente, queremos examinar una cadena para encontrar una subcadena.\n",
        "Por ejemplo, si se nos presentaran una seria de líneas con el siguiente formato:\n",
        "\n",
        "From stephen.marquard@uct.ac.za Sat Jan 5 09:14:16 2008\n",
        "\n",
        "y quisiéramos obtener únicamente la segunda parte de la dirección de correo (esto\n",
        "es, uct.ac.za) de cada línea, podemos hacer esto utilizando el método find y una\n",
        "parte de la cadena.\n",
        "\n",
        "Primero tenemos que encontrar la posición de la arroba en la cadena. Después,\n",
        "tenemos que encontrar la posición del primer espacio después de la arroba. Y\n",
        "después partiremos la cadena para extraer la porción de la cadena que estamos\n",
        "buscando."
      ],
      "metadata": {
        "id": "I7k_VQ_GaS_X"
      }
    },
    {
      "cell_type": "code",
      "source": [
        "dato = 'From stephen.marquard@uct.ac.za Sat Jan 5 09:14:16 2008'\n",
        "arrobapos = dato.find('@')\n",
        "print(arrobapos)"
      ],
      "metadata": {
        "colab": {
          "base_uri": "https://localhost:8080/"
        },
        "id": "4WM3r-z7Z9w2",
        "outputId": "c7dcdbcf-5033-4419-b7b7-8c3695986031"
      },
      "execution_count": null,
      "outputs": [
        {
          "output_type": "stream",
          "name": "stdout",
          "text": [
            "21\n"
          ]
        }
      ]
    },
    {
      "cell_type": "code",
      "source": [
        "espos = dato.find(' ',arrobapos)\n",
        "print(espos)"
      ],
      "metadata": {
        "colab": {
          "base_uri": "https://localhost:8080/"
        },
        "id": "4F8nJElYag5O",
        "outputId": "f5f61ab2-7989-4a36-82bf-92f9d1b67f32"
      },
      "execution_count": null,
      "outputs": [
        {
          "output_type": "stream",
          "name": "stdout",
          "text": [
            "31\n"
          ]
        }
      ]
    },
    {
      "cell_type": "code",
      "source": [
        "direccion = dato[arrobapos+1:espos]\n",
        "print(direccion)"
      ],
      "metadata": {
        "colab": {
          "base_uri": "https://localhost:8080/"
        },
        "id": "83-Z2J7HanmG",
        "outputId": "b4d2729c-a9f3-4410-83c1-262c7325df33"
      },
      "execution_count": null,
      "outputs": [
        {
          "output_type": "stream",
          "name": "stdout",
          "text": [
            "uct.ac.za\n"
          ]
        }
      ]
    },
    {
      "cell_type": "markdown",
      "source": [
        "Utilizamos una versión del método find que nos permite especificar la posición en\n",
        "la cadena desde donde queremos que find comience a buscar. Cuando recortamos\n",
        "una parte de una cadena, extraemos los caracteres desde “uno después de la arroba\n",
        "hasta, pero no incluyendo, el carácter de espacio”."
      ],
      "metadata": {
        "id": "sCVrUHcybDxL"
      }
    },
    {
      "cell_type": "markdown",
      "source": [
        "La documentación del método find está disponible en\n",
        "https://docs.python.org/library/stdtypes.html#string-methods."
      ],
      "metadata": {
        "id": "wEnPIdpbbGbO"
      }
    },
    {
      "cell_type": "markdown",
      "source": [
        "##El operador de formato"
      ],
      "metadata": {
        "id": "ukZf7hNXbKPz"
      }
    },
    {
      "cell_type": "markdown",
      "source": [
        "El operador de formato % nos permite construir cadenas, reemplazando partes de\n",
        "las cadenas con datos almacenados en variables. Cuando lo aplicamos a enteros, %\n",
        "es el operador módulo. Pero cuando es aplicado a una cadena, % es el operador de\n",
        "formato."
      ],
      "metadata": {
        "id": "f7UizcVNjFdx"
      }
    },
    {
      "cell_type": "markdown",
      "source": [
        "El primer operando es la cadena a formatear, la cual contiene una o más secuencias\n",
        "de formato que especifican cómo el segundo operando es formateado. El resultado\n",
        "es una cadena."
      ],
      "metadata": {
        "id": "GOy9f6NljInD"
      }
    },
    {
      "cell_type": "markdown",
      "source": [
        "Por ejemplo, la secuencia de formato %d significa que el segundo operando debería\n",
        "ser formateado como un entero (“d” significa “decimal”):"
      ],
      "metadata": {
        "id": "j54SDo_4jKxN"
      }
    },
    {
      "cell_type": "code",
      "source": [
        "camellos = 42\n",
        "'%d' % camellos"
      ],
      "metadata": {
        "id": "XBrZGdojbBvs",
        "outputId": "f3accc68-2f3f-4ced-fac5-c730930c6a32",
        "colab": {
          "base_uri": "https://localhost:8080/",
          "height": 36
        }
      },
      "execution_count": 1,
      "outputs": [
        {
          "output_type": "execute_result",
          "data": {
            "text/plain": [
              "'42'"
            ],
            "application/vnd.google.colaboratory.intrinsic+json": {
              "type": "string"
            }
          },
          "metadata": {},
          "execution_count": 1
        }
      ]
    },
    {
      "cell_type": "markdown",
      "source": [
        "El resultado es la cadena ‘42’, el cual no debe ser confundido con el valor entero\n",
        "42."
      ],
      "metadata": {
        "id": "nJh-kmGyjTYr"
      }
    },
    {
      "cell_type": "markdown",
      "source": [
        "Una secuencia de formato puede aparecer en cualquier lugar en la cadena, así que\n",
        "puedes meter un valor en una frase:Una secuencia de formato puede aparecer en cualquier lugar en la cadena, así que\n",
        "puedes meter un valor en una frase:"
      ],
      "metadata": {
        "id": "xTjXK3vfjbYI"
      }
    },
    {
      "cell_type": "code",
      "source": [
        "camellos = 42\n",
        "'Yo he visto %d camellos.' % camellos"
      ],
      "metadata": {
        "id": "WRtRJZAljO6B",
        "outputId": "2f06e1a0-dbec-46bc-d6b7-10675092435d",
        "colab": {
          "base_uri": "https://localhost:8080/",
          "height": 36
        }
      },
      "execution_count": 2,
      "outputs": [
        {
          "output_type": "execute_result",
          "data": {
            "text/plain": [
              "'Yo he visto 42 camellos.'"
            ],
            "application/vnd.google.colaboratory.intrinsic+json": {
              "type": "string"
            }
          },
          "metadata": {},
          "execution_count": 2
        }
      ]
    },
    {
      "cell_type": "markdown",
      "source": [
        "Si hay más de una secuencia de formato en la cadena, el segundo argumento tiene\n",
        "que ser una tupla1. Cada secuencia de formato es relacionada con un elemento de\n",
        "la tupla, en orden."
      ],
      "metadata": {
        "id": "D9TtPvFajjXw"
      }
    },
    {
      "cell_type": "markdown",
      "source": [
        "El siguiente ejemplo usa %d para formatear un entero, %g para formatear un número\n",
        "de punto flotante (no preguntes por qué), y %s para formatear una cadena:"
      ],
      "metadata": {
        "id": "L-wkbwLrjpJS"
      }
    },
    {
      "cell_type": "code",
      "source": [
        "'En %d años yo he visto %g %s.' % (3, 0.1, 'camellos')"
      ],
      "metadata": {
        "id": "dvemCoFrjgss",
        "outputId": "87c0e545-15d9-4922-f59b-b8137bbcf86b",
        "colab": {
          "base_uri": "https://localhost:8080/",
          "height": 36
        }
      },
      "execution_count": 3,
      "outputs": [
        {
          "output_type": "execute_result",
          "data": {
            "text/plain": [
              "'En 3 años yo he visto 0.1 camellos.'"
            ],
            "application/vnd.google.colaboratory.intrinsic+json": {
              "type": "string"
            }
          },
          "metadata": {},
          "execution_count": 3
        }
      ]
    },
    {
      "cell_type": "markdown",
      "source": [
        "El número de elementos en la tupla debe coincidir con el número de secuencias\n",
        "de formato en la cadena. El tipo de los elementos también debe coincidir con la\n",
        "secuencia de formato:"
      ],
      "metadata": {
        "id": "DEpRgKfnjttH"
      }
    },
    {
      "cell_type": "code",
      "source": [
        "'%d %d %d' % (1, 2)"
      ],
      "metadata": {
        "id": "SAf6lPcXjr1J",
        "outputId": "ae09e44b-e722-428f-9a75-7a0286896a97",
        "colab": {
          "base_uri": "https://localhost:8080/",
          "height": 175
        }
      },
      "execution_count": 4,
      "outputs": [
        {
          "output_type": "error",
          "ename": "TypeError",
          "evalue": "ignored",
          "traceback": [
            "\u001b[0;31m---------------------------------------------------------------------------\u001b[0m",
            "\u001b[0;31mTypeError\u001b[0m                                 Traceback (most recent call last)",
            "\u001b[0;32m<ipython-input-4-4a97654d37a9>\u001b[0m in \u001b[0;36m<cell line: 1>\u001b[0;34m()\u001b[0m\n\u001b[0;32m----> 1\u001b[0;31m \u001b[0;34m'%d %d %d'\u001b[0m \u001b[0;34m%\u001b[0m \u001b[0;34m(\u001b[0m\u001b[0;36m1\u001b[0m\u001b[0;34m,\u001b[0m \u001b[0;36m2\u001b[0m\u001b[0;34m)\u001b[0m\u001b[0;34m\u001b[0m\u001b[0;34m\u001b[0m\u001b[0m\n\u001b[0m",
            "\u001b[0;31mTypeError\u001b[0m: not enough arguments for format string"
          ]
        }
      ]
    },
    {
      "cell_type": "code",
      "source": [
        "'%d' % 'dolares'"
      ],
      "metadata": {
        "id": "Pvpd5mJ9jwB7",
        "outputId": "ddde17e3-e5b6-4b20-c771-8628a344fd8d",
        "colab": {
          "base_uri": "https://localhost:8080/",
          "height": 175
        }
      },
      "execution_count": 5,
      "outputs": [
        {
          "output_type": "error",
          "ename": "TypeError",
          "evalue": "ignored",
          "traceback": [
            "\u001b[0;31m---------------------------------------------------------------------------\u001b[0m",
            "\u001b[0;31mTypeError\u001b[0m                                 Traceback (most recent call last)",
            "\u001b[0;32m<ipython-input-5-5cda57500969>\u001b[0m in \u001b[0;36m<cell line: 1>\u001b[0;34m()\u001b[0m\n\u001b[0;32m----> 1\u001b[0;31m \u001b[0;34m'%d'\u001b[0m \u001b[0;34m%\u001b[0m \u001b[0;34m'dolares'\u001b[0m\u001b[0;34m\u001b[0m\u001b[0;34m\u001b[0m\u001b[0m\n\u001b[0m",
            "\u001b[0;31mTypeError\u001b[0m: %d format: a real number is required, not str"
          ]
        }
      ]
    },
    {
      "cell_type": "markdown",
      "source": [
        "En el primer ejemplo, no hay suficientes elementos; en el segundo, el elemento es\n",
        "de un tipo incorrecto."
      ],
      "metadata": {
        "id": "kyrR4Urej45t"
      }
    },
    {
      "cell_type": "markdown",
      "source": [
        "El operador de formato es poderoso, pero puede ser difícil de usar. Puedes leer\n",
        "más al respecto en\n",
        "https://docs.python.org/library/stdtypes.html#printf-style-string-formatting."
      ],
      "metadata": {
        "id": "YmDX8Tbtj83Q"
      }
    },
    {
      "cell_type": "markdown",
      "source": [
        "##Depuración"
      ],
      "metadata": {
        "id": "-cCIi_S6kCc0"
      }
    },
    {
      "cell_type": "markdown",
      "source": [
        "Una habilidad que debes desarrollar cuando programas es siempre preguntarte a ti\n",
        "mismo, “¿Qué podría fallar aquí?” o alternativamente, “¿Qué cosa ilógica podría\n",
        "hacer un usuario para hacer fallar nuestro (aparentemente) perfecto programa?”"
      ],
      "metadata": {
        "id": "KOOynhu-kIJq"
      }
    },
    {
      "cell_type": "markdown",
      "source": [
        "Por ejemplo, observa el programa que utilizamos para demostrar el bucle while\n",
        "en el capítulo de iteraciones:"
      ],
      "metadata": {
        "id": "lZ0gRjUVkKLF"
      }
    },
    {
      "cell_type": "code",
      "source": [
        "while True:\n",
        "  linea = input('> ')\n",
        "  if linea[0] == '#' :\n",
        "    continue\n",
        "  if linea == 'fin':\n",
        "    break\n",
        "  print(linea)\n",
        "print('¡Terminado!')"
      ],
      "metadata": {
        "id": "10B_aGn2jyHO"
      },
      "execution_count": null,
      "outputs": []
    },
    {
      "cell_type": "markdown",
      "source": [
        "Mira lo que pasa cuando el usuario introduce una línea vacía como entrada:"
      ],
      "metadata": {
        "id": "6WVeHIRNkXAo"
      }
    },
    {
      "cell_type": "markdown",
      "source": [
        "> hola a todos\n",
        "\n",
        "hola a todos\n",
        "> \\# no imprimas esto\n",
        "\n",
        "> ¡imprime esto!\n",
        "\n",
        "¡imprime esto!\n",
        ">\n",
        "Traceback (most recent call last):\n",
        "\n",
        "  File \"copytildone.py\", line 3, in <module>\n",
        "\n",
        "    if linea[0] == '#':\n",
        "    \n",
        "IndexError: string index out of range"
      ],
      "metadata": {
        "id": "gp3VxoAxkecU"
      }
    },
    {
      "cell_type": "markdown",
      "source": [
        "El código funciona bien hasta que se presenta una línea vacía. En ese momento no\n",
        "hay un carácter cero, por lo que obtenemos una traza de error (traceback). Existen\n",
        "dos soluciones a esto para convertir la línea tres en “segura”, incluso si la línea está\n",
        "vacía."
      ],
      "metadata": {
        "id": "4oBxXpAak0cW"
      }
    },
    {
      "cell_type": "markdown",
      "source": [
        "Una posibilidad es simplemente usar el método startswith que devuelve False si\n",
        "la cadena está vacía."
      ],
      "metadata": {
        "id": "tRJG_nL-k26Q"
      }
    },
    {
      "cell_type": "markdown",
      "source": [
        "if linea.startswith('#'):"
      ],
      "metadata": {
        "id": "v-3bux7tk5uo"
      }
    },
    {
      "cell_type": "markdown",
      "source": [
        "Otra forma segura es escribir una sentencia if utilizando el patrón guardián y\n",
        "asegurarse que la segunda expresión lógica es evaluada sólo cuando hay al menos\n",
        "un carácter en la cadena:"
      ],
      "metadata": {
        "id": "cNjV3aMFk85s"
      }
    },
    {
      "cell_type": "markdown",
      "source": [
        "if len(linea) > 0 and linea[0] == '#':if len(linea) > 0 and linea[0] == '#':"
      ],
      "metadata": {
        "id": "8owey80wk_Cy"
      }
    },
    {
      "cell_type": "markdown",
      "source": [
        "##Ejercicios"
      ],
      "metadata": {
        "id": "RmNnpLe4lCC5"
      }
    },
    {
      "cell_type": "markdown",
      "source": [
        "Ejercicio 5: Toma el siguiente código en Python que almacena una cadena:\n",
        "\n",
        "str = 'X-DSPAM-Confidence:0.8475'\n",
        "\n",
        "Utiliza find y una parte de la cadena para extraer la porción de la cadena\n",
        "después del carácter dos puntos y después utiliza la función float para\n",
        "convertir la cadena extraída en un número de punto flotante."
      ],
      "metadata": {
        "id": "eIuAY_MplHGy"
      }
    },
    {
      "cell_type": "code",
      "source": [],
      "metadata": {
        "id": "O4rPd3yVkXlR"
      },
      "execution_count": null,
      "outputs": []
    },
    {
      "cell_type": "markdown",
      "source": [
        "Ejercicio 6: Lee la documentación de los métodos de cadenas en\n",
        "https://docs.python.org/library/stdtypes.html#string-methods Quizá\n",
        "quieras experimentar con algunos de ellos para asegurarte de entender\n",
        "como funcionan. strip y replace son particularmente útiles."
      ],
      "metadata": {
        "id": "kfgnaivIlNlk"
      }
    },
    {
      "cell_type": "markdown",
      "source": [
        "La documentación usa una sintaxis que puede ser confusa. Por ejemplo,\n",
        "en find(sub[, start[, end]]), los corchetes indican argumentos opcionales.\n",
        "De modo que sub es requerido, pero start es opcional, y si se\n",
        "incluye start, entonces end es opcional."
      ],
      "metadata": {
        "id": "7F-cbHyplSTH"
      }
    },
    {
      "cell_type": "code",
      "source": [],
      "metadata": {
        "id": "nalLfbW7lORX"
      },
      "execution_count": null,
      "outputs": []
    }
  ]
}