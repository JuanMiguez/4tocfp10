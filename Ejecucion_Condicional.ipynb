{
  "nbformat": 4,
  "nbformat_minor": 0,
  "metadata": {
    "colab": {
      "provenance": [],
      "authorship_tag": "ABX9TyNALrEQvwOJ4pi2AcJsUz3b",
      "include_colab_link": true
    },
    "kernelspec": {
      "name": "python3",
      "display_name": "Python 3"
    },
    "language_info": {
      "name": "python"
    }
  },
  "cells": [
    {
      "cell_type": "markdown",
      "metadata": {
        "id": "view-in-github",
        "colab_type": "text"
      },
      "source": [
        "<a href=\"https://colab.research.google.com/github/JuanMiguez/4tocfp10/blob/main/Ejecucion_Condicional.ipynb\" target=\"_parent\"><img src=\"https://colab.research.google.com/assets/colab-badge.svg\" alt=\"Open In Colab\"/></a>"
      ]
    },
    {
      "cell_type": "markdown",
      "source": [
        "#Capitulo 3 - Ejecucion Condicional\n",
        "### o como controlar el flujo del programa"
      ],
      "metadata": {
        "id": "yeMybmgcTpBd"
      }
    },
    {
      "cell_type": "markdown",
      "source": [
        "#### Expresiones Booleanas\n",
        "\n",
        "Una expresión booleana es aquella que puede ser verdadera (`True`) o falsa (`False`).\n",
        "Los ejemplos siguientes usan el operador ==, que compara dos operandos y devuelve\n",
        "`True` si son iguales y False en caso contrario:\n",
        "\n",
        "\n",
        "\n"
      ],
      "metadata": {
        "id": "IjtqODB1UIip"
      }
    },
    {
      "cell_type": "code",
      "source": [
        "5==5"
      ],
      "metadata": {
        "id": "JYXyte42UHRh",
        "outputId": "929952e9-922b-4b0d-c34f-fdb2b8b5692b",
        "colab": {
          "base_uri": "https://localhost:8080/"
        }
      },
      "execution_count": null,
      "outputs": [
        {
          "output_type": "execute_result",
          "data": {
            "text/plain": [
              "True"
            ]
          },
          "metadata": {},
          "execution_count": 1
        }
      ]
    },
    {
      "cell_type": "code",
      "source": [
        "5==6"
      ],
      "metadata": {
        "id": "SM-VcqezVGcs",
        "outputId": "53be4643-123f-4a60-d8a2-dd69facbc4b9",
        "colab": {
          "base_uri": "https://localhost:8080/"
        }
      },
      "execution_count": null,
      "outputs": [
        {
          "output_type": "execute_result",
          "data": {
            "text/plain": [
              "False"
            ]
          },
          "metadata": {},
          "execution_count": 2
        }
      ]
    },
    {
      "cell_type": "markdown",
      "source": [
        "`True` y `False` son valores especiales que pertenecen al tipo bool (booleano); no\n",
        "son cadenas:"
      ],
      "metadata": {
        "id": "GckH6BOgVMZF"
      }
    },
    {
      "cell_type": "code",
      "source": [
        "type(True)"
      ],
      "metadata": {
        "id": "tJN5RTplVUsO",
        "outputId": "dd8afc2b-3b85-4b7d-8dfb-54db7d26866f",
        "colab": {
          "base_uri": "https://localhost:8080/"
        }
      },
      "execution_count": null,
      "outputs": [
        {
          "output_type": "execute_result",
          "data": {
            "text/plain": [
              "bool"
            ]
          },
          "metadata": {},
          "execution_count": 3
        }
      ]
    },
    {
      "cell_type": "code",
      "source": [
        "type(False)"
      ],
      "metadata": {
        "id": "wOvHxp1-Vadg",
        "outputId": "891f07ed-ea68-4ef2-c5c7-b419fe0111c9",
        "colab": {
          "base_uri": "https://localhost:8080/"
        }
      },
      "execution_count": null,
      "outputs": [
        {
          "output_type": "execute_result",
          "data": {
            "text/plain": [
              "bool"
            ]
          },
          "metadata": {},
          "execution_count": 4
        }
      ]
    },
    {
      "cell_type": "markdown",
      "source": [
        "El operador `==` es uno de los *operadores de comparación*; los demás son:\n",
        "\n",
        "* x != y # x es distinto de y\n",
        "* x > y # x es mayor que y\n",
        "* x < y # x es menor que y\n",
        "* x >= y # x es mayor o igual que y\n",
        "* x <= y # x es menor o igual que y\n",
        "* x is y # x es lo mismo que y\n",
        "* x is not y # x no es lo mismo que y\n",
        "\n",
        "A pesar de que estas operaciones probablemente te resulten familiares, los símbolos\n",
        "en Python son diferentes de los símbolos matemáticos que se usan para realizar las\n",
        "mismas operaciones. Un error muy común es usar sólo un símbolo igual (=) en vez\n",
        "del símbolo de doble igualdad (==). Recuerda que = es un operador de asignación,\n",
        "y == es un operador de comparación. No existe algo como =< o =>."
      ],
      "metadata": {
        "id": "sklAADsJVoGG"
      }
    },
    {
      "cell_type": "markdown",
      "source": [
        "###Operadores Logicos\n",
        "\n",
        "\n",
        "\n"
      ],
      "metadata": {
        "id": "6nYQGE3OXrAf"
      }
    },
    {
      "cell_type": "markdown",
      "source": [
        "Existen tres operadores lógicos: `and` (y), `or` (o), y `not` (no). El significado\n",
        "semántico de estas operaciones es similar a su significado en inglés. Por ejemplo,\n",
        "\n",
        "`x > 0 and x < 10`\n",
        "\n",
        "es verdadero sólo cuando x es mayor que 0 y menor que 10.\n",
        "\n",
        "`n%2 == 0 or n%3 == 0` es verdadero si cualquiera de las condiciones es verdadera, es decir, si el número es divisible por 2 o por 3.\n",
        "\n",
        "Finalmente, el operador `not` niega una expresión booleana, de modo que\n",
        " `not (x > y)`  es verdadero si x > y es falso; es decir, si x es menor o igual que y.\n",
        "\n",
        "Estrictamente hablando, los operandos de los operadores lógicos deberían ser expresiones booleanas, pero Python no es muy estricto. Cualquier número distinto\n",
        "de cero se interpreta como “verdadero.”"
      ],
      "metadata": {
        "id": "-iqdmN3DY51T"
      }
    },
    {
      "cell_type": "code",
      "source": [
        "17 and True"
      ],
      "metadata": {
        "id": "W8mCUnJ4au0f",
        "outputId": "1df2b911-69cd-4261-a411-7b7e0bdd8735",
        "colab": {
          "base_uri": "https://localhost:8080/"
        }
      },
      "execution_count": null,
      "outputs": [
        {
          "output_type": "execute_result",
          "data": {
            "text/plain": [
              "True"
            ]
          },
          "metadata": {},
          "execution_count": 5
        }
      ]
    },
    {
      "cell_type": "markdown",
      "source": [
        "Esta flexibilidad puede ser útil, pero existen ciertas sutilezas en ese tipo de uso\n",
        "que pueden resultar confusas. Es posible que prefieras evitar usarlo de este modo\n",
        "hasta que estés bien seguro de lo que estás haciendo."
      ],
      "metadata": {
        "id": "yn5Z8QWma9SG"
      }
    },
    {
      "cell_type": "markdown",
      "source": [
        "### Ejecución condicional"
      ],
      "metadata": {
        "id": "jaF0lTo9bH8m"
      }
    },
    {
      "cell_type": "markdown",
      "source": [
        "Para poder escribir programas útiles, casi siempre vamos a necesitar la capacidad\n",
        "de comprobar condiciones y cambiar el comportamiento del programa de acuerdo a\n",
        "ellas. Las *sentencias condicionales* nos proporcionan esa capacidad. La forma\n",
        "más sencilla es la sentencia if:\n",
        "\n",
        "```\n",
        "if x > 0 :\n",
        "  print('x es positivo')\n",
        "```\n",
        "La expresión booleana después de la sentencia **if** recibe el nombre de condición.\n",
        "La sentencia **if** se finaliza con un carácter de dos-puntos (:) y la(s) línea(s) que\n",
        "van detrás de la sentencia if van indentadas (es decir, llevan una tabulación o\n",
        "varios espacios en blanco al principio).\n",
        "\n",
        "Si la condición lógica es verdadera, la sentencia indentada será ejecutada. Si la\n",
        "condición es falsa, la sentencia indentada será omitida.\n",
        "\n",
        "La sentencia **if** tiene la misma estructura que la definición de funciones o los\n",
        "bucles **for**. La sentencia consiste en una línea de encabezado que termina con el\n",
        "carácter dos-puntos (:) seguido por un bloque indentado. Las sentencias de este\n",
        "tipo reciben el nombre de sentencias compuestas, porque se extienden a lo largo\n",
        "de varias líneas."
      ],
      "metadata": {
        "id": "7jIwNdvMbOsM"
      }
    },
    {
      "cell_type": "markdown",
      "source": [
        "![Captura de pantalla 2023-06-13 172656.png](data:image/png;base64,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)"
      ],
      "metadata": {
        "id": "Wo29jucGcskR"
      }
    },
    {
      "cell_type": "markdown",
      "source": [
        "No hay límite en el número de sentencias que pueden aparecer en el cuerpo, pero\n",
        "debe haber al menos una. Ocasionalmente, puede resultar útil tener un cuerpo sin\n",
        "sentencias (normalmente como emplazamiento reservado para código que no se ha\n",
        "escrito aún). En ese caso, se puede usar la sentencia pass, que no hace nada.\n",
        "\n",
        "\n",
        "\n",
        "```\n",
        "if x < 0 :\n",
        "  pass            # ¡necesito gestionar los valores negativos!\n",
        "```\n"
      ],
      "metadata": {
        "id": "tC-TI5c_c1xr"
      }
    },
    {
      "cell_type": "markdown",
      "source": [
        "### Ejecución alternativa"
      ],
      "metadata": {
        "id": "6-2A5kTFdfHR"
      }
    },
    {
      "cell_type": "markdown",
      "source": [
        "La segunda forma de la sentencia if es la ejecución alternativa, en la cual existen\n",
        "dos posibilidades y la condición determina cual de ellas será ejecutada. La sintaxis\n",
        "es similar a ésta:\n",
        "\n",
        "\n",
        "```\n",
        "if x%2 == 0 :\n",
        "  print('x es par')\n",
        "else :\n",
        "  print('x es impar')\n",
        "```\n",
        "Si al dividir x por 2 obtenemos como resto 0, entonces sabemos que x es par, y el\n",
        "programa muestra un mensaje a tal efecto. Si esa condición es falsa, se ejecuta el\n",
        "segundo conjunto de sentencias.\n",
        "\n"
      ],
      "metadata": {
        "id": "ug6hErJfdrsP"
      }
    },
    {
      "cell_type": "markdown",
      "source": [
        "![Captura de pantalla 2023-06-13 173436.png](data:image/png;base64,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)"
      ],
      "metadata": {
        "id": "GQX2SHKod2tV"
      }
    },
    {
      "cell_type": "markdown",
      "source": [
        "Dado que la condición debe ser obligatoriamente verdadera o falsa, solamente una\n",
        "de las alternativas será ejecutada. Las alternativas reciben el nombre de ramas,\n",
        "dado que se trata de ramificaciones en el flujo de la ejecución."
      ],
      "metadata": {
        "id": "dwxr60NIi0Cs"
      }
    },
    {
      "cell_type": "markdown",
      "source": [
        "###Condicionales encadenados"
      ],
      "metadata": {
        "id": "By7JN2Bdj-Ad"
      }
    },
    {
      "cell_type": "markdown",
      "source": [
        "Algunas veces hay más de dos posibilidades, de modo que necesitamos más de dos\n",
        "ramas. Una forma de expresar una operación como ésa es usar un condicional\n",
        "encadenado:\n",
        "\n",
        "\n",
        "```\n",
        "if x < y:\n",
        "  print('x es menor que y')\n",
        "elif x > y:\n",
        "  print('x es mayor que y')\n",
        "else:\n",
        "  print('x e y son iguales')\n",
        "```\n",
        "**`elif`** es una abreviatura para “else if”. En este caso también será ejecutada únicamente\n",
        "una de las ramas.\n",
        "\n",
        "No hay un límite para el número de sentencias **`elif`**. Si hay una clausula else,\n",
        "debe ir al final, pero tampoco es obligatorio que ésta exista.\n",
        "\n"
      ],
      "metadata": {
        "id": "L_76PntukFlx"
      }
    },
    {
      "cell_type": "markdown",
      "source": [
        "![Captura de pantalla 2023-06-13 180317.png](data:image/png;base64,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)"
      ],
      "metadata": {
        "id": "65RdFXSXkguu"
      }
    },
    {
      "cell_type": "markdown",
      "source": [
        "```\n",
        "if choice == 'a':\n",
        "  print('Respuesta incorrecta')\n",
        "elif choice == 'b':\n",
        "  print('Respuesta correcta')\n",
        "elif choice == 'c':\n",
        "  print('Casi, pero no es correcto')\n",
        "```\n",
        "Cada condición es comprobada en orden. Si la primera es falsa, se comprueba la\n",
        "siguiente y así con las demás. Si una de ellas es verdadera, se ejecuta la rama\n",
        "correspondiente, y la sentencia termina. Incluso si hay más de una condición que\n",
        "sea verdadera, sólo se ejecuta la primera que se encuentra.\n",
        "\n"
      ],
      "metadata": {
        "id": "vZBKlhlDkmrm"
      }
    },
    {
      "cell_type": "markdown",
      "source": [
        "### Condicionales anidados"
      ],
      "metadata": {
        "id": "RSrPzn74kw49"
      }
    },
    {
      "cell_type": "markdown",
      "source": [
        "Un condicional puede también estar anidado dentro de otro. Podríamos haber\n",
        "escrito el ejemplo anterior de las tres ramas de este modo:\n",
        "\n",
        "```\n",
        "if x == y:\n",
        "  print('x e y son iguales')\n",
        "else:\n",
        "  if x < y:\n",
        "    print('x es menor que y')\n",
        "  else:\n",
        "    print('x es mayor que y')\n",
        "```\n",
        "\n",
        "El condicional exterior contiene dos ramas. La primera rama ejecuta una sentencia\n",
        "simple. La segunda contiene otra sentencia if, que tiene a su vez sus propias dos\n",
        "ramas. Esas dos ramas son ambas sentencias simples, pero podrían haber sido\n",
        "sentencias condicionales también.\n",
        "A pesar de que el indentado de las sentencias hace que la estructura esté clara, los\n",
        "condicionales anidados pueden volverse difíciles de leer rápidamente. En general,\n",
        "es buena idea evitarlos si se puede."
      ],
      "metadata": {
        "id": "D8MM-rAXk0z4"
      }
    },
    {
      "cell_type": "markdown",
      "source": [
        "![Captura de pantalla 2023-06-13 180630.png](data:image/png;base64,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)"
      ],
      "metadata": {
        "id": "tlRKg4GjlJ6M"
      }
    },
    {
      "cell_type": "markdown",
      "source": [
        "Los operadores lógicos a menudo proporcionan un modo de simplificar las sentencias\n",
        "condicionales anidadas. Por ejemplo, el código siguiente puede ser reescrito\n",
        "usando un único condicional:\n",
        "```\n",
        "if 0 < x:\n",
        "  if x < 10:\n",
        "    print('x es un número positivo con un sólo dígito.')\n",
        "```\n",
        "La sentencia print se ejecuta solamente si se cumplen las dos condiciones anteriores,\n",
        "así que en realidad podemos conseguir el mismo efecto con el operador and:\n",
        "\n",
        "\n",
        "```\n",
        "if 0 < x and x < 10:\n",
        "  print('x es un número positivo con un sólo dígito.')\n",
        "```\n"
      ],
      "metadata": {
        "id": "ai0UfIiAlUkq"
      }
    },
    {
      "cell_type": "markdown",
      "source": [
        "### Captura de excepciones usando try y except"
      ],
      "metadata": {
        "id": "wX3zPRsEloci"
      }
    },
    {
      "cell_type": "markdown",
      "source": [
        "Anteriormente vimos un fragmento de código donde usábamos las funciones `input`\n",
        "e `int` para leer y analizar un número entero introducido por el usuario. También\n",
        "vimos lo poco seguro que podía llegar a resultar hacer algo así:"
      ],
      "metadata": {
        "id": "MQIIf1RKl7X9"
      }
    },
    {
      "cell_type": "code",
      "source": [
        "velocidad = input(\"¿Cual es la velocidad de vuelo de una golondrina sin carga?\")\n",
        "int(velocidad)"
      ],
      "metadata": {
        "id": "qDZfyesPmCA_",
        "outputId": "c02c8b69-27c9-4b8e-edf1-5cc7df4ef03d",
        "colab": {
          "base_uri": "https://localhost:8080/",
          "height": 208
        }
      },
      "execution_count": null,
      "outputs": [
        {
          "name": "stdout",
          "output_type": "stream",
          "text": [
            "¿Cual es la velocidad de vuelo de una golondrina sin carga?¿Te refieres a una golondrina africana o a una europea?\n"
          ]
        },
        {
          "output_type": "error",
          "ename": "ValueError",
          "evalue": "ignored",
          "traceback": [
            "\u001b[0;31m---------------------------------------------------------------------------\u001b[0m",
            "\u001b[0;31mValueError\u001b[0m                                Traceback (most recent call last)",
            "\u001b[0;32m<ipython-input-7-4803ef7ea20c>\u001b[0m in \u001b[0;36m<cell line: 2>\u001b[0;34m()\u001b[0m\n\u001b[1;32m      1\u001b[0m \u001b[0mvelocidad\u001b[0m \u001b[0;34m=\u001b[0m \u001b[0minput\u001b[0m\u001b[0;34m(\u001b[0m\u001b[0;34m\"¿Cual es la velocidad de vuelo de una golondrina sin carga?\"\u001b[0m\u001b[0;34m)\u001b[0m\u001b[0;34m\u001b[0m\u001b[0;34m\u001b[0m\u001b[0m\n\u001b[0;32m----> 2\u001b[0;31m \u001b[0mint\u001b[0m\u001b[0;34m(\u001b[0m\u001b[0mvelocidad\u001b[0m\u001b[0;34m)\u001b[0m\u001b[0;34m\u001b[0m\u001b[0;34m\u001b[0m\u001b[0m\n\u001b[0m",
            "\u001b[0;31mValueError\u001b[0m: invalid literal for int() with base 10: '¿Te refieres a una golondrina africana o a una europea?'"
          ]
        }
      ]
    },
    {
      "cell_type": "markdown",
      "source": [
        "Cuando estamos trabajando con el intérprete de Python, tras el error simplemente\n",
        "nos aparece de nuevo el prompt, así que pensamos “¡epa, me he equivocado!”, y\n",
        "continuamos con la siguiente sentencia.\n",
        "\n",
        "Sin embargo, si se escribe ese código en un script de Python y se produce el error,\n",
        "el script se detendrá inmediatamente, y mostrará un “traceback”. No ejecutará la\n",
        "siguiente sentencia.\n",
        "\n",
        "He aquí un programa de ejemplo para convertir una temperatura desde grados\n",
        "Fahrenheit a grados Celsius.\n",
        "\n",
        "Si ejecutamos este código y le damos una entrada no válida, simplemente fallará\n",
        "con un mensaje de error bastante antipático:"
      ],
      "metadata": {
        "id": "e_nFMsLnmf33"
      }
    },
    {
      "cell_type": "code",
      "source": [
        "ent = input('Introduzca la Temperatura Fahrenheit:')\n",
        "fahr = float(ent)\n",
        "cel = (fahr - 32.0) * 5.0 / 9.0\n",
        "print(cel)"
      ],
      "metadata": {
        "id": "J3NPI8w7xwy_",
        "outputId": "f9f008f1-9591-4e26-ef9b-48b37b2b7ad5",
        "colab": {
          "base_uri": "https://localhost:8080/",
          "height": 244
        }
      },
      "execution_count": null,
      "outputs": [
        {
          "name": "stdout",
          "output_type": "stream",
          "text": [
            "Introduzca la Temperatura Fahrenheit:moska\n"
          ]
        },
        {
          "output_type": "error",
          "ename": "ValueError",
          "evalue": "ignored",
          "traceback": [
            "\u001b[0;31m---------------------------------------------------------------------------\u001b[0m",
            "\u001b[0;31mValueError\u001b[0m                                Traceback (most recent call last)",
            "\u001b[0;32m<ipython-input-8-7cb5b71361bf>\u001b[0m in \u001b[0;36m<cell line: 2>\u001b[0;34m()\u001b[0m\n\u001b[1;32m      1\u001b[0m \u001b[0ment\u001b[0m \u001b[0;34m=\u001b[0m \u001b[0minput\u001b[0m\u001b[0;34m(\u001b[0m\u001b[0;34m'Introduzca la Temperatura Fahrenheit:'\u001b[0m\u001b[0;34m)\u001b[0m\u001b[0;34m\u001b[0m\u001b[0;34m\u001b[0m\u001b[0m\n\u001b[0;32m----> 2\u001b[0;31m \u001b[0mfahr\u001b[0m \u001b[0;34m=\u001b[0m \u001b[0mfloat\u001b[0m\u001b[0;34m(\u001b[0m\u001b[0ment\u001b[0m\u001b[0;34m)\u001b[0m\u001b[0;34m\u001b[0m\u001b[0;34m\u001b[0m\u001b[0m\n\u001b[0m\u001b[1;32m      3\u001b[0m \u001b[0mcel\u001b[0m \u001b[0;34m=\u001b[0m \u001b[0;34m(\u001b[0m\u001b[0mfahr\u001b[0m \u001b[0;34m-\u001b[0m \u001b[0;36m32.0\u001b[0m\u001b[0;34m)\u001b[0m \u001b[0;34m*\u001b[0m \u001b[0;36m5.0\u001b[0m \u001b[0;34m/\u001b[0m \u001b[0;36m9.0\u001b[0m\u001b[0;34m\u001b[0m\u001b[0;34m\u001b[0m\u001b[0m\n\u001b[1;32m      4\u001b[0m \u001b[0mprint\u001b[0m\u001b[0;34m(\u001b[0m\u001b[0mcel\u001b[0m\u001b[0;34m)\u001b[0m\u001b[0;34m\u001b[0m\u001b[0;34m\u001b[0m\u001b[0m\n",
            "\u001b[0;31mValueError\u001b[0m: could not convert string to float: 'moska'"
          ]
        }
      ]
    },
    {
      "cell_type": "markdown",
      "source": [
        "Existen estructuras de ejecución condicional dentro de Python para manejar este\n",
        "tipo de errores esperados e inesperados, llamadas “try / except”. La idea de `try`\n",
        "y `except` es que si se sabe que cierta secuencia de instrucciones puede generar un\n",
        "problema, sea posible añadir ciertas sentencias para que sean ejecutadas en caso de\n",
        "error. Estas sentencias extras (el bloque except) serán ignoradas si no se produce\n",
        "ningún error.\n",
        "\n",
        "Puedes pensar en la característica try y except de Python como una “póliza de\n",
        "seguros” en una secuencia de sentencias.\n",
        "\n",
        "Se puede reescribir nuestro conversor de temperaturas de esta forma:"
      ],
      "metadata": {
        "id": "tXQe_99zm5H1"
      }
    },
    {
      "cell_type": "code",
      "source": [
        "ent = input('Introduzca la Temperatura Fahrenheit:')\n",
        "try:\n",
        "  fahr = float(ent)\n",
        "  cel = (fahr - 32.0) * 5.0 / 9.0\n",
        "  print(cel)\n",
        "except:\n",
        "  print('que onda?, introduci un número. dale de nuevo, papanatas')"
      ],
      "metadata": {
        "colab": {
          "base_uri": "https://localhost:8080/"
        },
        "id": "hCF7RTqaIOGU",
        "outputId": "729ef151-8448-47ae-f2a2-e5b76d8a1f31"
      },
      "execution_count": null,
      "outputs": [
        {
          "output_type": "stream",
          "name": "stdout",
          "text": [
            "Introduzca la Temperatura Fahrenheit:jnhfgdjnkdfg\n",
            "bobo, introduzca un número dale de nuevo, bobo\n"
          ]
        }
      ]
    },
    {
      "cell_type": "markdown",
      "source": [
        "Python comienza ejecutando la secuencia de sentencias del bloque **try**. Si todo\n",
        "va bien, se saltará todo el bloque `except` y terminará. Si ocurre una excepción\n",
        "dentro del bloque **try**, Python saltará fuera de ese bloque y ejecutará la secuencia\n",
        "de sentencias del bloque `except`."
      ],
      "metadata": {
        "id": "7VWJMq7tnXkY"
      }
    },
    {
      "cell_type": "markdown",
      "source": [
        "Gestionar una excepción con una sentencia try recibe el nombre de capturar una\n",
        "excepción. En este ejemplo, la clausula except muestra un mensaje de error. En\n",
        "general, capturar una excepción te da la oportunidad de corregir el problema,\n",
        "volverlo a intentar o, al menos, terminar el programa con elegancia."
      ],
      "metadata": {
        "id": "dUSDHEbAnr09"
      }
    },
    {
      "cell_type": "markdown",
      "source": [
        "### Evaluación en cortocircuito de expresiones lógicas"
      ],
      "metadata": {
        "id": "JViCN3uCntj-"
      }
    },
    {
      "cell_type": "markdown",
      "source": [
        "Cuando Python está procesando una expresión lógica, como\n",
        " `x >= 2 and (x/y) > 2`, evalúa la expresión de izquierda a derecha. Debido a la definición de and, si x es menor de 2, la expresión **x >= 2** resulta ser falsa, de modo que la expresión completa ya va a resultar falsa, independientemente de si **(x/y) > 2** se evalúa\n",
        "como **verdadera** o **falsa**.\n",
        "\n",
        "Cuando Python detecta que no se gana nada evaluando el resto de una expresión\n",
        "lógica, detiene su evaluación y no realiza el cálculo del resto de la expresión.\n",
        "Cuando la evaluación de una expresión lógica se detiene debido a que ya se conoce\n",
        "el valor final, eso es conocido como *cortocircuitar* la evaluación.\n",
        "\n",
        "A pesar de que esto pueda parecer hilar demasiado fino, el funcionamiento en\n",
        "cortocircuito nos descubre una ingeniosa técnica conocida como *patrón guardián*.\n",
        "Examina la siguiente secuencia de código en el intérprete de Python:"
      ],
      "metadata": {
        "id": "f9kcrlY0n1Z_"
      }
    },
    {
      "cell_type": "code",
      "source": [
        "x = 6\n",
        "y = 2\n",
        "x >= 2 and (x/y) > 2"
      ],
      "metadata": {
        "id": "NgiWgUyvpe2g",
        "outputId": "8c8bbdc4-ee88-49c2-cf39-42c9034d0758",
        "colab": {
          "base_uri": "https://localhost:8080/"
        }
      },
      "execution_count": null,
      "outputs": [
        {
          "output_type": "execute_result",
          "data": {
            "text/plain": [
              "True"
            ]
          },
          "metadata": {},
          "execution_count": 10
        }
      ]
    },
    {
      "cell_type": "code",
      "source": [
        "x = 1\n",
        "y = 0\n",
        "x >= 2 and (x/y) > 2"
      ],
      "metadata": {
        "id": "HrynRrJDpujy",
        "outputId": "f8926499-8cc9-4f90-d430-65217a9f50da",
        "colab": {
          "base_uri": "https://localhost:8080/"
        }
      },
      "execution_count": null,
      "outputs": [
        {
          "output_type": "execute_result",
          "data": {
            "text/plain": [
              "False"
            ]
          },
          "metadata": {},
          "execution_count": 11
        }
      ]
    },
    {
      "cell_type": "code",
      "source": [
        "x = 6\n",
        "y = 0\n",
        "x >= 2 and (x/y) > 2"
      ],
      "metadata": {
        "id": "sSTRLf0qpxTt",
        "outputId": "b44aae49-4fd2-4fc7-b304-d55a6a41b56a",
        "colab": {
          "base_uri": "https://localhost:8080/",
          "height": 208
        }
      },
      "execution_count": null,
      "outputs": [
        {
          "output_type": "error",
          "ename": "ZeroDivisionError",
          "evalue": "ignored",
          "traceback": [
            "\u001b[0;31m---------------------------------------------------------------------------\u001b[0m",
            "\u001b[0;31mZeroDivisionError\u001b[0m                         Traceback (most recent call last)",
            "\u001b[0;32m<ipython-input-12-43a82c4c87c1>\u001b[0m in \u001b[0;36m<cell line: 3>\u001b[0;34m()\u001b[0m\n\u001b[1;32m      1\u001b[0m \u001b[0mx\u001b[0m \u001b[0;34m=\u001b[0m \u001b[0;36m6\u001b[0m\u001b[0;34m\u001b[0m\u001b[0;34m\u001b[0m\u001b[0m\n\u001b[1;32m      2\u001b[0m \u001b[0my\u001b[0m \u001b[0;34m=\u001b[0m \u001b[0;36m0\u001b[0m\u001b[0;34m\u001b[0m\u001b[0;34m\u001b[0m\u001b[0m\n\u001b[0;32m----> 3\u001b[0;31m \u001b[0mx\u001b[0m \u001b[0;34m>=\u001b[0m \u001b[0;36m2\u001b[0m \u001b[0;32mand\u001b[0m \u001b[0;34m(\u001b[0m\u001b[0mx\u001b[0m\u001b[0;34m/\u001b[0m\u001b[0my\u001b[0m\u001b[0;34m)\u001b[0m \u001b[0;34m>\u001b[0m \u001b[0;36m2\u001b[0m\u001b[0;34m\u001b[0m\u001b[0;34m\u001b[0m\u001b[0m\n\u001b[0m",
            "\u001b[0;31mZeroDivisionError\u001b[0m: division by zero"
          ]
        }
      ]
    },
    {
      "cell_type": "markdown",
      "source": [
        "La tercera operación ha fallado porque Python intentó evaluar (x/y) e y era cero,\n",
        "lo cual provoca un runtime error (error en tiempo de ejecución). Pero el segundo ejemplo no falló, porque la primera parte de la expresión x >= 2 fue evaluada\n",
        "como **falsa**, así que (x/y) no llegó a ejecutarse debido a la regla del cortocircuito,\n",
        "y no se produjo ningún error.\n",
        "\n",
        "Es posible construir las expresiones lógicas colocando estratégicamente una evaluación\n",
        "como *guardián* justo antes de la evaluación que podría causar un error, como\n",
        "se muestra a continuación:"
      ],
      "metadata": {
        "id": "H74m8ky1p2Fh"
      }
    },
    {
      "cell_type": "code",
      "source": [
        "X = 1\n",
        "y = 0\n",
        "x >= 2 and y != 0 and (x/y) > 2"
      ],
      "metadata": {
        "id": "XsGXqcAHqLMe",
        "outputId": "24f6090c-3c75-4ed2-fa74-0f816a090b5e",
        "colab": {
          "base_uri": "https://localhost:8080/"
        }
      },
      "execution_count": null,
      "outputs": [
        {
          "output_type": "execute_result",
          "data": {
            "text/plain": [
              "False"
            ]
          },
          "metadata": {},
          "execution_count": 14
        }
      ]
    },
    {
      "cell_type": "code",
      "source": [
        "X = 6\n",
        "y = 0\n",
        "x >= 2 and y != 0 and (x/y) > 2"
      ],
      "metadata": {
        "id": "S6RSvDB8qY0P",
        "outputId": "563b7182-1381-4464-df38-a223aae76ca4",
        "colab": {
          "base_uri": "https://localhost:8080/"
        }
      },
      "execution_count": null,
      "outputs": [
        {
          "output_type": "execute_result",
          "data": {
            "text/plain": [
              "False"
            ]
          },
          "metadata": {},
          "execution_count": 15
        }
      ]
    },
    {
      "cell_type": "code",
      "source": [
        "x >= 2 and (x/y) > 2 and y != 0"
      ],
      "metadata": {
        "id": "LpncMwtKqb9p",
        "outputId": "3a63d255-ffb4-4cdd-e942-2e0d824705e4",
        "colab": {
          "base_uri": "https://localhost:8080/",
          "height": 171
        }
      },
      "execution_count": null,
      "outputs": [
        {
          "output_type": "error",
          "ename": "ZeroDivisionError",
          "evalue": "ignored",
          "traceback": [
            "\u001b[0;31m---------------------------------------------------------------------------\u001b[0m",
            "\u001b[0;31mZeroDivisionError\u001b[0m                         Traceback (most recent call last)",
            "\u001b[0;32m<ipython-input-16-b3ac81785519>\u001b[0m in \u001b[0;36m<cell line: 1>\u001b[0;34m()\u001b[0m\n\u001b[0;32m----> 1\u001b[0;31m \u001b[0mx\u001b[0m \u001b[0;34m>=\u001b[0m \u001b[0;36m2\u001b[0m \u001b[0;32mand\u001b[0m \u001b[0;34m(\u001b[0m\u001b[0mx\u001b[0m\u001b[0;34m/\u001b[0m\u001b[0my\u001b[0m\u001b[0;34m)\u001b[0m \u001b[0;34m>\u001b[0m \u001b[0;36m2\u001b[0m \u001b[0;32mand\u001b[0m \u001b[0my\u001b[0m \u001b[0;34m!=\u001b[0m \u001b[0;36m0\u001b[0m\u001b[0;34m\u001b[0m\u001b[0;34m\u001b[0m\u001b[0m\n\u001b[0m",
            "\u001b[0;31mZeroDivisionError\u001b[0m: division by zero"
          ]
        }
      ]
    },
    {
      "cell_type": "markdown",
      "source": [
        "En la primera expresión lógica, **x >= 2** es **falsa**, así que la evaluación se detiene\n",
        "en el **and**. En la segunda expresión lógica, **x >= 2** es **verdadera**, pero **y != 0** es **falsa**, de modo que nunca se alcanza **(x/y)**.\n",
        "\n",
        "En la tercera expresión lógica, el **y != 0** va después del cálculo de **(x/y)**, de modoque la expresión falla con un error.\n",
        "\n",
        "En la segunda expresión, se dice que **y != 0** actúa como guardián para garantizar\n",
        "que sólo se ejecute **(x/y)** en el caso de que y no sea cero."
      ],
      "metadata": {
        "id": "ayAxF5GRqmYc"
      }
    },
    {
      "cell_type": "markdown",
      "source": [
        "###Depuración"
      ],
      "metadata": {
        "id": "A5FFlsDwrDht"
      }
    },
    {
      "cell_type": "markdown",
      "source": [
        "Los “traceback” que Python muestra cuando se produce un error contienen un\n",
        "montón de información, pero pueden resultar abrumadores. Las partes más útiles\n",
        "normalmente son:\n",
        "\n",
        "*   Qué tipo de error se ha producido, y\n",
        "*   Dónde ha ocurrido.\n",
        "\n",
        "Los errores de sintaxis (syntax errors), normalmente son fáciles de localizar, pero a veces tienen trampa. Los errores debido a espacios en blanco pueden ser complicados, ya que los espacios y las tabulaciones son invisibles, y solemos ignorarlos."
      ],
      "metadata": {
        "id": "HvOw8pVErMC1"
      }
    },
    {
      "cell_type": "code",
      "source": [
        "x=5\n",
        "  y=6"
      ],
      "metadata": {
        "id": "9RU2xeFzraMI",
        "outputId": "eda4abba-7b89-4d55-b783-c6969bfd9044",
        "colab": {
          "base_uri": "https://localhost:8080/",
          "height": 135
        }
      },
      "execution_count": null,
      "outputs": [
        {
          "output_type": "error",
          "ename": "IndentationError",
          "evalue": "ignored",
          "traceback": [
            "\u001b[0;36m  File \u001b[0;32m\"<ipython-input-17-48b714821a85>\"\u001b[0;36m, line \u001b[0;32m2\u001b[0m\n\u001b[0;31m    y=6\u001b[0m\n\u001b[0m    ^\u001b[0m\n\u001b[0;31mIndentationError\u001b[0m\u001b[0;31m:\u001b[0m unexpected indent\n"
          ]
        }
      ]
    },
    {
      "cell_type": "markdown",
      "source": [
        "En este ejemplo, el problema es que la segunda línea está indentada por un espacio.\n",
        "Pero el mensaje de error apunta a y, lo cual resulta engañoso. En general, los\n",
        "mensajes de error indican dónde se ha descubierto el problema, pero el error real\n",
        "podría estar en el código previo, a veces en alguna línea anterior.\n",
        "\n",
        "En general, los mensajes de error te dicen dónde se ha descubierto el problema,\n",
        "pero a menudo no es ahí exactamente donde se ha producido."
      ],
      "metadata": {
        "id": "rhtXdnKXrlxa"
      }
    },
    {
      "cell_type": "code",
      "source": [],
      "metadata": {
        "id": "ivESnT2HP6rR"
      },
      "execution_count": null,
      "outputs": []
    },
    {
      "cell_type": "markdown",
      "source": [
        "###Ejercicios"
      ],
      "metadata": {
        "id": "XTDSXVQ3jF9V"
      }
    },
    {
      "cell_type": "markdown",
      "source": [
        "Ejercicio del capitulo 2: Escribe un programa para pedirle al usuario el número de\n",
        "horas y la tarifa por hora para calcular el salario bruto.\n",
        "Introduzca Horas: 35\n",
        "Introduzca Tarifa: 2.75\n",
        "Salario: 96.25\n"
      ],
      "metadata": {
        "id": "Xt6d3HkBs49u"
      }
    },
    {
      "cell_type": "code",
      "source": [
        "tarifa = float(input(\"ingrese la tarifa\"))\n",
        "horas = int(input(\"ingrese la cantidad de horas trabajadas\"))\n",
        "salario= tarifa * horas\n",
        "print(salario,\"$\")"
      ],
      "metadata": {
        "id": "se9NrbcOtAly"
      },
      "execution_count": null,
      "outputs": []
    },
    {
      "cell_type": "markdown",
      "source": [
        "Ejercicio 1: Reescribe el programa del cálculo del salario para darle al empleado 1.5 veces la tarifa horaria para todas las horas trabajadas que excedan de 40.\n",
        "Introduzca las Horas: 45\n",
        "Introduzca la Tarifa por hora: 10\n",
        "Salario: 475.0"
      ],
      "metadata": {
        "id": "4KNwMN2dRPvS"
      }
    },
    {
      "cell_type": "code",
      "source": [
        "tarifa =input(\"ingrese la tarifa (solo numeros): \")\n",
        "horas = input(\"ingrese la cantidad de horas trabajadas(solo numeros): \")\n",
        "\n",
        "tarifa=float(tarifa)\n",
        "horas=int(horas)\n",
        "if horas>40:\n",
        "  extras=horas-40\n",
        "  salario= tarifa * 1.5 * extras + 40 * tarifa\n",
        "else:\n",
        "  salario= tarifa * horas\n",
        "print(\"el salario seria: \",salario,\"$\")\n",
        "\n",
        ""
      ],
      "metadata": {
        "id": "ujh0vXiHbsHA",
        "outputId": "85b3d26d-5dfe-4edb-833d-c834be520150",
        "colab": {
          "base_uri": "https://localhost:8080/"
        }
      },
      "execution_count": 2,
      "outputs": [
        {
          "output_type": "stream",
          "name": "stdout",
          "text": [
            "ingrese la tarifa (solo numeros): 1500\n",
            "ingrese la cantidad de horas trabajadas(solo numeros): 50\n",
            "el salario seria:  82500.0 $\n"
          ]
        }
      ]
    },
    {
      "cell_type": "markdown",
      "source": [
        "Ejercicio 2: Reescribe el programa del salario usando try y except, de modo que el\n",
        "programa sea capaz de gestionar entradas no numéricas con elegancia, mostrando\n",
        "un mensaje y saliendo del programa. A continuación se muestran dos ejecuciones\n",
        "del programa:\n",
        "\n",
        "\n",
        "```\n",
        "Introduzca las Horas: 20\n",
        "Introduzca la Tarifa por hora: nueve\n",
        "Error, por favor introduzca un número\n",
        "\n",
        "\n",
        "Introduzca las Horas: cuarenta\n",
        "Error, por favor introduzca un número\n",
        "```\n"
      ],
      "metadata": {
        "id": "ZS47iKYZsXXY"
      }
    },
    {
      "cell_type": "code",
      "source": [
        "tarifa =input(\"ingrese la tarifa (solo numeros): \")\n",
        "horas = input(\"ingrese la cantidad de horas trabajadas(solo numeros): \")\n",
        "try:\n",
        "  tarifa=float(tarifa)\n",
        "  horas=int(horas)\n",
        "  if horas>40:\n",
        "    extras=horas-40\n",
        "    salario= tarifa * 1.5 * extras + 40 * tarifa\n",
        "  else:\n",
        "    salario= tarifa * horas\n",
        "  print(\"el salario seria: \",salario,\"$\")\n",
        "except:\n",
        "  print(\"hacelo bien mamerto\")\n"
      ],
      "metadata": {
        "colab": {
          "base_uri": "https://localhost:8080/"
        },
        "id": "S_D8ysfRRVLh",
        "outputId": "3d896ce9-7ae6-4ffe-e5c0-dd22396fd458"
      },
      "execution_count": null,
      "outputs": [
        {
          "output_type": "stream",
          "name": "stdout",
          "text": [
            "ingrese la tarifa (solo numeros): 2000\n",
            "ingrese la cantidad de horas trabajadas(solo numeros): 80\n",
            "el salario seria:  200000.0 $\n"
          ]
        }
      ]
    },
    {
      "cell_type": "markdown",
      "source": [
        "Ejercicio 3: Escribe un programa que solicite una puntuación entre 0.0 y 1.0. Si la\n",
        "puntuación está fuera de ese rango, muestra un mensaje de error. Si la puntuación\n",
        "está entre 0.0 y 1.0, muestra la calificación usando la tabla siguiente:\n",
        "\n",
        "Puntuación Calificación\n",
        "\n",
        "\\>= 0.9 Sobresaliente\n",
        "\n",
        "\\>= 0.8 Notable\n",
        "\n",
        "\\>= 0.7 Bien\n",
        "\n",
        "\\>= 0.6 Suficiente\n",
        "\n",
        "\\< 0.6 Insuficiente\n",
        "\n",
        "\n",
        "\n",
        "```\n",
        "Introduzca puntuación: 0.95\n",
        "Sobresaliente\n",
        "\n",
        "Introduzca puntuación: perfecto\n",
        "Puntuación incorrecta\n",
        "\n",
        "Introduzca puntuación: 10.0\n",
        "Puntuación incorrecta\n",
        "\n",
        "Introduzca puntuación: 0.75\n",
        "Bien\n",
        "\n",
        "Introduzca puntuación: 0.5\n",
        "Insuficiente\n",
        "```\n",
        "\n",
        "Ejecuta el programa repetidamente, como se muestra arriba, para probar con varios valores de entrada diferentes.\n"
      ],
      "metadata": {
        "id": "fWoe8dkesp0U"
      }
    },
    {
      "cell_type": "code",
      "source": [],
      "metadata": {
        "id": "CaBIqJMxtYcM"
      },
      "execution_count": null,
      "outputs": []
    }
  ]
}