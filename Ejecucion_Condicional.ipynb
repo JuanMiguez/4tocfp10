{
  "nbformat": 4,
  "nbformat_minor": 0,
  "metadata": {
    "colab": {
      "provenance": [],
      "authorship_tag": "ABX9TyMRV+L9ORer0J5ARsEOTvUR",
      "include_colab_link": true
    },
    "kernelspec": {
      "name": "python3",
      "display_name": "Python 3"
    },
    "language_info": {
      "name": "python"
    }
  },
  "cells": [
    {
      "cell_type": "markdown",
      "metadata": {
        "id": "view-in-github",
        "colab_type": "text"
      },
      "source": [
        "<a href=\"https://colab.research.google.com/github/JuanMiguez/4tocfp10/blob/main/Ejecucion_Condicional.ipynb\" target=\"_parent\"><img src=\"https://colab.research.google.com/assets/colab-badge.svg\" alt=\"Open In Colab\"/></a>"
      ]
    },
    {
      "cell_type": "markdown",
      "source": [
        "Ejercicio 3: Escribe un programa para pedirle al usuario el número de\n",
        "horas y la tarifa por hora para calcular el salario bruto.\n",
        "Introduzca Horas: 35\n",
        "Introduzca Tarifa: 2.75\n",
        "Salario: 96.25\n"
      ],
      "metadata": {
        "id": "Xt6d3HkBs49u"
      }
    },
    {
      "cell_type": "code",
      "source": [
        "tarifa = float(input(\"ingrese la tarifa\"))\n",
        "horas = int(input(\"ingrese la cantidad de horas trabajadas\"))\n",
        "salario= tarifa * horas\n",
        "print(salario,\"$\")"
      ],
      "metadata": {
        "id": "se9NrbcOtAly"
      },
      "execution_count": null,
      "outputs": []
    },
    {
      "cell_type": "code",
      "source": [
        "5==6"
      ],
      "metadata": {
        "colab": {
          "base_uri": "https://localhost:8080/"
        },
        "id": "Zs3GsUZY-vw1",
        "outputId": "221bc38d-7a25-4725-8a16-079f90fbacb5"
      },
      "execution_count": 2,
      "outputs": [
        {
          "output_type": "execute_result",
          "data": {
            "text/plain": [
              "False"
            ]
          },
          "metadata": {},
          "execution_count": 2
        }
      ]
    },
    {
      "cell_type": "code",
      "source": [
        "5==5"
      ],
      "metadata": {
        "colab": {
          "base_uri": "https://localhost:8080/"
        },
        "id": "rPOZnyNt-qJY",
        "outputId": "08964531-a35a-48e6-b3fa-386c0d6655ab"
      },
      "execution_count": 1,
      "outputs": [
        {
          "output_type": "execute_result",
          "data": {
            "text/plain": [
              "True"
            ]
          },
          "metadata": {},
          "execution_count": 1
        }
      ]
    },
    {
      "cell_type": "code",
      "source": [
        "type(True)"
      ],
      "metadata": {
        "colab": {
          "base_uri": "https://localhost:8080/"
        },
        "id": "bJ9fM4yj-183",
        "outputId": "d1ce0fca-2db2-4b24-ba33-9d7b1675435d"
      },
      "execution_count": 3,
      "outputs": [
        {
          "output_type": "execute_result",
          "data": {
            "text/plain": [
              "bool"
            ]
          },
          "metadata": {},
          "execution_count": 3
        }
      ]
    },
    {
      "cell_type": "code",
      "execution_count": null,
      "metadata": {
        "colab": {
          "base_uri": "https://localhost:8080/"
        },
        "id": "xfZcjXsub9wo",
        "outputId": "1b2971e2-93a2-4a3e-cb98-40f28d0db260"
      },
      "outputs": [
        {
          "output_type": "stream",
          "name": "stdout",
          "text": [
            "antes de 5\n",
            "es 5\n",
            "sigue siendo 5\n",
            "tercer 5\n",
            "despues de 5\n",
            "antes de 6\n",
            "despues de 6\n"
          ]
        }
      ],
      "source": [
        "x=5\n",
        "print(\"antes de 5\")\n",
        "if x==5:\n",
        "  print(\"es 5\")\n",
        "  print(\"sigue siendo 5\")\n",
        "  print(\"tercer 5\")\n",
        "print(\"despues de 5\")\n",
        "print(\"antes de 6\")\n",
        "if x==6:\n",
        "  print(\"es 6\")\n",
        "  print(\"sigue siendo 6\")\n",
        "  print(\"tercer 6\")\n",
        "print(\"despues de 6\")\n"
      ]
    },
    {
      "cell_type": "code",
      "source": [
        "\n"
      ],
      "metadata": {
        "id": "e9uVjXqOivYu"
      },
      "execution_count": null,
      "outputs": []
    },
    {
      "cell_type": "code",
      "source": [
        "x=5\n",
        "if x>2:\n",
        "  print(\"mayor que 2\")\n",
        "  print('sigue siendo mayor')\n",
        "print('terminado con 2')\n",
        "for i in range(5):\n",
        "  print(i)\n",
        "  if i>2:\n",
        "    print('mayor que 2')\n",
        "  print('terminado con i', i)\n",
        "print('todo terminado')"
      ],
      "metadata": {
        "id": "_JGiYCFhip_k",
        "colab": {
          "base_uri": "https://localhost:8080/"
        },
        "outputId": "be2ce163-0e98-4b35-ddec-a2dec686a015"
      },
      "execution_count": null,
      "outputs": [
        {
          "output_type": "stream",
          "name": "stdout",
          "text": [
            "mayor que 2\n",
            "sigue siendo mayor\n",
            "terminado con 2\n",
            "0\n",
            "terminado con i 0\n",
            "1\n",
            "terminado con i 1\n",
            "2\n",
            "terminado con i 2\n",
            "3\n",
            "mayor que 2\n",
            "terminado con i 3\n",
            "4\n",
            "mayor que 2\n",
            "terminado con i 4\n",
            "todo terminado\n"
          ]
        }
      ]
    },
    {
      "cell_type": "code",
      "source": [
        "x= int(input(\"ingrese un numero entero\"))\n",
        "if x<10:\n",
        "  print(\"el numero es menor a 10\")\n",
        "elif x < 2:\n",
        "  print(\"el numero es menor a 2\")\n",
        "else:\n",
        "  print(\"el numero es mayor a 10\")\n",
        "print(\"finish him\")\n",
        "\n"
      ],
      "metadata": {
        "colab": {
          "base_uri": "https://localhost:8080/"
        },
        "id": "FCkhXx-wjw6B",
        "outputId": "14614d0a-6da6-41a2-e8d5-934d0c6f0219"
      },
      "execution_count": null,
      "outputs": [
        {
          "output_type": "stream",
          "name": "stdout",
          "text": [
            "ingrese un numero entero1\n",
            "el numero es menor a 10\n",
            "finish him\n"
          ]
        }
      ]
    },
    {
      "cell_type": "markdown",
      "source": [
        "convertidor de temperatyura sin control de errores"
      ],
      "metadata": {
        "id": "lVB1WWBeIUOO"
      }
    },
    {
      "cell_type": "code",
      "source": [
        "ent = input('Introduzca la Temperatura Fahrenheit:')\n",
        "fahr = float(ent)\n",
        "cel = (fahr - 32.0) * 5.0 / 9.0\n",
        "print(cel)"
      ],
      "metadata": {
        "id": "J3NPI8w7xwy_"
      },
      "execution_count": null,
      "outputs": []
    },
    {
      "cell_type": "markdown",
      "source": [
        "usando try / except\n"
      ],
      "metadata": {
        "id": "_DAvqwW5IPTm"
      }
    },
    {
      "cell_type": "code",
      "source": [
        "ent = input('Introduzca la Temperatura Fahrenheit:')\n",
        "try:\n",
        "  fahr = float(ent)\n",
        "  cel = (fahr - 32.0) * 5.0 / 9.0\n",
        "  print(cel)\n",
        "except:\n",
        "  print('bobo, introduzca un número. dale de nuevo, bobo')"
      ],
      "metadata": {
        "colab": {
          "base_uri": "https://localhost:8080/"
        },
        "id": "hCF7RTqaIOGU",
        "outputId": "729ef151-8448-47ae-f2a2-e5b76d8a1f31"
      },
      "execution_count": 11,
      "outputs": [
        {
          "output_type": "stream",
          "name": "stdout",
          "text": [
            "Introduzca la Temperatura Fahrenheit:jnhfgdjnkdfg\n",
            "bobo, introduzca un número dale de nuevo, bobo\n"
          ]
        }
      ]
    },
    {
      "cell_type": "code",
      "source": [
        "import math\n",
        "int_senal = 9\n",
        "int_ruido = 10\n",
        "relacion = int_senal / int_ruido\n",
        "decibelios = 10 * math.log10(relacion)\n",
        "print(decibelios)"
      ],
      "metadata": {
        "colab": {
          "base_uri": "https://localhost:8080/"
        },
        "id": "g6BU3Uu-InUP",
        "outputId": "7789e401-ec4b-427f-fef7-ed8c096a6796"
      },
      "execution_count": 12,
      "outputs": [
        {
          "output_type": "stream",
          "name": "stdout",
          "text": [
            "-0.4575749056067512\n"
          ]
        }
      ]
    },
    {
      "cell_type": "code",
      "source": [],
      "metadata": {
        "id": "ivESnT2HP6rR"
      },
      "execution_count": null,
      "outputs": []
    },
    {
      "cell_type": "markdown",
      "source": [
        "## Ejercicios\n",
        "###Ejercicio 1: Reescribe el programa del cálculo del salario para darle al empleado\n",
        "1.5 veces la tarifa horaria para todas las horas trabajadas que excedan de 40.\n",
        "Introduzca las Horas: 45\n",
        "Introduzca la Tarifa por hora: 10\n",
        "Salario: 475.0"
      ],
      "metadata": {
        "id": "4KNwMN2dRPvS"
      }
    },
    {
      "cell_type": "code",
      "source": [
        "tarifa = float(input(\"ingrese la tarifa\"))\n",
        "horas = int(input(\"ingrese la cantidad de horas trabajadas\"))\n",
        "salario= tarifa * horas\n",
        "print(salario,\"$\")"
      ],
      "metadata": {
        "id": "S_D8ysfRRVLh"
      },
      "execution_count": null,
      "outputs": []
    }
  ]
}